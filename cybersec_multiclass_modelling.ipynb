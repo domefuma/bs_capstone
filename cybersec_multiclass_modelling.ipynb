{
 "cells": [
  {
   "cell_type": "markdown",
   "id": "77757b08-9255-453b-a09d-514dd7886169",
   "metadata": {},
   "source": [
    "# SPRINT 3\n",
    "\n",
    "With sprint 2 we were able to develop a very accurate binary  classifier. The aim of sprint 3 is the following: develop a multiclass classifier capable of identifying the kind of cyberattack taking place.\n",
    "\n",
    "We have 5 types of Recon Attacks in our dataset.\n",
    "\n",
    "- *Ping Sweep Attack*: This method involves sending ICMP Echo Request messages to multiple IP addresses within a network to identify which devices are active based on the ICMP Echo Replies received.\n",
    "\n",
    "- *OS Scan Attack*: Also known as operating system fingerprinting, this attack aims to determine the type and version of operating systems running on networked devices through packet response analysis or observing the behavior of open ports and services.\n",
    "\n",
    "- *Vulnerability Scan*: This involves the use of automated tools to detect security weaknesses in computer systems or networks, identifying vulnerabilities that could be exploited by attackers.\n",
    "\n",
    "- *Port Scan Attack*: By sending packets to various ports on a targeted host and analyzing the responses, attackers can identify which ports are open, closed, or filtered, revealing potential entry points into the system.\n",
    "\n",
    "- *Host Discovery*: This is the process of identifying active devices on a network by using different techniques to enumerate the IP addresses of connected devices, serving as a foundational step in many cyber attacks.\n",
    "\n",
    "\n",
    "The notebook is divided in three sections.\n",
    "\n",
    "- **Load the data and process it**: same steps as before with one change, our y column. It will keep all of the cyberattack types without aggregation into binary classes.\n",
    "- **From binary to Multiclass**: In this section I will experiment many different options for our multiclass classifier. I will investigate how accurate it can be by employing a two staged model and try two different ways to do it."
   ]
  },
  {
   "cell_type": "markdown",
   "id": "c7983157",
   "metadata": {},
   "source": [
    "## Load data and process it"
   ]
  },
  {
   "cell_type": "code",
   "execution_count": 49,
   "id": "33a3352b-cae4-4245-bcd1-5ab6cf074118",
   "metadata": {},
   "outputs": [],
   "source": [
    "import numpy as np\n",
    "import pandas as pd\n",
    "import seaborn as sns\n",
    "import matplotlib.pyplot as plt\n",
    "import os\n",
    "import pickle\n",
    "import seaborn as sns\n",
    "import matplotlib.pyplot as plt\n",
    "from sklearn.model_selection import train_test_split\n",
    "from sklearn.preprocessing import StandardScaler, FunctionTransformer, LabelEncoder\n",
    "from sklearn.compose import ColumnTransformer\n",
    "from sklearn.metrics import classification_report, confusion_matrix, make_scorer, precision_score, ConfusionMatrixDisplay, accuracy_score, roc_curve, roc_auc_score\n",
    "from sklearn.decomposition import TruncatedSVD\n",
    "from sklearn.linear_model import LogisticRegression\n",
    "from sklearn.tree import DecisionTreeClassifier\n",
    "from sklearn.ensemble import RandomForestClassifier\n",
    "from xgboost import XGBClassifier\n",
    "from imblearn.over_sampling import SMOTE\n",
    "from imblearn.under_sampling import RandomUnderSampler\n",
    "from imblearn.pipeline import Pipeline as imbpipeline\n",
    "from sklearn.model_selection import GridSearchCV\n",
    "from scipy import stats\n",
    "from sklearn.ensemble import AdaBoostClassifier\n",
    "\n"
   ]
  },
  {
   "cell_type": "markdown",
   "id": "cb173cd4-f19d-436a-8ed2-186fc0c3fbf4",
   "metadata": {},
   "source": [
    "### Extracting the relevant data from csv files\n",
    "\n",
    "\n",
    "Now, we know from previous exploration that we have 34 labels. For EDA purposes we should remap them in 5 kinds:\n",
    "\n",
    "- Benign Traffic\n",
    "- DDoS attacks\n",
    "- DoS attacks\n",
    "- Mirai attacks\n",
    "- Spoofing attacks\n",
    "- Web attacks\n",
    "- Brute Force attacks\n",
    "- Recon attacks\n",
    "\n",
    "The following table breaks down the categories:\n",
    "\n",
    "| Attack Category    | Attack Objective                                  | Entry Points                | Expected Network Traffic Change |\n",
    "|--------------------|---------------------------------------------------|-----------------------------|---------------------------------|\n",
    "| Benign Traffic     | Normal network operations                         | Various                     | No significant change          |\n",
    "| DDoS Attacks       | Disrupt service by overwhelming resources         | Network interfaces          | Significant increase           |\n",
    "| DoS Attacks        | Disrupt service to a server or network            | Network interfaces          | Sudden spike or drop           |\n",
    "| Mirai Attacks      | Exploit IoT devices for large-scale attacks       | IoT devices                 | Varied, often increased        |\n",
    "| Spoofing Attacks   | Impersonate devices or users                      | Network interfaces, devices | Varied, potential increase     |\n",
    "| Web Attacks        | Exploit web services vulnerabilities              | Web servers, applications   | Varied, often targeted         |\n",
    "| Brute Force Attacks| Crack passwords through trial and error          | Authentication systems      | Varied, often increased        |\n",
    "| Recon Attacks      | Gather information about network and vulnerabilities | Network scanning, probing | Minor, but patterned increase  |\n"
   ]
  },
  {
   "cell_type": "markdown",
   "id": "6e16ee9d-00c8-479c-af06-b0a84de49717",
   "metadata": {},
   "source": [
    "We know from the litterature on the dataset that previous modelling attempts were very good at detecting DDoS and DoS attacks.\n",
    "\n",
    "This is why we focus on Recon attacks.\n",
    "\n",
    "To do so we have to extract relevant data from the 126 .csv files and create a single data frame.\n",
    "\n",
    "Let's first take a sample from these:"
   ]
  },
  {
   "cell_type": "code",
   "execution_count": 3,
   "id": "44c1caf0-6edc-4c9a-ba4b-857cb960aace",
   "metadata": {
    "tags": []
   },
   "outputs": [
    {
     "data": {
      "text/plain": [
       "Index(['flow_duration', 'Header_Length', 'Protocol Type', 'Duration', 'Rate',\n",
       "       'Srate', 'Drate', 'fin_flag_number', 'syn_flag_number',\n",
       "       'rst_flag_number', 'psh_flag_number', 'ack_flag_number',\n",
       "       'ece_flag_number', 'cwr_flag_number', 'ack_count', 'syn_count',\n",
       "       'fin_count', 'urg_count', 'rst_count', 'HTTP', 'HTTPS', 'DNS', 'Telnet',\n",
       "       'SMTP', 'SSH', 'IRC', 'TCP', 'UDP', 'DHCP', 'ARP', 'ICMP', 'IPv', 'LLC',\n",
       "       'Tot sum', 'Min', 'Max', 'AVG', 'Std', 'Tot size', 'IAT', 'Number',\n",
       "       'Magnitue', 'Radius', 'Covariance', 'Variance', 'Weight', 'label'],\n",
       "      dtype='object')"
      ]
     },
     "execution_count": 3,
     "metadata": {},
     "output_type": "execute_result"
    }
   ],
   "source": [
    "# Creating list of csv files \n",
    "directory = r\"C:\\Users\\dfuma\\Documents\\cybersec_cap\\data\\wataiData\\csv\\CICIoT2023\"\n",
    "csv_files = [os.path.join(directory, file) for file in os.listdir(directory) if file.endswith('.csv')]\n",
    "\n",
    "# Taking one sample\n",
    "sample_df = pd.read_csv(r\"C:\\Users\\dfuma\\Documents\\cybersec_cap\\data\\wataiData\\csv\\CICIoT2023\\part-00000-363d1ba3-8ab5-4f96-bc25-4d5862db7cb9-c000.csv\")\n",
    "sample_df.columns"
   ]
  },
  {
   "cell_type": "markdown",
   "id": "0088cbe7-df6c-4c82-9c21-741a616ca919",
   "metadata": {},
   "source": [
    "Now we have to make sure the data types will stay the same while we append each chunk to the combined data frame."
   ]
  },
  {
   "cell_type": "code",
   "execution_count": 4,
   "id": "b83af0c2-b11f-4120-851a-f725b9c7c251",
   "metadata": {
    "tags": []
   },
   "outputs": [
    {
     "data": {
      "text/plain": [
       "{'flow_duration': 'float64',\n",
       " 'Header_Length': 'float64',\n",
       " 'Protocol Type': 'float64',\n",
       " 'Duration': 'float64',\n",
       " 'Rate': 'float64',\n",
       " 'Srate': 'float64',\n",
       " 'Drate': 'float64',\n",
       " 'fin_flag_number': 'float64',\n",
       " 'syn_flag_number': 'float64',\n",
       " 'rst_flag_number': 'float64',\n",
       " 'psh_flag_number': 'float64',\n",
       " 'ack_flag_number': 'float64',\n",
       " 'ece_flag_number': 'float64',\n",
       " 'cwr_flag_number': 'float64',\n",
       " 'ack_count': 'float64',\n",
       " 'syn_count': 'float64',\n",
       " 'fin_count': 'float64',\n",
       " 'urg_count': 'float64',\n",
       " 'rst_count': 'float64',\n",
       " 'HTTP': 'float64',\n",
       " 'HTTPS': 'float64',\n",
       " 'DNS': 'float64',\n",
       " 'Telnet': 'float64',\n",
       " 'SMTP': 'float64',\n",
       " 'SSH': 'float64',\n",
       " 'IRC': 'float64',\n",
       " 'TCP': 'float64',\n",
       " 'UDP': 'float64',\n",
       " 'DHCP': 'float64',\n",
       " 'ARP': 'float64',\n",
       " 'ICMP': 'float64',\n",
       " 'IPv': 'float64',\n",
       " 'LLC': 'float64',\n",
       " 'Tot sum': 'float64',\n",
       " 'Min': 'float64',\n",
       " 'Max': 'float64',\n",
       " 'AVG': 'float64',\n",
       " 'Std': 'float64',\n",
       " 'Tot size': 'float64',\n",
       " 'IAT': 'float64',\n",
       " 'Number': 'float64',\n",
       " 'Magnitue': 'float64',\n",
       " 'Radius': 'float64',\n",
       " 'Covariance': 'float64',\n",
       " 'Variance': 'float64',\n",
       " 'Weight': 'float64',\n",
       " 'label': 'object'}"
      ]
     },
     "execution_count": 4,
     "metadata": {},
     "output_type": "execute_result"
    }
   ],
   "source": [
    "# Create dictionary with column and data type\n",
    "d_types = {k: v.name for k, v in zip(sample_df.columns,sample_df.dtypes)}\n",
    "\n",
    "d_types"
   ]
  },
  {
   "cell_type": "markdown",
   "id": "f8bbdd66-4e33-4182-9eeb-3a55de6123c6",
   "metadata": {},
   "source": [
    "Now let's use this data type read each csv. Subsequently we will filter on the labels that we need: those whith benign traffic and those with the 5 kinds of recon attacks."
   ]
  },
  {
   "cell_type": "code",
   "execution_count": 5,
   "id": "ee11d978-447d-457e-807a-0696d854e55e",
   "metadata": {},
   "outputs": [],
   "source": [
    "# Initialize empty df\n",
    "combined_df = pd.DataFrame()\n",
    "\n",
    "\n",
    "# List the labels that we need from each csv file\n",
    "labels_select = ['Recon-PingSweep', 'Recon-OSScan', 'Recon-PortScan', 'VulnerabilityScan', 'Recon-HostDiscovery', 'BenignTraffic']\n",
    "\n",
    "# Loop over the list of csv file\n",
    "for file_path in csv_files:\n",
    "    df = pd.read_csv(file_path, dtype=d_types, low_memory=False) # read the data with d_types\n",
    "\n",
    "    # Filter based on the selected labels\n",
    "    filtered_df = df[df['label'].isin(labels_select)]\n",
    "\n",
    "    # append to combined_df\n",
    "    combined_df = pd.concat([combined_df, filtered_df], ignore_index=True)\n",
    "\n"
   ]
  },
  {
   "cell_type": "code",
   "execution_count": 6,
   "id": "2a218b95-df07-4bfc-9ad2-33f050f0d645",
   "metadata": {},
   "outputs": [
    {
     "name": "stdout",
     "output_type": "stream",
     "text": [
      "<class 'pandas.core.frame.DataFrame'>\n",
      "RangeIndex: 1452760 entries, 0 to 1452759\n",
      "Data columns (total 47 columns):\n",
      " #   Column           Non-Null Count    Dtype  \n",
      "---  ------           --------------    -----  \n",
      " 0   flow_duration    1452760 non-null  float64\n",
      " 1   Header_Length    1452760 non-null  float64\n",
      " 2   Protocol Type    1452760 non-null  float64\n",
      " 3   Duration         1452760 non-null  float64\n",
      " 4   Rate             1452760 non-null  float64\n",
      " 5   Srate            1452760 non-null  float64\n",
      " 6   Drate            1452760 non-null  float64\n",
      " 7   fin_flag_number  1452760 non-null  float64\n",
      " 8   syn_flag_number  1452760 non-null  float64\n",
      " 9   rst_flag_number  1452760 non-null  float64\n",
      " 10  psh_flag_number  1452760 non-null  float64\n",
      " 11  ack_flag_number  1452760 non-null  float64\n",
      " 12  ece_flag_number  1452760 non-null  float64\n",
      " 13  cwr_flag_number  1452760 non-null  float64\n",
      " 14  ack_count        1452760 non-null  float64\n",
      " 15  syn_count        1452760 non-null  float64\n",
      " 16  fin_count        1452760 non-null  float64\n",
      " 17  urg_count        1452760 non-null  float64\n",
      " 18  rst_count        1452760 non-null  float64\n",
      " 19  HTTP             1452760 non-null  float64\n",
      " 20  HTTPS            1452760 non-null  float64\n",
      " 21  DNS              1452760 non-null  float64\n",
      " 22  Telnet           1452760 non-null  float64\n",
      " 23  SMTP             1452760 non-null  float64\n",
      " 24  SSH              1452760 non-null  float64\n",
      " 25  IRC              1452760 non-null  float64\n",
      " 26  TCP              1452760 non-null  float64\n",
      " 27  UDP              1452760 non-null  float64\n",
      " 28  DHCP             1452760 non-null  float64\n",
      " 29  ARP              1452760 non-null  float64\n",
      " 30  ICMP             1452760 non-null  float64\n",
      " 31  IPv              1452760 non-null  float64\n",
      " 32  LLC              1452760 non-null  float64\n",
      " 33  Tot sum          1452760 non-null  float64\n",
      " 34  Min              1452760 non-null  float64\n",
      " 35  Max              1452760 non-null  float64\n",
      " 36  AVG              1452760 non-null  float64\n",
      " 37  Std              1452760 non-null  float64\n",
      " 38  Tot size         1452760 non-null  float64\n",
      " 39  IAT              1452760 non-null  float64\n",
      " 40  Number           1452760 non-null  float64\n",
      " 41  Magnitue         1452760 non-null  float64\n",
      " 42  Radius           1452760 non-null  float64\n",
      " 43  Covariance       1452760 non-null  float64\n",
      " 44  Variance         1452760 non-null  float64\n",
      " 45  Weight           1452760 non-null  float64\n",
      " 46  label            1452760 non-null  object \n",
      "dtypes: float64(46), object(1)\n",
      "memory usage: 520.9+ MB\n"
     ]
    }
   ],
   "source": [
    "# Check the result\n",
    "combined_df.info()"
   ]
  },
  {
   "cell_type": "code",
   "execution_count": 7,
   "id": "bf2eafa3-4617-4bbd-9c40-cf58ea271eab",
   "metadata": {},
   "outputs": [
    {
     "data": {
      "text/plain": [
       "1452760"
      ]
     },
     "execution_count": 7,
     "metadata": {},
     "output_type": "execute_result"
    }
   ],
   "source": [
    "# Check shape\n",
    "combined_df.shape[0]"
   ]
  },
  {
   "cell_type": "code",
   "execution_count": 8,
   "id": "4fd55f30-0b58-4165-94a9-6d97dc193542",
   "metadata": {},
   "outputs": [
    {
     "data": {
      "text/plain": [
       "flow_duration      0\n",
       "Header_Length      0\n",
       "Protocol Type      0\n",
       "Duration           0\n",
       "Rate               0\n",
       "Srate              0\n",
       "Drate              0\n",
       "fin_flag_number    0\n",
       "syn_flag_number    0\n",
       "rst_flag_number    0\n",
       "psh_flag_number    0\n",
       "ack_flag_number    0\n",
       "ece_flag_number    0\n",
       "cwr_flag_number    0\n",
       "ack_count          0\n",
       "syn_count          0\n",
       "fin_count          0\n",
       "urg_count          0\n",
       "rst_count          0\n",
       "HTTP               0\n",
       "HTTPS              0\n",
       "DNS                0\n",
       "Telnet             0\n",
       "SMTP               0\n",
       "SSH                0\n",
       "IRC                0\n",
       "TCP                0\n",
       "UDP                0\n",
       "DHCP               0\n",
       "ARP                0\n",
       "ICMP               0\n",
       "IPv                0\n",
       "LLC                0\n",
       "Tot sum            0\n",
       "Min                0\n",
       "Max                0\n",
       "AVG                0\n",
       "Std                0\n",
       "Tot size           0\n",
       "IAT                0\n",
       "Number             0\n",
       "Magnitue           0\n",
       "Radius             0\n",
       "Covariance         0\n",
       "Variance           0\n",
       "Weight             0\n",
       "label              0\n",
       "dtype: int64"
      ]
     },
     "execution_count": 8,
     "metadata": {},
     "output_type": "execute_result"
    }
   ],
   "source": [
    "# Check NAs, we expect 0\n",
    "combined_df.isna().sum()"
   ]
  },
  {
   "cell_type": "code",
   "execution_count": 9,
   "id": "9c86f9e3-d94a-4b33-a0d4-55c5f011d8ca",
   "metadata": {},
   "outputs": [
    {
     "data": {
      "text/plain": [
       "5"
      ]
     },
     "execution_count": 9,
     "metadata": {},
     "output_type": "execute_result"
    }
   ],
   "source": [
    "# Check for duplicates (we expect very few)\n",
    "combined_df.duplicated().sum()"
   ]
  },
  {
   "cell_type": "code",
   "execution_count": 10,
   "id": "266ef135-4b70-4d4b-b6f9-46be8bda726f",
   "metadata": {},
   "outputs": [],
   "source": [
    "# Remove duplicates: df\n",
    "df = combined_df.drop_duplicates()"
   ]
  },
  {
   "cell_type": "code",
   "execution_count": 13,
   "id": "a74143b5-597a-4a8c-b271-22e36c8a8077",
   "metadata": {},
   "outputs": [],
   "source": [
    "# Clear memory\n",
    "del combined_df\n",
    "del sample_df"
   ]
  },
  {
   "cell_type": "code",
   "execution_count": 14,
   "id": "a6e1f1f6-48f2-49d9-babc-189c37a61df4",
   "metadata": {},
   "outputs": [
    {
     "name": "stdout",
     "output_type": "stream",
     "text": [
      "<class 'pandas.core.frame.DataFrame'>\n",
      "Index: 1452755 entries, 0 to 1452759\n",
      "Data columns (total 47 columns):\n",
      " #   Column           Non-Null Count    Dtype  \n",
      "---  ------           --------------    -----  \n",
      " 0   flow_duration    1452755 non-null  float64\n",
      " 1   Header_Length    1452755 non-null  float64\n",
      " 2   Protocol Type    1452755 non-null  float64\n",
      " 3   Duration         1452755 non-null  float64\n",
      " 4   Rate             1452755 non-null  float64\n",
      " 5   Srate            1452755 non-null  float64\n",
      " 6   Drate            1452755 non-null  float64\n",
      " 7   fin_flag_number  1452755 non-null  float64\n",
      " 8   syn_flag_number  1452755 non-null  float64\n",
      " 9   rst_flag_number  1452755 non-null  float64\n",
      " 10  psh_flag_number  1452755 non-null  float64\n",
      " 11  ack_flag_number  1452755 non-null  float64\n",
      " 12  ece_flag_number  1452755 non-null  float64\n",
      " 13  cwr_flag_number  1452755 non-null  float64\n",
      " 14  ack_count        1452755 non-null  float64\n",
      " 15  syn_count        1452755 non-null  float64\n",
      " 16  fin_count        1452755 non-null  float64\n",
      " 17  urg_count        1452755 non-null  float64\n",
      " 18  rst_count        1452755 non-null  float64\n",
      " 19  HTTP             1452755 non-null  float64\n",
      " 20  HTTPS            1452755 non-null  float64\n",
      " 21  DNS              1452755 non-null  float64\n",
      " 22  Telnet           1452755 non-null  float64\n",
      " 23  SMTP             1452755 non-null  float64\n",
      " 24  SSH              1452755 non-null  float64\n",
      " 25  IRC              1452755 non-null  float64\n",
      " 26  TCP              1452755 non-null  float64\n",
      " 27  UDP              1452755 non-null  float64\n",
      " 28  DHCP             1452755 non-null  float64\n",
      " 29  ARP              1452755 non-null  float64\n",
      " 30  ICMP             1452755 non-null  float64\n",
      " 31  IPv              1452755 non-null  float64\n",
      " 32  LLC              1452755 non-null  float64\n",
      " 33  Tot sum          1452755 non-null  float64\n",
      " 34  Min              1452755 non-null  float64\n",
      " 35  Max              1452755 non-null  float64\n",
      " 36  AVG              1452755 non-null  float64\n",
      " 37  Std              1452755 non-null  float64\n",
      " 38  Tot size         1452755 non-null  float64\n",
      " 39  IAT              1452755 non-null  float64\n",
      " 40  Number           1452755 non-null  float64\n",
      " 41  Magnitue         1452755 non-null  float64\n",
      " 42  Radius           1452755 non-null  float64\n",
      " 43  Covariance       1452755 non-null  float64\n",
      " 44  Variance         1452755 non-null  float64\n",
      " 45  Weight           1452755 non-null  float64\n",
      " 46  label            1452755 non-null  object \n",
      "dtypes: float64(46), object(1)\n",
      "memory usage: 532.0+ MB\n"
     ]
    }
   ],
   "source": [
    "df.info()"
   ]
  },
  {
   "cell_type": "markdown",
   "id": "778c9810-bcf1-489e-8ad8-664d22866ed1",
   "metadata": {},
   "source": [
    "Now let's change the data types for better efficiency"
   ]
  },
  {
   "cell_type": "code",
   "execution_count": 15,
   "id": "ef272394-7f77-4ca6-8d3a-76f5e83076c8",
   "metadata": {},
   "outputs": [
    {
     "data": {
      "text/html": [
       "<div>\n",
       "<style scoped>\n",
       "    .dataframe tbody tr th:only-of-type {\n",
       "        vertical-align: middle;\n",
       "    }\n",
       "\n",
       "    .dataframe tbody tr th {\n",
       "        vertical-align: top;\n",
       "    }\n",
       "\n",
       "    .dataframe thead th {\n",
       "        text-align: right;\n",
       "    }\n",
       "</style>\n",
       "<table border=\"1\" class=\"dataframe\">\n",
       "  <thead>\n",
       "    <tr style=\"text-align: right;\">\n",
       "      <th></th>\n",
       "      <th>flow_duration</th>\n",
       "      <th>header_length</th>\n",
       "      <th>protocol_type</th>\n",
       "      <th>duration</th>\n",
       "      <th>rate</th>\n",
       "      <th>srate</th>\n",
       "      <th>drate</th>\n",
       "      <th>fin_flag_number</th>\n",
       "      <th>syn_flag_number</th>\n",
       "      <th>rst_flag_number</th>\n",
       "      <th>...</th>\n",
       "      <th>std</th>\n",
       "      <th>tot_size</th>\n",
       "      <th>iat</th>\n",
       "      <th>number</th>\n",
       "      <th>radius</th>\n",
       "      <th>covariance</th>\n",
       "      <th>variance</th>\n",
       "      <th>weight</th>\n",
       "      <th>label</th>\n",
       "      <th>magnitude</th>\n",
       "    </tr>\n",
       "  </thead>\n",
       "  <tbody>\n",
       "    <tr>\n",
       "      <th>0</th>\n",
       "      <td>37.887028</td>\n",
       "      <td>1687747</td>\n",
       "      <td>9.3</td>\n",
       "      <td>63.500000</td>\n",
       "      <td>34</td>\n",
       "      <td>34</td>\n",
       "      <td>0.0</td>\n",
       "      <td>False</td>\n",
       "      <td>False</td>\n",
       "      <td>False</td>\n",
       "      <td>...</td>\n",
       "      <td>332.122437</td>\n",
       "      <td>817.500000</td>\n",
       "      <td>5.235219e-03</td>\n",
       "      <td>5.5</td>\n",
       "      <td>469.692078</td>\n",
       "      <td>2.092362e+05</td>\n",
       "      <td>0.9</td>\n",
       "      <td>38.500000</td>\n",
       "      <td>BenignTraffic</td>\n",
       "      <td>24.333355</td>\n",
       "    </tr>\n",
       "    <tr>\n",
       "      <th>1</th>\n",
       "      <td>48.272385</td>\n",
       "      <td>128041</td>\n",
       "      <td>10.4</td>\n",
       "      <td>97.800003</td>\n",
       "      <td>39966</td>\n",
       "      <td>39966</td>\n",
       "      <td>0.0</td>\n",
       "      <td>False</td>\n",
       "      <td>False</td>\n",
       "      <td>False</td>\n",
       "      <td>...</td>\n",
       "      <td>694.907043</td>\n",
       "      <td>636.400024</td>\n",
       "      <td>1.665200e+08</td>\n",
       "      <td>13.5</td>\n",
       "      <td>983.968323</td>\n",
       "      <td>4.842123e+05</td>\n",
       "      <td>1.0</td>\n",
       "      <td>244.600006</td>\n",
       "      <td>BenignTraffic</td>\n",
       "      <td>36.393288</td>\n",
       "    </tr>\n",
       "    <tr>\n",
       "      <th>2</th>\n",
       "      <td>48.095661</td>\n",
       "      <td>101026</td>\n",
       "      <td>8.8</td>\n",
       "      <td>137.699997</td>\n",
       "      <td>13</td>\n",
       "      <td>13</td>\n",
       "      <td>0.0</td>\n",
       "      <td>False</td>\n",
       "      <td>False</td>\n",
       "      <td>False</td>\n",
       "      <td>...</td>\n",
       "      <td>1302.117188</td>\n",
       "      <td>919.299988</td>\n",
       "      <td>2.724581e-02</td>\n",
       "      <td>5.5</td>\n",
       "      <td>1841.471802</td>\n",
       "      <td>2.063959e+06</td>\n",
       "      <td>0.9</td>\n",
       "      <td>38.500000</td>\n",
       "      <td>BenignTraffic</td>\n",
       "      <td>47.214172</td>\n",
       "    </tr>\n",
       "    <tr>\n",
       "      <th>3</th>\n",
       "      <td>46.342407</td>\n",
       "      <td>1301464</td>\n",
       "      <td>4.8</td>\n",
       "      <td>168.300003</td>\n",
       "      <td>34</td>\n",
       "      <td>34</td>\n",
       "      <td>0.0</td>\n",
       "      <td>False</td>\n",
       "      <td>False</td>\n",
       "      <td>False</td>\n",
       "      <td>...</td>\n",
       "      <td>0.428562</td>\n",
       "      <td>64.800003</td>\n",
       "      <td>3.804951e-02</td>\n",
       "      <td>5.5</td>\n",
       "      <td>0.606078</td>\n",
       "      <td>9.315556e-01</td>\n",
       "      <td>0.2</td>\n",
       "      <td>38.500000</td>\n",
       "      <td>BenignTraffic</td>\n",
       "      <td>11.472816</td>\n",
       "    </tr>\n",
       "    <tr>\n",
       "      <th>4</th>\n",
       "      <td>88.807747</td>\n",
       "      <td>5290348</td>\n",
       "      <td>7.1</td>\n",
       "      <td>63.599998</td>\n",
       "      <td>61</td>\n",
       "      <td>61</td>\n",
       "      <td>0.0</td>\n",
       "      <td>False</td>\n",
       "      <td>False</td>\n",
       "      <td>False</td>\n",
       "      <td>...</td>\n",
       "      <td>101.938538</td>\n",
       "      <td>1227.300049</td>\n",
       "      <td>1.833391e-03</td>\n",
       "      <td>5.5</td>\n",
       "      <td>144.162857</td>\n",
       "      <td>5.276998e+04</td>\n",
       "      <td>0.2</td>\n",
       "      <td>38.500000</td>\n",
       "      <td>BenignTraffic</td>\n",
       "      <td>54.184532</td>\n",
       "    </tr>\n",
       "    <tr>\n",
       "      <th>...</th>\n",
       "      <td>...</td>\n",
       "      <td>...</td>\n",
       "      <td>...</td>\n",
       "      <td>...</td>\n",
       "      <td>...</td>\n",
       "      <td>...</td>\n",
       "      <td>...</td>\n",
       "      <td>...</td>\n",
       "      <td>...</td>\n",
       "      <td>...</td>\n",
       "      <td>...</td>\n",
       "      <td>...</td>\n",
       "      <td>...</td>\n",
       "      <td>...</td>\n",
       "      <td>...</td>\n",
       "      <td>...</td>\n",
       "      <td>...</td>\n",
       "      <td>...</td>\n",
       "      <td>...</td>\n",
       "      <td>...</td>\n",
       "      <td>...</td>\n",
       "    </tr>\n",
       "    <tr>\n",
       "      <th>1452755</th>\n",
       "      <td>0.732928</td>\n",
       "      <td>2250732</td>\n",
       "      <td>6.0</td>\n",
       "      <td>93.500000</td>\n",
       "      <td>2782</td>\n",
       "      <td>2782</td>\n",
       "      <td>0.0</td>\n",
       "      <td>False</td>\n",
       "      <td>False</td>\n",
       "      <td>False</td>\n",
       "      <td>...</td>\n",
       "      <td>836.076416</td>\n",
       "      <td>917.599976</td>\n",
       "      <td>8.809566e-05</td>\n",
       "      <td>5.5</td>\n",
       "      <td>1182.390625</td>\n",
       "      <td>8.859554e+05</td>\n",
       "      <td>0.8</td>\n",
       "      <td>38.500000</td>\n",
       "      <td>BenignTraffic</td>\n",
       "      <td>38.208549</td>\n",
       "    </tr>\n",
       "    <tr>\n",
       "      <th>1452756</th>\n",
       "      <td>13.401717</td>\n",
       "      <td>11497</td>\n",
       "      <td>6.0</td>\n",
       "      <td>59.200001</td>\n",
       "      <td>11</td>\n",
       "      <td>11</td>\n",
       "      <td>0.0</td>\n",
       "      <td>False</td>\n",
       "      <td>False</td>\n",
       "      <td>False</td>\n",
       "      <td>...</td>\n",
       "      <td>64.519730</td>\n",
       "      <td>108.199997</td>\n",
       "      <td>9.288311e-03</td>\n",
       "      <td>5.5</td>\n",
       "      <td>91.244675</td>\n",
       "      <td>4.696484e+03</td>\n",
       "      <td>0.9</td>\n",
       "      <td>38.500000</td>\n",
       "      <td>BenignTraffic</td>\n",
       "      <td>14.697835</td>\n",
       "    </tr>\n",
       "    <tr>\n",
       "      <th>1452757</th>\n",
       "      <td>9.528511</td>\n",
       "      <td>116067</td>\n",
       "      <td>12.6</td>\n",
       "      <td>82.699997</td>\n",
       "      <td>17</td>\n",
       "      <td>17</td>\n",
       "      <td>0.0</td>\n",
       "      <td>False</td>\n",
       "      <td>False</td>\n",
       "      <td>False</td>\n",
       "      <td>...</td>\n",
       "      <td>187.924698</td>\n",
       "      <td>337.500000</td>\n",
       "      <td>1.846900e-02</td>\n",
       "      <td>5.5</td>\n",
       "      <td>265.765656</td>\n",
       "      <td>6.190794e+04</td>\n",
       "      <td>0.9</td>\n",
       "      <td>38.500000</td>\n",
       "      <td>BenignTraffic</td>\n",
       "      <td>19.810381</td>\n",
       "    </tr>\n",
       "    <tr>\n",
       "      <th>1452758</th>\n",
       "      <td>16.250675</td>\n",
       "      <td>85094</td>\n",
       "      <td>8.8</td>\n",
       "      <td>103.400002</td>\n",
       "      <td>15</td>\n",
       "      <td>15</td>\n",
       "      <td>0.0</td>\n",
       "      <td>False</td>\n",
       "      <td>False</td>\n",
       "      <td>False</td>\n",
       "      <td>...</td>\n",
       "      <td>857.873474</td>\n",
       "      <td>105.800003</td>\n",
       "      <td>1.665168e+08</td>\n",
       "      <td>13.5</td>\n",
       "      <td>1215.209839</td>\n",
       "      <td>7.409860e+05</td>\n",
       "      <td>1.0</td>\n",
       "      <td>244.600006</td>\n",
       "      <td>BenignTraffic</td>\n",
       "      <td>34.988182</td>\n",
       "    </tr>\n",
       "    <tr>\n",
       "      <th>1452759</th>\n",
       "      <td>23.311707</td>\n",
       "      <td>47252</td>\n",
       "      <td>10.4</td>\n",
       "      <td>99.199997</td>\n",
       "      <td>108</td>\n",
       "      <td>108</td>\n",
       "      <td>0.0</td>\n",
       "      <td>False</td>\n",
       "      <td>False</td>\n",
       "      <td>False</td>\n",
       "      <td>...</td>\n",
       "      <td>57.363495</td>\n",
       "      <td>100.500000</td>\n",
       "      <td>1.308570e-02</td>\n",
       "      <td>5.5</td>\n",
       "      <td>81.124229</td>\n",
       "      <td>3.704945e+03</td>\n",
       "      <td>0.9</td>\n",
       "      <td>38.500000</td>\n",
       "      <td>BenignTraffic</td>\n",
       "      <td>14.255463</td>\n",
       "    </tr>\n",
       "  </tbody>\n",
       "</table>\n",
       "<p>1452755 rows × 47 columns</p>\n",
       "</div>"
      ],
      "text/plain": [
       "         flow_duration  header_length protocol_type    duration   rate  srate  \\\n",
       "0            37.887028        1687747           9.3   63.500000     34     34   \n",
       "1            48.272385         128041          10.4   97.800003  39966  39966   \n",
       "2            48.095661         101026           8.8  137.699997     13     13   \n",
       "3            46.342407        1301464           4.8  168.300003     34     34   \n",
       "4            88.807747        5290348           7.1   63.599998     61     61   \n",
       "...                ...            ...           ...         ...    ...    ...   \n",
       "1452755       0.732928        2250732           6.0   93.500000   2782   2782   \n",
       "1452756      13.401717          11497           6.0   59.200001     11     11   \n",
       "1452757       9.528511         116067          12.6   82.699997     17     17   \n",
       "1452758      16.250675          85094           8.8  103.400002     15     15   \n",
       "1452759      23.311707          47252          10.4   99.199997    108    108   \n",
       "\n",
       "         drate  fin_flag_number  syn_flag_number  rst_flag_number  ...  \\\n",
       "0          0.0            False            False            False  ...   \n",
       "1          0.0            False            False            False  ...   \n",
       "2          0.0            False            False            False  ...   \n",
       "3          0.0            False            False            False  ...   \n",
       "4          0.0            False            False            False  ...   \n",
       "...        ...              ...              ...              ...  ...   \n",
       "1452755    0.0            False            False            False  ...   \n",
       "1452756    0.0            False            False            False  ...   \n",
       "1452757    0.0            False            False            False  ...   \n",
       "1452758    0.0            False            False            False  ...   \n",
       "1452759    0.0            False            False            False  ...   \n",
       "\n",
       "                 std     tot_size           iat  number       radius  \\\n",
       "0         332.122437   817.500000  5.235219e-03     5.5   469.692078   \n",
       "1         694.907043   636.400024  1.665200e+08    13.5   983.968323   \n",
       "2        1302.117188   919.299988  2.724581e-02     5.5  1841.471802   \n",
       "3           0.428562    64.800003  3.804951e-02     5.5     0.606078   \n",
       "4         101.938538  1227.300049  1.833391e-03     5.5   144.162857   \n",
       "...              ...          ...           ...     ...          ...   \n",
       "1452755   836.076416   917.599976  8.809566e-05     5.5  1182.390625   \n",
       "1452756    64.519730   108.199997  9.288311e-03     5.5    91.244675   \n",
       "1452757   187.924698   337.500000  1.846900e-02     5.5   265.765656   \n",
       "1452758   857.873474   105.800003  1.665168e+08    13.5  1215.209839   \n",
       "1452759    57.363495   100.500000  1.308570e-02     5.5    81.124229   \n",
       "\n",
       "           covariance  variance      weight          label  magnitude  \n",
       "0        2.092362e+05       0.9   38.500000  BenignTraffic  24.333355  \n",
       "1        4.842123e+05       1.0  244.600006  BenignTraffic  36.393288  \n",
       "2        2.063959e+06       0.9   38.500000  BenignTraffic  47.214172  \n",
       "3        9.315556e-01       0.2   38.500000  BenignTraffic  11.472816  \n",
       "4        5.276998e+04       0.2   38.500000  BenignTraffic  54.184532  \n",
       "...               ...       ...         ...            ...        ...  \n",
       "1452755  8.859554e+05       0.8   38.500000  BenignTraffic  38.208549  \n",
       "1452756  4.696484e+03       0.9   38.500000  BenignTraffic  14.697835  \n",
       "1452757  6.190794e+04       0.9   38.500000  BenignTraffic  19.810381  \n",
       "1452758  7.409860e+05       1.0  244.600006  BenignTraffic  34.988182  \n",
       "1452759  3.704945e+03       0.9   38.500000  BenignTraffic  14.255463  \n",
       "\n",
       "[1452755 rows x 47 columns]"
      ]
     },
     "execution_count": 15,
     "metadata": {},
     "output_type": "execute_result"
    }
   ],
   "source": [
    "dtypes = {\n",
    "        'flow_duration': np.float32,\n",
    "        'Header_Length': np.uint32,\n",
    "        'Protocol Type': str,\n",
    "        'Duration': np.float32,\n",
    "        'Rate': np.uint32,\n",
    "        'Srate': np.uint32,\n",
    "        'Drate': np.float32,\n",
    "        'fin_flag_number': np.bool_,\n",
    "        'syn_flag_number': np.bool_,\n",
    "        'rst_flag_number': np.bool_,\n",
    "        'psh_flag_number': np.bool_,\n",
    "        'ack_flag_number': np.bool_,\n",
    "        'ece_flag_number': np.bool_,\n",
    "        'cwr_flag_number': np.bool_,\n",
    "        'ack_count': np.float16,\n",
    "        'syn_count': np.float16,\n",
    "        'fin_count': np.uint16,\n",
    "        'urg_count': np.uint16, \n",
    "        'rst_count': np.uint16, \n",
    "        'HTTP': np.bool_, \n",
    "        'HTTPS': np.bool_, \n",
    "        'DNS': np.bool_, \n",
    "        'Telnet': np.bool_,\n",
    "        'SMTP': np.bool_, \n",
    "        'SSH': np.bool_, \n",
    "        'IRC': np.bool_, \n",
    "        'TCP': np.bool_, \n",
    "        'UDP': np.bool_, \n",
    "        'DHCP': np.bool_, \n",
    "        'ARP': np.bool_, \n",
    "        'ICMP': np.bool_, \n",
    "        'IPv': np.bool_, \n",
    "        'LLC': np.bool_,\n",
    "        'Tot sum': np.float32, \n",
    "        'Min': np.float32, \n",
    "        'Max': np.float32, \n",
    "        'AVG': np.float32, \n",
    "        'Std': np.float32, \n",
    "        'Tot size': np.float32, \n",
    "        'IAT': np.float32, \n",
    "        'Number': np.float32,\n",
    "        'Magnitue': np.float32, \n",
    "        'Radius': np.float32, \n",
    "        'Covariance': np.float32, \n",
    "        'Variance': np.float32, \n",
    "        'Weight': np.float32, \n",
    "        'label': str\n",
    "    }\n",
    "\n",
    "# Define function to change data type and adjust formatting\n",
    "\n",
    "def convert_dtype(df):\n",
    "    # Adjust data type\n",
    "    for col,typ in dtypes.items():\n",
    "        df[col] = df[col].astype(typ)   \n",
    "    \n",
    "    # Format column names to lowercase snake\n",
    "    df.columns = df.columns.str.lower().str.replace(' ', '_')\n",
    "    \n",
    "    # Fix spelling error in original dataset\n",
    "    df['magnitude'] = df['magnitue']\n",
    "    return df.drop(['magnitue'], axis=1)\n",
    "\n",
    "\n",
    "# call the function\n",
    "convert_dtype(df)"
   ]
  },
  {
   "cell_type": "markdown",
   "id": "319f898b-c12c-499e-9f1e-224463bb6c83",
   "metadata": {},
   "source": [
    "In order to perform EDA we need change protocol types in a format that is human readable. Right now they are a float indicating the protocol type. We will turn that into an integer and apply a mapping with the description of the protocol type using IANA (Internet Assigned Numbers Authority) protocol numbers."
   ]
  },
  {
   "cell_type": "code",
   "execution_count": 17,
   "id": "d09fc21d-b4c3-4126-ada9-bc48000f0b90",
   "metadata": {},
   "outputs": [
    {
     "data": {
      "text/plain": [
       "{'ARGUS (deprecated)',\n",
       " 'BBN-RCC-MON',\n",
       " 'CBT',\n",
       " 'CHAOS',\n",
       " 'EGP',\n",
       " 'EMCON',\n",
       " 'GGP',\n",
       " 'HOPOPT',\n",
       " 'ICMP',\n",
       " 'IGMP',\n",
       " 'IGP',\n",
       " 'IPv4',\n",
       " 'NVP-II',\n",
       " 'PUP',\n",
       " 'ST',\n",
       " 'TCP',\n",
       " 'UDP',\n",
       " 'XNET'}"
      ]
     },
     "execution_count": 17,
     "metadata": {},
     "output_type": "execute_result"
    }
   ],
   "source": [
    "# Map IANA Protocol numbers to strings (leave user option to 1-hot or numerically encode)\n",
    "iana_map = { \n",
    "    \"0\": \"HOPOPT\", \"1\": \"ICMP\", \"2\": \"IGMP\", \"3\": \"GGP\", \"4\": \"IPv4\", \"5\": \"ST\", \n",
    "    \"6\": \"TCP\", \"7\": \"CBT\", \"8\": \"EGP\", \"9\": \"IGP\", \"10\": \"BBN-RCC-MON\", \"11\": \"NVP-II\", \n",
    "    \"12\": \"PUP\", \"13\": \"ARGUS (deprecated)\", \"14\": \"EMCON\", \"15\": \"XNET\", \"16\": \"CHAOS\", \n",
    "    \"17\": \"UDP\", \"18\": \"MUX\", \"19\": \"DCN-MEAS\", \"20\": \"HMP\", \"21\": \"PRM\", \"22\": \"XNS-IDP\", \n",
    "    \"23\": \"TRUNK-1\", \"24\": \"TRUNK-2\", \"25\": \"LEAF-1\", \"26\": \"LEAF-2\", \"27\": \"RDP\", \n",
    "    \"28\": \"IRTP\", \"29\": \"ISO-TP4\", \"30\": \"NETBLT\", \"31\": \"MFE-NSP\", \"32\": \"MERIT-INP\", \n",
    "    \"33\": \"DCCP\", \"34\": \"3PC\", \"35\": \"IDPR\", \"36\": \"XTP\", \"37\": \"DDP\", \"38\": \"IDPR-CMTP\", \n",
    "    \"39\": \"TP++\", \"40\": \"IL\", \"41\": \"IPv6\", \"42\": \"SDRP\", \"43\": \"IPv6-Route\", \n",
    "    \"44\": \"IPv6-Frag\", \"45\": \"IDRP\", \"46\": \"RSVP\", \"47\": \"GRE\", \"48\": \"DSR\", \"49\": \"BNA\", \n",
    "    \"50\": \"ESP\", \"51\": \"AH\", \"52\": \"I-NLSP\", \"53\": \"SWIPE (deprecated)\", \"54\": \"NARP\", \n",
    "    \"55\": \"MOBILE\", \"56\": \"TLSP\", \"57\": \"SKIP\", \"58\": \"IPv6-ICMP\", \"59\": \"IPv6-NoNxt\", \n",
    "    \"60\": \"IPv6-Opts\", \"62\": \"CFTP\", \"64\": \"SAT-EXPAK\", \"65\": \"KRYPTOLAN\", \"66\": \"RVD\", \n",
    "    \"67\": \"IPPC\", \"69\": \"SAT-MON\", \"70\": \"VISA\", \"71\": \"IPCV\", \"72\": \"CPNX\", \"73\": \"CPHB\", \n",
    "    \"74\": \"WSN\", \"75\": \"PVP\", \"76\": \"BR-SAT-MON\", \"77\": \"SUN-ND\", \"78\": \"WB-MON\", \n",
    "    \"79\": \"WB-EXPAK\", \"80\": \"ISO-IP\", \"81\": \"VMTP\", \"82\": \"SECURE-VMTP\", \"83\": \"VINES\", \n",
    "    \"84\": \"IPTM\", \"85\": \"NSFNET-IGP\", \"86\": \"DGP\", \"87\": \"TCF\", \"88\": \"EIGRP\", \n",
    "    \"89\": \"OSPFIGP\", \"90\": \"Sprite-RPC\", \"91\": \"LARP\", \"92\": \"MTP\", \"93\": \"AX.25\", \n",
    "    \"94\": \"IPIP\", \"95\": \"MICP (deprecated)\",\"96\": \"SCC-SP\", \"97\": \"ETHERIP\", \"98\": \"ENCAP\", \n",
    "    \"100\": \"GMTP\", \"101\": \"IFMP\", \"102\": \"PNNI\", \"103\": \"PIM\", \"104\": \"ARIS\", \"105\": \"SCPS\", \n",
    "    \"106\": \"QNX\", \"107\": \"A/N\", \"108\": \"IPComp\", \"109\": \"SNP\", \"110\": \"Compaq-Peer\", \n",
    "    \"111\": \"IPX-in-IP\", \"112\": \"VRRP\", \"113\": \"PGM\", \"114\": \"\", \"115\": \"L2TP\", \"116\": \"DDX\",  \n",
    "    \"117\": \"IATP\", \"118\": \"STP\", \"119\": \"SRP\", \"120\": \"UTI\", \"121\": \"SMP\", \n",
    "    \"122\": \"SM (deprecated)\", \"123\": \"PTP\",\"124\": \"ISIS over IPv4\", \"125\": \"FIRE\", \n",
    "    \"126\": \"CRTP\", \"127\": \"CRUDP\", \"128\": \"SSCOPMCE\", \"129\": \"IPLT\", \"130\": \"SPS\", \n",
    "    \"131\": \"PIPE\", \"132\": \"SCTP\",  \"133\": \"FC\", \"134\": \"RSVP-E2E-IGNORE\", \n",
    "    \"135\": \"Mobility Header\", \"136\": \"UDPLite\", \"137\": \"MPLS-in-IP\", \"138\": \"manet\", \n",
    "    \"139\": \"HIP\", \"140\": \"Shim6\", \"141\": \"WESP\", \"142\": \"ROHC\", \"143\": \"Ethernet\", \n",
    "    \"144\": \"AGGFRAG\", \"145\": \"NSH\"\n",
    "}\n",
    "\n",
    "# transform the column protocol type\n",
    "\n",
    "df['protocol_type'] = df['protocol_type'].apply(lambda x: iana_map[str(int(float(x)))])\n",
    "\n",
    "set(df['protocol_type'])"
   ]
  },
  {
   "cell_type": "code",
   "execution_count": 18,
   "id": "41aaf772-79fc-4a1e-9746-d91391cb34d2",
   "metadata": {},
   "outputs": [],
   "source": [
    "df = pd.get_dummies(df, columns=['protocol_type'])"
   ]
  },
  {
   "cell_type": "code",
   "execution_count": 20,
   "id": "9bad8d2f",
   "metadata": {},
   "outputs": [],
   "source": [
    "y = df['label']"
   ]
  },
  {
   "cell_type": "code",
   "execution_count": 22,
   "id": "67dd1e80-3f6e-4520-a78d-d1c606e28595",
   "metadata": {},
   "outputs": [],
   "source": [
    "# select numerical columns\n",
    "\n",
    "df_numerical = df.select_dtypes(include=['bool','uint16','uint32','int64','float16','float32'])\n"
   ]
  },
  {
   "cell_type": "markdown",
   "id": "68c258af",
   "metadata": {},
   "source": [
    "### Final Checks\n"
   ]
  },
  {
   "cell_type": "code",
   "execution_count": 23,
   "id": "1784cb65",
   "metadata": {},
   "outputs": [
    {
     "name": "stdout",
     "output_type": "stream",
     "text": [
      "<class 'pandas.core.frame.DataFrame'>\n",
      "Index: 1452755 entries, 0 to 1452759\n",
      "Data columns (total 64 columns):\n",
      " #   Column                            Non-Null Count    Dtype  \n",
      "---  ------                            --------------    -----  \n",
      " 0   flow_duration                     1452755 non-null  float32\n",
      " 1   header_length                     1452755 non-null  uint32 \n",
      " 2   duration                          1452755 non-null  float32\n",
      " 3   rate                              1452755 non-null  uint32 \n",
      " 4   srate                             1452755 non-null  uint32 \n",
      " 5   drate                             1452755 non-null  float32\n",
      " 6   fin_flag_number                   1452755 non-null  bool   \n",
      " 7   syn_flag_number                   1452755 non-null  bool   \n",
      " 8   rst_flag_number                   1452755 non-null  bool   \n",
      " 9   psh_flag_number                   1452755 non-null  bool   \n",
      " 10  ack_flag_number                   1452755 non-null  bool   \n",
      " 11  ece_flag_number                   1452755 non-null  bool   \n",
      " 12  cwr_flag_number                   1452755 non-null  bool   \n",
      " 13  ack_count                         1452755 non-null  float16\n",
      " 14  syn_count                         1452755 non-null  float16\n",
      " 15  fin_count                         1452755 non-null  uint16 \n",
      " 16  urg_count                         1452755 non-null  uint16 \n",
      " 17  rst_count                         1452755 non-null  uint16 \n",
      " 18  http                              1452755 non-null  bool   \n",
      " 19  https                             1452755 non-null  bool   \n",
      " 20  dns                               1452755 non-null  bool   \n",
      " 21  telnet                            1452755 non-null  bool   \n",
      " 22  smtp                              1452755 non-null  bool   \n",
      " 23  ssh                               1452755 non-null  bool   \n",
      " 24  irc                               1452755 non-null  bool   \n",
      " 25  tcp                               1452755 non-null  bool   \n",
      " 26  udp                               1452755 non-null  bool   \n",
      " 27  dhcp                              1452755 non-null  bool   \n",
      " 28  arp                               1452755 non-null  bool   \n",
      " 29  icmp                              1452755 non-null  bool   \n",
      " 30  ipv                               1452755 non-null  bool   \n",
      " 31  llc                               1452755 non-null  bool   \n",
      " 32  tot_sum                           1452755 non-null  float32\n",
      " 33  min                               1452755 non-null  float32\n",
      " 34  max                               1452755 non-null  float32\n",
      " 35  avg                               1452755 non-null  float32\n",
      " 36  std                               1452755 non-null  float32\n",
      " 37  tot_size                          1452755 non-null  float32\n",
      " 38  iat                               1452755 non-null  float32\n",
      " 39  number                            1452755 non-null  float32\n",
      " 40  magnitue                          1452755 non-null  float32\n",
      " 41  radius                            1452755 non-null  float32\n",
      " 42  covariance                        1452755 non-null  float32\n",
      " 43  variance                          1452755 non-null  float32\n",
      " 44  weight                            1452755 non-null  float32\n",
      " 45  magnitude                         1452755 non-null  float32\n",
      " 46  protocol_type_ARGUS (deprecated)  1452755 non-null  bool   \n",
      " 47  protocol_type_BBN-RCC-MON         1452755 non-null  bool   \n",
      " 48  protocol_type_CBT                 1452755 non-null  bool   \n",
      " 49  protocol_type_CHAOS               1452755 non-null  bool   \n",
      " 50  protocol_type_EGP                 1452755 non-null  bool   \n",
      " 51  protocol_type_EMCON               1452755 non-null  bool   \n",
      " 52  protocol_type_GGP                 1452755 non-null  bool   \n",
      " 53  protocol_type_HOPOPT              1452755 non-null  bool   \n",
      " 54  protocol_type_ICMP                1452755 non-null  bool   \n",
      " 55  protocol_type_IGMP                1452755 non-null  bool   \n",
      " 56  protocol_type_IGP                 1452755 non-null  bool   \n",
      " 57  protocol_type_IPv4                1452755 non-null  bool   \n",
      " 58  protocol_type_NVP-II              1452755 non-null  bool   \n",
      " 59  protocol_type_PUP                 1452755 non-null  bool   \n",
      " 60  protocol_type_ST                  1452755 non-null  bool   \n",
      " 61  protocol_type_TCP                 1452755 non-null  bool   \n",
      " 62  protocol_type_UDP                 1452755 non-null  bool   \n",
      " 63  protocol_type_XNET                1452755 non-null  bool   \n",
      "dtypes: bool(39), float16(2), float32(17), uint16(3), uint32(3)\n",
      "memory usage: 189.8 MB\n"
     ]
    }
   ],
   "source": [
    "df_numerical.info()"
   ]
  },
  {
   "cell_type": "markdown",
   "id": "f471dfc5",
   "metadata": {},
   "source": [
    "We need the full memory at work! let's delete the memory"
   ]
  },
  {
   "cell_type": "code",
   "execution_count": 24,
   "id": "24382666",
   "metadata": {},
   "outputs": [],
   "source": [
    "\n",
    "#df.to_csv('cybersec_reworked.csv', index=False)\n",
    "del df"
   ]
  },
  {
   "cell_type": "markdown",
   "id": "6bb6b502",
   "metadata": {},
   "source": [
    "Check again d_types"
   ]
  },
  {
   "cell_type": "code",
   "execution_count": 25,
   "id": "fb14760b",
   "metadata": {},
   "outputs": [
    {
     "data": {
      "text/plain": [
       "{'flow_duration': 'float32',\n",
       " 'header_length': 'uint32',\n",
       " 'duration': 'float32',\n",
       " 'rate': 'uint32',\n",
       " 'srate': 'uint32',\n",
       " 'drate': 'float32',\n",
       " 'fin_flag_number': 'bool',\n",
       " 'syn_flag_number': 'bool',\n",
       " 'rst_flag_number': 'bool',\n",
       " 'psh_flag_number': 'bool',\n",
       " 'ack_flag_number': 'bool',\n",
       " 'ece_flag_number': 'bool',\n",
       " 'cwr_flag_number': 'bool',\n",
       " 'ack_count': 'float16',\n",
       " 'syn_count': 'float16',\n",
       " 'fin_count': 'uint16',\n",
       " 'urg_count': 'uint16',\n",
       " 'rst_count': 'uint16',\n",
       " 'http': 'bool',\n",
       " 'https': 'bool',\n",
       " 'dns': 'bool',\n",
       " 'telnet': 'bool',\n",
       " 'smtp': 'bool',\n",
       " 'ssh': 'bool',\n",
       " 'irc': 'bool',\n",
       " 'tcp': 'bool',\n",
       " 'udp': 'bool',\n",
       " 'dhcp': 'bool',\n",
       " 'arp': 'bool',\n",
       " 'icmp': 'bool',\n",
       " 'ipv': 'bool',\n",
       " 'llc': 'bool',\n",
       " 'tot_sum': 'float32',\n",
       " 'min': 'float32',\n",
       " 'max': 'float32',\n",
       " 'avg': 'float32',\n",
       " 'std': 'float32',\n",
       " 'tot_size': 'float32',\n",
       " 'iat': 'float32',\n",
       " 'number': 'float32',\n",
       " 'magnitue': 'float32',\n",
       " 'radius': 'float32',\n",
       " 'covariance': 'float32',\n",
       " 'variance': 'float32',\n",
       " 'weight': 'float32',\n",
       " 'magnitude': 'float32',\n",
       " 'protocol_type_ARGUS (deprecated)': 'bool',\n",
       " 'protocol_type_BBN-RCC-MON': 'bool',\n",
       " 'protocol_type_CBT': 'bool',\n",
       " 'protocol_type_CHAOS': 'bool',\n",
       " 'protocol_type_EGP': 'bool',\n",
       " 'protocol_type_EMCON': 'bool',\n",
       " 'protocol_type_GGP': 'bool',\n",
       " 'protocol_type_HOPOPT': 'bool',\n",
       " 'protocol_type_ICMP': 'bool',\n",
       " 'protocol_type_IGMP': 'bool',\n",
       " 'protocol_type_IGP': 'bool',\n",
       " 'protocol_type_IPv4': 'bool',\n",
       " 'protocol_type_NVP-II': 'bool',\n",
       " 'protocol_type_PUP': 'bool',\n",
       " 'protocol_type_ST': 'bool',\n",
       " 'protocol_type_TCP': 'bool',\n",
       " 'protocol_type_UDP': 'bool',\n",
       " 'protocol_type_XNET': 'bool'}"
      ]
     },
     "execution_count": 25,
     "metadata": {},
     "output_type": "execute_result"
    }
   ],
   "source": [
    "d_types = {k: v.name for k, v in zip(df_numerical.columns,df_numerical.dtypes)}\n",
    "\n",
    "d_types"
   ]
  },
  {
   "cell_type": "markdown",
   "id": "4b2e2ee0",
   "metadata": {},
   "source": [
    "Ok now we can use df_numerical and save it with integers vs boolean to ensure data type consistency across platforms (say on google colab)"
   ]
  },
  {
   "cell_type": "code",
   "execution_count": 26,
   "id": "3e5c1e2c",
   "metadata": {},
   "outputs": [],
   "source": [
    "# Convert boolean columns to integers\n",
    "bool_cols = df_numerical.select_dtypes(include=['bool']).columns\n",
    "df_numerical[bool_cols] = df_numerical[bool_cols].astype(int) # CONVERTING TO INTEGERS IN ORDER TO AVOID CORRUPTION\n",
    "\n",
    "# Save to CSV\n",
    "#df_numerical.to_csv('df_numerical_modified.csv', index=False)\n",
    "\n",
    "# THIS WAS SENT TO GOOGLE COLAB"
   ]
  },
  {
   "cell_type": "code",
   "execution_count": 27,
   "id": "f49cf8dc",
   "metadata": {},
   "outputs": [
    {
     "data": {
      "text/plain": [
       "(1452755, 64)"
      ]
     },
     "execution_count": 27,
     "metadata": {},
     "output_type": "execute_result"
    }
   ],
   "source": [
    "df_numerical.shape"
   ]
  },
  {
   "cell_type": "code",
   "execution_count": 28,
   "id": "6dc8194e",
   "metadata": {},
   "outputs": [
    {
     "data": {
      "text/plain": [
       "(1452755,)"
      ]
     },
     "execution_count": 28,
     "metadata": {},
     "output_type": "execute_result"
    }
   ],
   "source": [
    "y.shape"
   ]
  },
  {
   "cell_type": "code",
   "execution_count": 29,
   "id": "886ea670",
   "metadata": {},
   "outputs": [],
   "source": [
    "X = df_numerical"
   ]
  },
  {
   "cell_type": "code",
   "execution_count": 30,
   "id": "961c7f02",
   "metadata": {},
   "outputs": [
    {
     "data": {
      "text/plain": [
       "label\n",
       "BenignTraffic          1098195\n",
       "Recon-HostDiscovery     134377\n",
       "Recon-OSScan             98259\n",
       "Recon-PortScan           82280\n",
       "VulnerabilityScan        37382\n",
       "Recon-PingSweep           2262\n",
       "Name: count, dtype: int64"
      ]
     },
     "execution_count": 30,
     "metadata": {},
     "output_type": "execute_result"
    }
   ],
   "source": [
    "y.value_counts()"
   ]
  },
  {
   "cell_type": "markdown",
   "id": "259b3725",
   "metadata": {},
   "source": [
    "There are simply too few records for Recon-Pingsweep. We will need to delete them."
   ]
  },
  {
   "cell_type": "code",
   "execution_count": 31,
   "id": "7f5448e1",
   "metadata": {},
   "outputs": [],
   "source": [
    "\n",
    "\n",
    "ping_sweep_label = 'Recon-PingSweep' \n",
    "mask = y != ping_sweep_label\n",
    "\n",
    "# Apply the mask to X and y to filter out 'ping-sweep' instances\n",
    "X_drop = X[mask.values.ravel()]\n",
    "y_drop = y[mask.values.ravel()]"
   ]
  },
  {
   "cell_type": "markdown",
   "id": "c916679f",
   "metadata": {},
   "source": [
    "## From Binary to Multiclass\n",
    "\n",
    "We were successful in predicting if a Cyberattack was really going on. Our previous work resulted in a very accurate adaboost.\n",
    "\n",
    "Still in an experimental fashion I will run another experiment:\n",
    "\n",
    "**Can we use this prediction as a \"feature\" to feed multiclass models?**"
   ]
  },
  {
   "cell_type": "markdown",
   "id": "10cdccea",
   "metadata": {},
   "source": [
    "In order to do so, let's first load our results from adaboost and create a new feature: 'adaboost_binary_pred'"
   ]
  },
  {
   "cell_type": "code",
   "execution_count": 32,
   "id": "6b648cbb",
   "metadata": {},
   "outputs": [
    {
     "name": "stderr",
     "output_type": "stream",
     "text": [
      "C:\\Users\\Public\\Documents\\Wondershare\\CreatorTemp\\ipykernel_28752\\268926219.py:9: SettingWithCopyWarning: \n",
      "A value is trying to be set on a copy of a slice from a DataFrame.\n",
      "Try using .loc[row_indexer,col_indexer] = value instead\n",
      "\n",
      "See the caveats in the documentation: https://pandas.pydata.org/pandas-docs/stable/user_guide/indexing.html#returning-a-view-versus-a-copy\n",
      "  X_drop['adaboost_binary_pred'] = adaboost_loaded.predict(X_drop)\n"
     ]
    }
   ],
   "source": [
    "\n",
    "\n",
    "with open('pipeline_adaboost.pkl', 'rb') as file:\n",
    "    adaboost_loaded = pickle.load(file)\n",
    "\n",
    "from sklearn.ensemble import AdaBoostClassifier\n",
    "\n",
    "\n",
    "X_drop['adaboost_binary_pred'] = adaboost_loaded.predict(X_drop)"
   ]
  },
  {
   "cell_type": "markdown",
   "id": "1be256a6",
   "metadata": {},
   "source": [
    "Let's check the columns"
   ]
  },
  {
   "cell_type": "code",
   "execution_count": 33,
   "id": "40aecfd6",
   "metadata": {},
   "outputs": [
    {
     "data": {
      "text/plain": [
       "Index(['flow_duration', 'header_length', 'duration', 'rate', 'srate', 'drate',\n",
       "       'fin_flag_number', 'syn_flag_number', 'rst_flag_number',\n",
       "       'psh_flag_number', 'ack_flag_number', 'ece_flag_number',\n",
       "       'cwr_flag_number', 'ack_count', 'syn_count', 'fin_count', 'urg_count',\n",
       "       'rst_count', 'http', 'https', 'dns', 'telnet', 'smtp', 'ssh', 'irc',\n",
       "       'tcp', 'udp', 'dhcp', 'arp', 'icmp', 'ipv', 'llc', 'tot_sum', 'min',\n",
       "       'max', 'avg', 'std', 'tot_size', 'iat', 'number', 'magnitue', 'radius',\n",
       "       'covariance', 'variance', 'weight', 'magnitude',\n",
       "       'protocol_type_ARGUS (deprecated)', 'protocol_type_BBN-RCC-MON',\n",
       "       'protocol_type_CBT', 'protocol_type_CHAOS', 'protocol_type_EGP',\n",
       "       'protocol_type_EMCON', 'protocol_type_GGP', 'protocol_type_HOPOPT',\n",
       "       'protocol_type_ICMP', 'protocol_type_IGMP', 'protocol_type_IGP',\n",
       "       'protocol_type_IPv4', 'protocol_type_NVP-II', 'protocol_type_PUP',\n",
       "       'protocol_type_ST', 'protocol_type_TCP', 'protocol_type_UDP',\n",
       "       'protocol_type_XNET'],\n",
       "      dtype='object')"
      ]
     },
     "execution_count": 33,
     "metadata": {},
     "output_type": "execute_result"
    }
   ],
   "source": [
    "X.columns"
   ]
  },
  {
   "cell_type": "markdown",
   "id": "0049b115",
   "metadata": {},
   "source": [
    "Now as usual let's create our train and test sets."
   ]
  },
  {
   "cell_type": "code",
   "execution_count": 34,
   "id": "8764bbad",
   "metadata": {},
   "outputs": [],
   "source": [
    "# Apply train test split\n",
    "X_train, X_test, y_train, y_test = train_test_split(X_drop,y_drop, random_state=33, test_size=0.3)"
   ]
  },
  {
   "cell_type": "markdown",
   "id": "b069ccc7",
   "metadata": {},
   "source": [
    "Now, since we have noticed that some of the columns are right-skewed, I will log-transorm them.\n",
    "\n",
    "I don't expect this transformation to be particularrly impactful on our adaboost: decision trees don't really benefit from this kind of transformations.\n",
    "\n",
    "To do this I will first create a list with the columns to be transformed:"
   ]
  },
  {
   "cell_type": "code",
   "execution_count": 44,
   "id": "c20f7482",
   "metadata": {},
   "outputs": [],
   "source": [
    "columns_to_log_transform= ['header_length', 'rst_count', 'tot_sum', 'magnitude', 'radius', 'covariance', 'std', 'tot_size', 'ack_count', 'urg_count', 'max', 'min']"
   ]
  },
  {
   "cell_type": "code",
   "execution_count": 35,
   "id": "bfd5a307",
   "metadata": {},
   "outputs": [
    {
     "name": "stdout",
     "output_type": "stream",
     "text": [
      "header_length True\n",
      "rst_count True\n",
      "tot_sum True\n",
      "magnitude True\n",
      "radius True\n",
      "covariance True\n",
      "std True\n",
      "tot_size True\n",
      "ack_count True\n",
      "urg_count True\n",
      "max True\n",
      "min True\n"
     ]
    }
   ],
   "source": [
    "for c in columns_to_log_transform:\n",
    "    if c in X_test.columns:\n",
    "        print(str(c) + ' ' + str(True))\n",
    "    else:\n",
    "        print(str(c) + ' ' + str(False))"
   ]
  },
  {
   "cell_type": "markdown",
   "id": "95128eb0",
   "metadata": {},
   "source": [
    "Now we are almost ready to add this transformation step in a pipeline.\n",
    "\n",
    "Given this I will create a ColumnTransformer that will basically log-transform the selected columns whilst leaving the other as they are (this will be done through a remainder set as 'passthrough'). Before that I will set up our usual SMOTE and Undersampling strategy.\n",
    "\n"
   ]
  },
  {
   "cell_type": "code",
   "execution_count": 40,
   "id": "fb9e20ef",
   "metadata": {},
   "outputs": [],
   "source": [
    "smote_strategy = {'Recon-HostDiscovery': 150000, 'Recon-OSScan': 150000, 'Recon-PortScan': 150000, 'VulnerabilityScan':80000}\n",
    "undersample_strategy = {'BenignTraffic': 250000}"
   ]
  },
  {
   "cell_type": "markdown",
   "id": "376afe01",
   "metadata": {},
   "source": [
    "Let's try to run this without our adaboost feature."
   ]
  },
  {
   "cell_type": "code",
   "execution_count": 45,
   "id": "2033bb47",
   "metadata": {},
   "outputs": [
    {
     "name": "stdout",
     "output_type": "stream",
     "text": [
      "[Pipeline] ............. (step 1 of 6) Processing smote, total=  33.8s\n",
      "[Pipeline] ............. (step 2 of 6) Processing under, total=   4.8s\n",
      "[Pipeline] ...... (step 3 of 6) Processing preprocessor, total=   0.4s\n",
      "[Pipeline] ............ (step 4 of 6) Processing scaler, total=   0.6s\n",
      "[Pipeline] ............... (step 5 of 6) Processing svd, total=   5.0s\n"
     ]
    },
    {
     "name": "stderr",
     "output_type": "stream",
     "text": [
      "[Parallel(n_jobs=-1)]: Using backend LokyBackend with 8 concurrent workers.\n",
      "[Parallel(n_jobs=-1)]: Done   1 out of   1 | elapsed:   13.9s finished\n"
     ]
    },
    {
     "name": "stdout",
     "output_type": "stream",
     "text": [
      "[Pipeline]  (step 6 of 6) Processing logistic_regression, total=  15.4s\n"
     ]
    },
    {
     "data": {
      "text/html": [
       "<style>#sk-container-id-1 {color: black;}#sk-container-id-1 pre{padding: 0;}#sk-container-id-1 div.sk-toggleable {background-color: white;}#sk-container-id-1 label.sk-toggleable__label {cursor: pointer;display: block;width: 100%;margin-bottom: 0;padding: 0.3em;box-sizing: border-box;text-align: center;}#sk-container-id-1 label.sk-toggleable__label-arrow:before {content: \"▸\";float: left;margin-right: 0.25em;color: #696969;}#sk-container-id-1 label.sk-toggleable__label-arrow:hover:before {color: black;}#sk-container-id-1 div.sk-estimator:hover label.sk-toggleable__label-arrow:before {color: black;}#sk-container-id-1 div.sk-toggleable__content {max-height: 0;max-width: 0;overflow: hidden;text-align: left;background-color: #f0f8ff;}#sk-container-id-1 div.sk-toggleable__content pre {margin: 0.2em;color: black;border-radius: 0.25em;background-color: #f0f8ff;}#sk-container-id-1 input.sk-toggleable__control:checked~div.sk-toggleable__content {max-height: 200px;max-width: 100%;overflow: auto;}#sk-container-id-1 input.sk-toggleable__control:checked~label.sk-toggleable__label-arrow:before {content: \"▾\";}#sk-container-id-1 div.sk-estimator input.sk-toggleable__control:checked~label.sk-toggleable__label {background-color: #d4ebff;}#sk-container-id-1 div.sk-label input.sk-toggleable__control:checked~label.sk-toggleable__label {background-color: #d4ebff;}#sk-container-id-1 input.sk-hidden--visually {border: 0;clip: rect(1px 1px 1px 1px);clip: rect(1px, 1px, 1px, 1px);height: 1px;margin: -1px;overflow: hidden;padding: 0;position: absolute;width: 1px;}#sk-container-id-1 div.sk-estimator {font-family: monospace;background-color: #f0f8ff;border: 1px dotted black;border-radius: 0.25em;box-sizing: border-box;margin-bottom: 0.5em;}#sk-container-id-1 div.sk-estimator:hover {background-color: #d4ebff;}#sk-container-id-1 div.sk-parallel-item::after {content: \"\";width: 100%;border-bottom: 1px solid gray;flex-grow: 1;}#sk-container-id-1 div.sk-label:hover label.sk-toggleable__label {background-color: #d4ebff;}#sk-container-id-1 div.sk-serial::before {content: \"\";position: absolute;border-left: 1px solid gray;box-sizing: border-box;top: 0;bottom: 0;left: 50%;z-index: 0;}#sk-container-id-1 div.sk-serial {display: flex;flex-direction: column;align-items: center;background-color: white;padding-right: 0.2em;padding-left: 0.2em;position: relative;}#sk-container-id-1 div.sk-item {position: relative;z-index: 1;}#sk-container-id-1 div.sk-parallel {display: flex;align-items: stretch;justify-content: center;background-color: white;position: relative;}#sk-container-id-1 div.sk-item::before, #sk-container-id-1 div.sk-parallel-item::before {content: \"\";position: absolute;border-left: 1px solid gray;box-sizing: border-box;top: 0;bottom: 0;left: 50%;z-index: -1;}#sk-container-id-1 div.sk-parallel-item {display: flex;flex-direction: column;z-index: 1;position: relative;background-color: white;}#sk-container-id-1 div.sk-parallel-item:first-child::after {align-self: flex-end;width: 50%;}#sk-container-id-1 div.sk-parallel-item:last-child::after {align-self: flex-start;width: 50%;}#sk-container-id-1 div.sk-parallel-item:only-child::after {width: 0;}#sk-container-id-1 div.sk-dashed-wrapped {border: 1px dashed gray;margin: 0 0.4em 0.5em 0.4em;box-sizing: border-box;padding-bottom: 0.4em;background-color: white;}#sk-container-id-1 div.sk-label label {font-family: monospace;font-weight: bold;display: inline-block;line-height: 1.2em;}#sk-container-id-1 div.sk-label-container {text-align: center;}#sk-container-id-1 div.sk-container {/* jupyter's `normalize.less` sets `[hidden] { display: none; }` but bootstrap.min.css set `[hidden] { display: none !important; }` so we also need the `!important` here to be able to override the default hidden behavior on the sphinx rendered scikit-learn.org. See: https://github.com/scikit-learn/scikit-learn/issues/21755 */display: inline-block !important;position: relative;}#sk-container-id-1 div.sk-text-repr-fallback {display: none;}</style><div id=\"sk-container-id-1\" class=\"sk-top-container\"><div class=\"sk-text-repr-fallback\"><pre>Pipeline(steps=[(&#x27;smote&#x27;,\n",
       "                 SMOTE(sampling_strategy={&#x27;Recon-HostDiscovery&#x27;: 150000,\n",
       "                                          &#x27;Recon-OSScan&#x27;: 150000,\n",
       "                                          &#x27;Recon-PortScan&#x27;: 150000,\n",
       "                                          &#x27;VulnerabilityScan&#x27;: 80000})),\n",
       "                (&#x27;under&#x27;,\n",
       "                 RandomUnderSampler(sampling_strategy={&#x27;BenignTraffic&#x27;: 250000})),\n",
       "                (&#x27;preprocessor&#x27;,\n",
       "                 ColumnTransformer(remainder=&#x27;passthrough&#x27;,\n",
       "                                   transformers=[(&#x27;log&#x27;,\n",
       "                                                  FunctionTransformer(func=&lt;function log_transform at 0x000001648C00F430&gt;),\n",
       "                                                  [&#x27;header_length&#x27;, &#x27;rst_count&#x27;,\n",
       "                                                   &#x27;tot_sum&#x27;, &#x27;magnitude&#x27;,\n",
       "                                                   &#x27;radius&#x27;, &#x27;covariance&#x27;,\n",
       "                                                   &#x27;std&#x27;, &#x27;tot_size&#x27;,\n",
       "                                                   &#x27;ack_count&#x27;, &#x27;urg_count&#x27;,\n",
       "                                                   &#x27;max&#x27;, &#x27;min&#x27;])])),\n",
       "                (&#x27;scaler&#x27;, StandardScaler()),\n",
       "                (&#x27;svd&#x27;, TruncatedSVD(n_components=30)),\n",
       "                (&#x27;logistic_regression&#x27;,\n",
       "                 LogisticRegression(C=1, n_jobs=-1, verbose=2))],\n",
       "         verbose=True)</pre><b>In a Jupyter environment, please rerun this cell to show the HTML representation or trust the notebook. <br />On GitHub, the HTML representation is unable to render, please try loading this page with nbviewer.org.</b></div><div class=\"sk-container\" hidden><div class=\"sk-item sk-dashed-wrapped\"><div class=\"sk-label-container\"><div class=\"sk-label sk-toggleable\"><input class=\"sk-toggleable__control sk-hidden--visually\" id=\"sk-estimator-id-1\" type=\"checkbox\" ><label for=\"sk-estimator-id-1\" class=\"sk-toggleable__label sk-toggleable__label-arrow\">Pipeline</label><div class=\"sk-toggleable__content\"><pre>Pipeline(steps=[(&#x27;smote&#x27;,\n",
       "                 SMOTE(sampling_strategy={&#x27;Recon-HostDiscovery&#x27;: 150000,\n",
       "                                          &#x27;Recon-OSScan&#x27;: 150000,\n",
       "                                          &#x27;Recon-PortScan&#x27;: 150000,\n",
       "                                          &#x27;VulnerabilityScan&#x27;: 80000})),\n",
       "                (&#x27;under&#x27;,\n",
       "                 RandomUnderSampler(sampling_strategy={&#x27;BenignTraffic&#x27;: 250000})),\n",
       "                (&#x27;preprocessor&#x27;,\n",
       "                 ColumnTransformer(remainder=&#x27;passthrough&#x27;,\n",
       "                                   transformers=[(&#x27;log&#x27;,\n",
       "                                                  FunctionTransformer(func=&lt;function log_transform at 0x000001648C00F430&gt;),\n",
       "                                                  [&#x27;header_length&#x27;, &#x27;rst_count&#x27;,\n",
       "                                                   &#x27;tot_sum&#x27;, &#x27;magnitude&#x27;,\n",
       "                                                   &#x27;radius&#x27;, &#x27;covariance&#x27;,\n",
       "                                                   &#x27;std&#x27;, &#x27;tot_size&#x27;,\n",
       "                                                   &#x27;ack_count&#x27;, &#x27;urg_count&#x27;,\n",
       "                                                   &#x27;max&#x27;, &#x27;min&#x27;])])),\n",
       "                (&#x27;scaler&#x27;, StandardScaler()),\n",
       "                (&#x27;svd&#x27;, TruncatedSVD(n_components=30)),\n",
       "                (&#x27;logistic_regression&#x27;,\n",
       "                 LogisticRegression(C=1, n_jobs=-1, verbose=2))],\n",
       "         verbose=True)</pre></div></div></div><div class=\"sk-serial\"><div class=\"sk-item\"><div class=\"sk-estimator sk-toggleable\"><input class=\"sk-toggleable__control sk-hidden--visually\" id=\"sk-estimator-id-2\" type=\"checkbox\" ><label for=\"sk-estimator-id-2\" class=\"sk-toggleable__label sk-toggleable__label-arrow\">SMOTE</label><div class=\"sk-toggleable__content\"><pre>SMOTE(sampling_strategy={&#x27;Recon-HostDiscovery&#x27;: 150000, &#x27;Recon-OSScan&#x27;: 150000,\n",
       "                         &#x27;Recon-PortScan&#x27;: 150000, &#x27;VulnerabilityScan&#x27;: 80000})</pre></div></div></div><div class=\"sk-item\"><div class=\"sk-estimator sk-toggleable\"><input class=\"sk-toggleable__control sk-hidden--visually\" id=\"sk-estimator-id-3\" type=\"checkbox\" ><label for=\"sk-estimator-id-3\" class=\"sk-toggleable__label sk-toggleable__label-arrow\">RandomUnderSampler</label><div class=\"sk-toggleable__content\"><pre>RandomUnderSampler(sampling_strategy={&#x27;BenignTraffic&#x27;: 250000})</pre></div></div></div><div class=\"sk-item sk-dashed-wrapped\"><div class=\"sk-label-container\"><div class=\"sk-label sk-toggleable\"><input class=\"sk-toggleable__control sk-hidden--visually\" id=\"sk-estimator-id-4\" type=\"checkbox\" ><label for=\"sk-estimator-id-4\" class=\"sk-toggleable__label sk-toggleable__label-arrow\">preprocessor: ColumnTransformer</label><div class=\"sk-toggleable__content\"><pre>ColumnTransformer(remainder=&#x27;passthrough&#x27;,\n",
       "                  transformers=[(&#x27;log&#x27;,\n",
       "                                 FunctionTransformer(func=&lt;function log_transform at 0x000001648C00F430&gt;),\n",
       "                                 [&#x27;header_length&#x27;, &#x27;rst_count&#x27;, &#x27;tot_sum&#x27;,\n",
       "                                  &#x27;magnitude&#x27;, &#x27;radius&#x27;, &#x27;covariance&#x27;, &#x27;std&#x27;,\n",
       "                                  &#x27;tot_size&#x27;, &#x27;ack_count&#x27;, &#x27;urg_count&#x27;, &#x27;max&#x27;,\n",
       "                                  &#x27;min&#x27;])])</pre></div></div></div><div class=\"sk-parallel\"><div class=\"sk-parallel-item\"><div class=\"sk-item\"><div class=\"sk-label-container\"><div class=\"sk-label sk-toggleable\"><input class=\"sk-toggleable__control sk-hidden--visually\" id=\"sk-estimator-id-5\" type=\"checkbox\" ><label for=\"sk-estimator-id-5\" class=\"sk-toggleable__label sk-toggleable__label-arrow\">log</label><div class=\"sk-toggleable__content\"><pre>[&#x27;header_length&#x27;, &#x27;rst_count&#x27;, &#x27;tot_sum&#x27;, &#x27;magnitude&#x27;, &#x27;radius&#x27;, &#x27;covariance&#x27;, &#x27;std&#x27;, &#x27;tot_size&#x27;, &#x27;ack_count&#x27;, &#x27;urg_count&#x27;, &#x27;max&#x27;, &#x27;min&#x27;]</pre></div></div></div><div class=\"sk-serial\"><div class=\"sk-item\"><div class=\"sk-estimator sk-toggleable\"><input class=\"sk-toggleable__control sk-hidden--visually\" id=\"sk-estimator-id-6\" type=\"checkbox\" ><label for=\"sk-estimator-id-6\" class=\"sk-toggleable__label sk-toggleable__label-arrow\">FunctionTransformer</label><div class=\"sk-toggleable__content\"><pre>FunctionTransformer(func=&lt;function log_transform at 0x000001648C00F430&gt;)</pre></div></div></div></div></div></div><div class=\"sk-parallel-item\"><div class=\"sk-item\"><div class=\"sk-label-container\"><div class=\"sk-label sk-toggleable\"><input class=\"sk-toggleable__control sk-hidden--visually\" id=\"sk-estimator-id-7\" type=\"checkbox\" ><label for=\"sk-estimator-id-7\" class=\"sk-toggleable__label sk-toggleable__label-arrow\">remainder</label><div class=\"sk-toggleable__content\"><pre>[&#x27;flow_duration&#x27;, &#x27;duration&#x27;, &#x27;rate&#x27;, &#x27;srate&#x27;, &#x27;drate&#x27;, &#x27;fin_flag_number&#x27;, &#x27;syn_flag_number&#x27;, &#x27;rst_flag_number&#x27;, &#x27;psh_flag_number&#x27;, &#x27;ack_flag_number&#x27;, &#x27;ece_flag_number&#x27;, &#x27;cwr_flag_number&#x27;, &#x27;syn_count&#x27;, &#x27;fin_count&#x27;, &#x27;http&#x27;, &#x27;https&#x27;, &#x27;dns&#x27;, &#x27;telnet&#x27;, &#x27;smtp&#x27;, &#x27;ssh&#x27;, &#x27;irc&#x27;, &#x27;tcp&#x27;, &#x27;udp&#x27;, &#x27;dhcp&#x27;, &#x27;arp&#x27;, &#x27;icmp&#x27;, &#x27;ipv&#x27;, &#x27;llc&#x27;, &#x27;avg&#x27;, &#x27;iat&#x27;, &#x27;number&#x27;, &#x27;magnitue&#x27;, &#x27;variance&#x27;, &#x27;weight&#x27;, &#x27;protocol_type_ARGUS (deprecated)&#x27;, &#x27;protocol_type_BBN-RCC-MON&#x27;, &#x27;protocol_type_CBT&#x27;, &#x27;protocol_type_CHAOS&#x27;, &#x27;protocol_type_EGP&#x27;, &#x27;protocol_type_EMCON&#x27;, &#x27;protocol_type_GGP&#x27;, &#x27;protocol_type_HOPOPT&#x27;, &#x27;protocol_type_ICMP&#x27;, &#x27;protocol_type_IGMP&#x27;, &#x27;protocol_type_IGP&#x27;, &#x27;protocol_type_IPv4&#x27;, &#x27;protocol_type_NVP-II&#x27;, &#x27;protocol_type_PUP&#x27;, &#x27;protocol_type_ST&#x27;, &#x27;protocol_type_TCP&#x27;, &#x27;protocol_type_UDP&#x27;, &#x27;protocol_type_XNET&#x27;]</pre></div></div></div><div class=\"sk-serial\"><div class=\"sk-item\"><div class=\"sk-estimator sk-toggleable\"><input class=\"sk-toggleable__control sk-hidden--visually\" id=\"sk-estimator-id-8\" type=\"checkbox\" ><label for=\"sk-estimator-id-8\" class=\"sk-toggleable__label sk-toggleable__label-arrow\">passthrough</label><div class=\"sk-toggleable__content\"><pre>passthrough</pre></div></div></div></div></div></div></div></div><div class=\"sk-item\"><div class=\"sk-estimator sk-toggleable\"><input class=\"sk-toggleable__control sk-hidden--visually\" id=\"sk-estimator-id-9\" type=\"checkbox\" ><label for=\"sk-estimator-id-9\" class=\"sk-toggleable__label sk-toggleable__label-arrow\">StandardScaler</label><div class=\"sk-toggleable__content\"><pre>StandardScaler()</pre></div></div></div><div class=\"sk-item\"><div class=\"sk-estimator sk-toggleable\"><input class=\"sk-toggleable__control sk-hidden--visually\" id=\"sk-estimator-id-10\" type=\"checkbox\" ><label for=\"sk-estimator-id-10\" class=\"sk-toggleable__label sk-toggleable__label-arrow\">TruncatedSVD</label><div class=\"sk-toggleable__content\"><pre>TruncatedSVD(n_components=30)</pre></div></div></div><div class=\"sk-item\"><div class=\"sk-estimator sk-toggleable\"><input class=\"sk-toggleable__control sk-hidden--visually\" id=\"sk-estimator-id-11\" type=\"checkbox\" ><label for=\"sk-estimator-id-11\" class=\"sk-toggleable__label sk-toggleable__label-arrow\">LogisticRegression</label><div class=\"sk-toggleable__content\"><pre>LogisticRegression(C=1, n_jobs=-1, verbose=2)</pre></div></div></div></div></div></div></div>"
      ],
      "text/plain": [
       "Pipeline(steps=[('smote',\n",
       "                 SMOTE(sampling_strategy={'Recon-HostDiscovery': 150000,\n",
       "                                          'Recon-OSScan': 150000,\n",
       "                                          'Recon-PortScan': 150000,\n",
       "                                          'VulnerabilityScan': 80000})),\n",
       "                ('under',\n",
       "                 RandomUnderSampler(sampling_strategy={'BenignTraffic': 250000})),\n",
       "                ('preprocessor',\n",
       "                 ColumnTransformer(remainder='passthrough',\n",
       "                                   transformers=[('log',\n",
       "                                                  FunctionTransformer(func=<function log_transform at 0x000001648C00F430>),\n",
       "                                                  ['header_length', 'rst_count',\n",
       "                                                   'tot_sum', 'magnitude',\n",
       "                                                   'radius', 'covariance',\n",
       "                                                   'std', 'tot_size',\n",
       "                                                   'ack_count', 'urg_count',\n",
       "                                                   'max', 'min'])])),\n",
       "                ('scaler', StandardScaler()),\n",
       "                ('svd', TruncatedSVD(n_components=30)),\n",
       "                ('logistic_regression',\n",
       "                 LogisticRegression(C=1, n_jobs=-1, verbose=2))],\n",
       "         verbose=True)"
      ]
     },
     "execution_count": 45,
     "metadata": {},
     "output_type": "execute_result"
    }
   ],
   "source": [
    "\n",
    "# Define the log transformation function, adding 1 to avoid taking log of zero\n",
    "def log_transform(x):\n",
    "    return np.log(x + 1)\n",
    "\n",
    "# Create the FunctionTransformer for the log transformation\n",
    "log_transformer = FunctionTransformer(log_transform)\n",
    "\n",
    "# Define the column transformer to apply log transformation only to the specified columns\n",
    "preprocessor = ColumnTransformer(\n",
    "    transformers=[\n",
    "        ('log', log_transformer, columns_to_log_transform)\n",
    "    ],\n",
    "    remainder='passthrough'  # Keep the other columns unchanged\n",
    ")\n",
    "\n",
    "# Create the pipeline\n",
    "pipeline_logreg_logtransformed_no_ada = imbpipeline(steps=[\n",
    "    ('smote', SMOTE(sampling_strategy=smote_strategy)),\n",
    "    ('under', RandomUnderSampler(sampling_strategy=undersample_strategy)),\n",
    "    ('preprocessor', preprocessor),  # Add the preprocessor before scaling\n",
    "    ('scaler', StandardScaler()),\n",
    "    ('svd', TruncatedSVD(n_components=30)),\n",
    "    ('logistic_regression', LogisticRegression(C=1, n_jobs=-1, verbose=2))\n",
    "], verbose=True)\n",
    "\n",
    "# Fit the pipeline on the training data without adaboost predictions column\n",
    "pipeline_logreg_logtransformed_no_ada.fit(X_train.drop(['adaboost_binary_pred'], axis=1), y_train)"
   ]
  },
  {
   "cell_type": "code",
   "execution_count": 46,
   "id": "1de2b2a9",
   "metadata": {},
   "outputs": [
    {
     "name": "stdout",
     "output_type": "stream",
     "text": [
      "                     precision    recall  f1-score   support\n",
      "\n",
      "      BenignTraffic       0.92      0.86      0.89    329168\n",
      "Recon-HostDiscovery       0.50      0.72      0.59     40530\n",
      "       Recon-OSScan       0.17      0.13      0.15     29757\n",
      "     Recon-PortScan       0.33      0.35      0.34     24652\n",
      "  VulnerabilityScan       0.26      0.52      0.35     11041\n",
      "\n",
      "           accuracy                           0.76    435148\n",
      "          macro avg       0.44      0.51      0.46    435148\n",
      "       weighted avg       0.78      0.76      0.76    435148\n",
      "\n"
     ]
    }
   ],
   "source": [
    "# Predict the outcomes on the test set\n",
    "y_pred = pipeline_logreg_logtransformed_no_ada.predict(X_test.drop(['adaboost_binary_pred'], axis=1))\n",
    "\n",
    "# Generate the classification report\n",
    "report = classification_report(y_test, y_pred)\n",
    "\n",
    "# Print the classification report\n",
    "print(report)"
   ]
  },
  {
   "cell_type": "markdown",
   "id": "ab2f1a52",
   "metadata": {},
   "source": [
    "That's a terrible classification performance! Let's now try to do the same with our adaboost feature."
   ]
  },
  {
   "cell_type": "code",
   "execution_count": 37,
   "id": "3b048965",
   "metadata": {},
   "outputs": [
    {
     "name": "stdout",
     "output_type": "stream",
     "text": [
      "[Pipeline] ............. (step 1 of 6) Processing smote, total= 1.1min\n",
      "[Pipeline] ............. (step 2 of 6) Processing under, total=   6.6s\n",
      "[Pipeline] ...... (step 3 of 6) Processing preprocessor, total=   0.5s\n",
      "[Pipeline] ............ (step 4 of 6) Processing scaler, total=   1.0s\n",
      "[Pipeline] ............... (step 5 of 6) Processing svd, total=   6.9s\n"
     ]
    },
    {
     "name": "stderr",
     "output_type": "stream",
     "text": [
      "[Parallel(n_jobs=-1)]: Using backend LokyBackend with 8 concurrent workers.\n",
      "[Parallel(n_jobs=-1)]: Done   1 out of   1 | elapsed:   21.1s finished\n"
     ]
    },
    {
     "name": "stdout",
     "output_type": "stream",
     "text": [
      "[Pipeline]  (step 6 of 6) Processing logistic_regression, total=  23.0s\n"
     ]
    },
    {
     "data": {
      "text/html": [
       "<style>#sk-container-id-1 {color: black;}#sk-container-id-1 pre{padding: 0;}#sk-container-id-1 div.sk-toggleable {background-color: white;}#sk-container-id-1 label.sk-toggleable__label {cursor: pointer;display: block;width: 100%;margin-bottom: 0;padding: 0.3em;box-sizing: border-box;text-align: center;}#sk-container-id-1 label.sk-toggleable__label-arrow:before {content: \"▸\";float: left;margin-right: 0.25em;color: #696969;}#sk-container-id-1 label.sk-toggleable__label-arrow:hover:before {color: black;}#sk-container-id-1 div.sk-estimator:hover label.sk-toggleable__label-arrow:before {color: black;}#sk-container-id-1 div.sk-toggleable__content {max-height: 0;max-width: 0;overflow: hidden;text-align: left;background-color: #f0f8ff;}#sk-container-id-1 div.sk-toggleable__content pre {margin: 0.2em;color: black;border-radius: 0.25em;background-color: #f0f8ff;}#sk-container-id-1 input.sk-toggleable__control:checked~div.sk-toggleable__content {max-height: 200px;max-width: 100%;overflow: auto;}#sk-container-id-1 input.sk-toggleable__control:checked~label.sk-toggleable__label-arrow:before {content: \"▾\";}#sk-container-id-1 div.sk-estimator input.sk-toggleable__control:checked~label.sk-toggleable__label {background-color: #d4ebff;}#sk-container-id-1 div.sk-label input.sk-toggleable__control:checked~label.sk-toggleable__label {background-color: #d4ebff;}#sk-container-id-1 input.sk-hidden--visually {border: 0;clip: rect(1px 1px 1px 1px);clip: rect(1px, 1px, 1px, 1px);height: 1px;margin: -1px;overflow: hidden;padding: 0;position: absolute;width: 1px;}#sk-container-id-1 div.sk-estimator {font-family: monospace;background-color: #f0f8ff;border: 1px dotted black;border-radius: 0.25em;box-sizing: border-box;margin-bottom: 0.5em;}#sk-container-id-1 div.sk-estimator:hover {background-color: #d4ebff;}#sk-container-id-1 div.sk-parallel-item::after {content: \"\";width: 100%;border-bottom: 1px solid gray;flex-grow: 1;}#sk-container-id-1 div.sk-label:hover label.sk-toggleable__label {background-color: #d4ebff;}#sk-container-id-1 div.sk-serial::before {content: \"\";position: absolute;border-left: 1px solid gray;box-sizing: border-box;top: 0;bottom: 0;left: 50%;z-index: 0;}#sk-container-id-1 div.sk-serial {display: flex;flex-direction: column;align-items: center;background-color: white;padding-right: 0.2em;padding-left: 0.2em;position: relative;}#sk-container-id-1 div.sk-item {position: relative;z-index: 1;}#sk-container-id-1 div.sk-parallel {display: flex;align-items: stretch;justify-content: center;background-color: white;position: relative;}#sk-container-id-1 div.sk-item::before, #sk-container-id-1 div.sk-parallel-item::before {content: \"\";position: absolute;border-left: 1px solid gray;box-sizing: border-box;top: 0;bottom: 0;left: 50%;z-index: -1;}#sk-container-id-1 div.sk-parallel-item {display: flex;flex-direction: column;z-index: 1;position: relative;background-color: white;}#sk-container-id-1 div.sk-parallel-item:first-child::after {align-self: flex-end;width: 50%;}#sk-container-id-1 div.sk-parallel-item:last-child::after {align-self: flex-start;width: 50%;}#sk-container-id-1 div.sk-parallel-item:only-child::after {width: 0;}#sk-container-id-1 div.sk-dashed-wrapped {border: 1px dashed gray;margin: 0 0.4em 0.5em 0.4em;box-sizing: border-box;padding-bottom: 0.4em;background-color: white;}#sk-container-id-1 div.sk-label label {font-family: monospace;font-weight: bold;display: inline-block;line-height: 1.2em;}#sk-container-id-1 div.sk-label-container {text-align: center;}#sk-container-id-1 div.sk-container {/* jupyter's `normalize.less` sets `[hidden] { display: none; }` but bootstrap.min.css set `[hidden] { display: none !important; }` so we also need the `!important` here to be able to override the default hidden behavior on the sphinx rendered scikit-learn.org. See: https://github.com/scikit-learn/scikit-learn/issues/21755 */display: inline-block !important;position: relative;}#sk-container-id-1 div.sk-text-repr-fallback {display: none;}</style><div id=\"sk-container-id-1\" class=\"sk-top-container\"><div class=\"sk-text-repr-fallback\"><pre>Pipeline(steps=[(&#x27;smote&#x27;,\n",
       "                 SMOTE(sampling_strategy={&#x27;Recon-HostDiscovery&#x27;: 150000,\n",
       "                                          &#x27;Recon-OSScan&#x27;: 150000,\n",
       "                                          &#x27;Recon-PortScan&#x27;: 150000,\n",
       "                                          &#x27;VulnerabilityScan&#x27;: 80000})),\n",
       "                (&#x27;under&#x27;,\n",
       "                 RandomUnderSampler(sampling_strategy={&#x27;BenignTraffic&#x27;: 250000})),\n",
       "                (&#x27;preprocessor&#x27;,\n",
       "                 ColumnTransformer(remainder=&#x27;passthrough&#x27;,\n",
       "                                   transformers=[(&#x27;log&#x27;,\n",
       "                                                  FunctionTransformer(func=&lt;function log_transform at 0x0000016881872310&gt;),\n",
       "                                                  [&#x27;header_length&#x27;, &#x27;rst_count&#x27;,\n",
       "                                                   &#x27;tot_sum&#x27;, &#x27;magnitude&#x27;,\n",
       "                                                   &#x27;radius&#x27;, &#x27;covariance&#x27;,\n",
       "                                                   &#x27;std&#x27;, &#x27;tot_size&#x27;,\n",
       "                                                   &#x27;ack_count&#x27;, &#x27;urg_count&#x27;,\n",
       "                                                   &#x27;max&#x27;, &#x27;min&#x27;])])),\n",
       "                (&#x27;scaler&#x27;, StandardScaler()),\n",
       "                (&#x27;svd&#x27;, TruncatedSVD(n_components=30)),\n",
       "                (&#x27;logistic_regression&#x27;,\n",
       "                 LogisticRegression(C=1, n_jobs=-1, verbose=2))],\n",
       "         verbose=True)</pre><b>In a Jupyter environment, please rerun this cell to show the HTML representation or trust the notebook. <br />On GitHub, the HTML representation is unable to render, please try loading this page with nbviewer.org.</b></div><div class=\"sk-container\" hidden><div class=\"sk-item sk-dashed-wrapped\"><div class=\"sk-label-container\"><div class=\"sk-label sk-toggleable\"><input class=\"sk-toggleable__control sk-hidden--visually\" id=\"sk-estimator-id-1\" type=\"checkbox\" ><label for=\"sk-estimator-id-1\" class=\"sk-toggleable__label sk-toggleable__label-arrow\">Pipeline</label><div class=\"sk-toggleable__content\"><pre>Pipeline(steps=[(&#x27;smote&#x27;,\n",
       "                 SMOTE(sampling_strategy={&#x27;Recon-HostDiscovery&#x27;: 150000,\n",
       "                                          &#x27;Recon-OSScan&#x27;: 150000,\n",
       "                                          &#x27;Recon-PortScan&#x27;: 150000,\n",
       "                                          &#x27;VulnerabilityScan&#x27;: 80000})),\n",
       "                (&#x27;under&#x27;,\n",
       "                 RandomUnderSampler(sampling_strategy={&#x27;BenignTraffic&#x27;: 250000})),\n",
       "                (&#x27;preprocessor&#x27;,\n",
       "                 ColumnTransformer(remainder=&#x27;passthrough&#x27;,\n",
       "                                   transformers=[(&#x27;log&#x27;,\n",
       "                                                  FunctionTransformer(func=&lt;function log_transform at 0x0000016881872310&gt;),\n",
       "                                                  [&#x27;header_length&#x27;, &#x27;rst_count&#x27;,\n",
       "                                                   &#x27;tot_sum&#x27;, &#x27;magnitude&#x27;,\n",
       "                                                   &#x27;radius&#x27;, &#x27;covariance&#x27;,\n",
       "                                                   &#x27;std&#x27;, &#x27;tot_size&#x27;,\n",
       "                                                   &#x27;ack_count&#x27;, &#x27;urg_count&#x27;,\n",
       "                                                   &#x27;max&#x27;, &#x27;min&#x27;])])),\n",
       "                (&#x27;scaler&#x27;, StandardScaler()),\n",
       "                (&#x27;svd&#x27;, TruncatedSVD(n_components=30)),\n",
       "                (&#x27;logistic_regression&#x27;,\n",
       "                 LogisticRegression(C=1, n_jobs=-1, verbose=2))],\n",
       "         verbose=True)</pre></div></div></div><div class=\"sk-serial\"><div class=\"sk-item\"><div class=\"sk-estimator sk-toggleable\"><input class=\"sk-toggleable__control sk-hidden--visually\" id=\"sk-estimator-id-2\" type=\"checkbox\" ><label for=\"sk-estimator-id-2\" class=\"sk-toggleable__label sk-toggleable__label-arrow\">SMOTE</label><div class=\"sk-toggleable__content\"><pre>SMOTE(sampling_strategy={&#x27;Recon-HostDiscovery&#x27;: 150000, &#x27;Recon-OSScan&#x27;: 150000,\n",
       "                         &#x27;Recon-PortScan&#x27;: 150000, &#x27;VulnerabilityScan&#x27;: 80000})</pre></div></div></div><div class=\"sk-item\"><div class=\"sk-estimator sk-toggleable\"><input class=\"sk-toggleable__control sk-hidden--visually\" id=\"sk-estimator-id-3\" type=\"checkbox\" ><label for=\"sk-estimator-id-3\" class=\"sk-toggleable__label sk-toggleable__label-arrow\">RandomUnderSampler</label><div class=\"sk-toggleable__content\"><pre>RandomUnderSampler(sampling_strategy={&#x27;BenignTraffic&#x27;: 250000})</pre></div></div></div><div class=\"sk-item sk-dashed-wrapped\"><div class=\"sk-label-container\"><div class=\"sk-label sk-toggleable\"><input class=\"sk-toggleable__control sk-hidden--visually\" id=\"sk-estimator-id-4\" type=\"checkbox\" ><label for=\"sk-estimator-id-4\" class=\"sk-toggleable__label sk-toggleable__label-arrow\">preprocessor: ColumnTransformer</label><div class=\"sk-toggleable__content\"><pre>ColumnTransformer(remainder=&#x27;passthrough&#x27;,\n",
       "                  transformers=[(&#x27;log&#x27;,\n",
       "                                 FunctionTransformer(func=&lt;function log_transform at 0x0000016881872310&gt;),\n",
       "                                 [&#x27;header_length&#x27;, &#x27;rst_count&#x27;, &#x27;tot_sum&#x27;,\n",
       "                                  &#x27;magnitude&#x27;, &#x27;radius&#x27;, &#x27;covariance&#x27;, &#x27;std&#x27;,\n",
       "                                  &#x27;tot_size&#x27;, &#x27;ack_count&#x27;, &#x27;urg_count&#x27;, &#x27;max&#x27;,\n",
       "                                  &#x27;min&#x27;])])</pre></div></div></div><div class=\"sk-parallel\"><div class=\"sk-parallel-item\"><div class=\"sk-item\"><div class=\"sk-label-container\"><div class=\"sk-label sk-toggleable\"><input class=\"sk-toggleable__control sk-hidden--visually\" id=\"sk-estimator-id-5\" type=\"checkbox\" ><label for=\"sk-estimator-id-5\" class=\"sk-toggleable__label sk-toggleable__label-arrow\">log</label><div class=\"sk-toggleable__content\"><pre>[&#x27;header_length&#x27;, &#x27;rst_count&#x27;, &#x27;tot_sum&#x27;, &#x27;magnitude&#x27;, &#x27;radius&#x27;, &#x27;covariance&#x27;, &#x27;std&#x27;, &#x27;tot_size&#x27;, &#x27;ack_count&#x27;, &#x27;urg_count&#x27;, &#x27;max&#x27;, &#x27;min&#x27;]</pre></div></div></div><div class=\"sk-serial\"><div class=\"sk-item\"><div class=\"sk-estimator sk-toggleable\"><input class=\"sk-toggleable__control sk-hidden--visually\" id=\"sk-estimator-id-6\" type=\"checkbox\" ><label for=\"sk-estimator-id-6\" class=\"sk-toggleable__label sk-toggleable__label-arrow\">FunctionTransformer</label><div class=\"sk-toggleable__content\"><pre>FunctionTransformer(func=&lt;function log_transform at 0x0000016881872310&gt;)</pre></div></div></div></div></div></div><div class=\"sk-parallel-item\"><div class=\"sk-item\"><div class=\"sk-label-container\"><div class=\"sk-label sk-toggleable\"><input class=\"sk-toggleable__control sk-hidden--visually\" id=\"sk-estimator-id-7\" type=\"checkbox\" ><label for=\"sk-estimator-id-7\" class=\"sk-toggleable__label sk-toggleable__label-arrow\">remainder</label><div class=\"sk-toggleable__content\"><pre>[&#x27;flow_duration&#x27;, &#x27;duration&#x27;, &#x27;rate&#x27;, &#x27;srate&#x27;, &#x27;drate&#x27;, &#x27;fin_flag_number&#x27;, &#x27;syn_flag_number&#x27;, &#x27;rst_flag_number&#x27;, &#x27;psh_flag_number&#x27;, &#x27;ack_flag_number&#x27;, &#x27;ece_flag_number&#x27;, &#x27;cwr_flag_number&#x27;, &#x27;syn_count&#x27;, &#x27;fin_count&#x27;, &#x27;http&#x27;, &#x27;https&#x27;, &#x27;dns&#x27;, &#x27;telnet&#x27;, &#x27;smtp&#x27;, &#x27;ssh&#x27;, &#x27;irc&#x27;, &#x27;tcp&#x27;, &#x27;udp&#x27;, &#x27;dhcp&#x27;, &#x27;arp&#x27;, &#x27;icmp&#x27;, &#x27;ipv&#x27;, &#x27;llc&#x27;, &#x27;avg&#x27;, &#x27;iat&#x27;, &#x27;number&#x27;, &#x27;magnitue&#x27;, &#x27;variance&#x27;, &#x27;weight&#x27;, &#x27;protocol_type_ARGUS (deprecated)&#x27;, &#x27;protocol_type_BBN-RCC-MON&#x27;, &#x27;protocol_type_CBT&#x27;, &#x27;protocol_type_CHAOS&#x27;, &#x27;protocol_type_EGP&#x27;, &#x27;protocol_type_EMCON&#x27;, &#x27;protocol_type_GGP&#x27;, &#x27;protocol_type_HOPOPT&#x27;, &#x27;protocol_type_ICMP&#x27;, &#x27;protocol_type_IGMP&#x27;, &#x27;protocol_type_IGP&#x27;, &#x27;protocol_type_IPv4&#x27;, &#x27;protocol_type_NVP-II&#x27;, &#x27;protocol_type_PUP&#x27;, &#x27;protocol_type_ST&#x27;, &#x27;protocol_type_TCP&#x27;, &#x27;protocol_type_UDP&#x27;, &#x27;protocol_type_XNET&#x27;, &#x27;adaboost_binary_pred&#x27;]</pre></div></div></div><div class=\"sk-serial\"><div class=\"sk-item\"><div class=\"sk-estimator sk-toggleable\"><input class=\"sk-toggleable__control sk-hidden--visually\" id=\"sk-estimator-id-8\" type=\"checkbox\" ><label for=\"sk-estimator-id-8\" class=\"sk-toggleable__label sk-toggleable__label-arrow\">passthrough</label><div class=\"sk-toggleable__content\"><pre>passthrough</pre></div></div></div></div></div></div></div></div><div class=\"sk-item\"><div class=\"sk-estimator sk-toggleable\"><input class=\"sk-toggleable__control sk-hidden--visually\" id=\"sk-estimator-id-9\" type=\"checkbox\" ><label for=\"sk-estimator-id-9\" class=\"sk-toggleable__label sk-toggleable__label-arrow\">StandardScaler</label><div class=\"sk-toggleable__content\"><pre>StandardScaler()</pre></div></div></div><div class=\"sk-item\"><div class=\"sk-estimator sk-toggleable\"><input class=\"sk-toggleable__control sk-hidden--visually\" id=\"sk-estimator-id-10\" type=\"checkbox\" ><label for=\"sk-estimator-id-10\" class=\"sk-toggleable__label sk-toggleable__label-arrow\">TruncatedSVD</label><div class=\"sk-toggleable__content\"><pre>TruncatedSVD(n_components=30)</pre></div></div></div><div class=\"sk-item\"><div class=\"sk-estimator sk-toggleable\"><input class=\"sk-toggleable__control sk-hidden--visually\" id=\"sk-estimator-id-11\" type=\"checkbox\" ><label for=\"sk-estimator-id-11\" class=\"sk-toggleable__label sk-toggleable__label-arrow\">LogisticRegression</label><div class=\"sk-toggleable__content\"><pre>LogisticRegression(C=1, n_jobs=-1, verbose=2)</pre></div></div></div></div></div></div></div>"
      ],
      "text/plain": [
       "Pipeline(steps=[('smote',\n",
       "                 SMOTE(sampling_strategy={'Recon-HostDiscovery': 150000,\n",
       "                                          'Recon-OSScan': 150000,\n",
       "                                          'Recon-PortScan': 150000,\n",
       "                                          'VulnerabilityScan': 80000})),\n",
       "                ('under',\n",
       "                 RandomUnderSampler(sampling_strategy={'BenignTraffic': 250000})),\n",
       "                ('preprocessor',\n",
       "                 ColumnTransformer(remainder='passthrough',\n",
       "                                   transformers=[('log',\n",
       "                                                  FunctionTransformer(func=<function log_transform at 0x0000016881872310>),\n",
       "                                                  ['header_length', 'rst_count',\n",
       "                                                   'tot_sum', 'magnitude',\n",
       "                                                   'radius', 'covariance',\n",
       "                                                   'std', 'tot_size',\n",
       "                                                   'ack_count', 'urg_count',\n",
       "                                                   'max', 'min'])])),\n",
       "                ('scaler', StandardScaler()),\n",
       "                ('svd', TruncatedSVD(n_components=30)),\n",
       "                ('logistic_regression',\n",
       "                 LogisticRegression(C=1, n_jobs=-1, verbose=2))],\n",
       "         verbose=True)"
      ]
     },
     "execution_count": 37,
     "metadata": {},
     "output_type": "execute_result"
    }
   ],
   "source": [
    "\n",
    "\n",
    "# Define the log transformation function, adding 1 to avoid taking log of zero\n",
    "def log_transform(x):\n",
    "    return np.log(x + 1)\n",
    "\n",
    "# Create the FunctionTransformer for the log transformation\n",
    "log_transformer = FunctionTransformer(log_transform)\n",
    "\n",
    "# Define the column transformer to apply log transformation only to the specified columns\n",
    "preprocessor = ColumnTransformer(\n",
    "    transformers=[\n",
    "        ('log', log_transformer, columns_to_log_transform)\n",
    "    ],\n",
    "    remainder='passthrough'  # Keep the other columns unchanged\n",
    ")\n",
    "\n",
    "# Create the pipeline\n",
    "pipeline_logreg_logtransformed = imbpipeline(steps=[\n",
    "    ('smote', SMOTE(sampling_strategy=smote_strategy)),\n",
    "    ('under', RandomUnderSampler(sampling_strategy=undersample_strategy)),\n",
    "    ('preprocessor', preprocessor),  # Add the preprocessor before scaling\n",
    "    ('scaler', StandardScaler()),\n",
    "    ('svd', TruncatedSVD(n_components=30)),\n",
    "    ('logistic_regression', LogisticRegression(C=1, n_jobs=-1, verbose=2))\n",
    "], verbose=True)\n",
    "\n",
    "# Fit the pipeline on the training data\n",
    "pipeline_logreg_logtransformed.fit(X_train, y_train)\n"
   ]
  },
  {
   "cell_type": "code",
   "execution_count": 38,
   "id": "dc125206",
   "metadata": {},
   "outputs": [
    {
     "name": "stdout",
     "output_type": "stream",
     "text": [
      "                     precision    recall  f1-score   support\n",
      "\n",
      "      BenignTraffic       0.97      0.93      0.95    329168\n",
      "Recon-HostDiscovery       0.59      0.77      0.67     40530\n",
      "       Recon-OSScan       0.29      0.25      0.27     29757\n",
      "     Recon-PortScan       0.39      0.34      0.36     24652\n",
      "  VulnerabilityScan       0.38      0.72      0.50     11041\n",
      "\n",
      "           accuracy                           0.83    435148\n",
      "          macro avg       0.52      0.60      0.55    435148\n",
      "       weighted avg       0.84      0.83      0.83    435148\n",
      "\n"
     ]
    }
   ],
   "source": [
    "# Predict the outcomes on the test set\n",
    "y_pred = pipeline_logreg_logtransformed.predict(X_test)\n",
    "\n",
    "# Generate the classification report\n",
    "report = classification_report(y_test, y_pred)\n",
    "\n",
    "# Print the classification report\n",
    "print(report)"
   ]
  },
  {
   "cell_type": "markdown",
   "id": "9e692206",
   "metadata": {},
   "source": [
    "That is an improvemet! We'll perform the same checks for the decision trees.\n",
    "\n",
    "However in general regression-based classifiers did not make a good job. Let's turn to trees where we had most success during Sprint 2.\n",
    "\n",
    "Since we know already know which hyperparameters work, let's use them!\n",
    "\n",
    "Let's first try a tree without adaboost predictions.\n"
   ]
  },
  {
   "cell_type": "code",
   "execution_count": 58,
   "id": "6fdcb12d",
   "metadata": {},
   "outputs": [
    {
     "data": {
      "text/plain": [
       "Index(['flow_duration', 'header_length', 'duration', 'rate', 'srate', 'drate',\n",
       "       'fin_flag_number', 'syn_flag_number', 'rst_flag_number',\n",
       "       'psh_flag_number', 'ack_flag_number', 'ece_flag_number',\n",
       "       'cwr_flag_number', 'ack_count', 'syn_count', 'fin_count', 'urg_count',\n",
       "       'rst_count', 'http', 'https', 'dns', 'telnet', 'smtp', 'ssh', 'irc',\n",
       "       'tcp', 'udp', 'dhcp', 'arp', 'icmp', 'ipv', 'llc', 'tot_sum', 'min',\n",
       "       'max', 'avg', 'std', 'tot_size', 'iat', 'number', 'magnitue', 'radius',\n",
       "       'covariance', 'variance', 'weight', 'magnitude',\n",
       "       'protocol_type_ARGUS (deprecated)', 'protocol_type_BBN-RCC-MON',\n",
       "       'protocol_type_CBT', 'protocol_type_CHAOS', 'protocol_type_EGP',\n",
       "       'protocol_type_EMCON', 'protocol_type_GGP', 'protocol_type_HOPOPT',\n",
       "       'protocol_type_ICMP', 'protocol_type_IGMP', 'protocol_type_IGP',\n",
       "       'protocol_type_IPv4', 'protocol_type_NVP-II', 'protocol_type_PUP',\n",
       "       'protocol_type_ST', 'protocol_type_TCP', 'protocol_type_UDP',\n",
       "       'protocol_type_XNET', 'adaboost_binary_pred'],\n",
       "      dtype='object')"
      ]
     },
     "execution_count": 58,
     "metadata": {},
     "output_type": "execute_result"
    }
   ],
   "source": [
    "X_train.columns"
   ]
  },
  {
   "cell_type": "code",
   "execution_count": 59,
   "id": "4d94ef33",
   "metadata": {},
   "outputs": [
    {
     "name": "stdout",
     "output_type": "stream",
     "text": [
      "                     precision    recall  f1-score   support\n",
      "\n",
      "      BenignTraffic       0.98      0.94      0.96    329168\n",
      "Recon-HostDiscovery       0.85      0.91      0.88     40530\n",
      "       Recon-OSScan       0.58      0.73      0.65     29757\n",
      "     Recon-PortScan       0.64      0.74      0.68     24652\n",
      "  VulnerabilityScan       1.00      1.00      1.00     11041\n",
      "\n",
      "           accuracy                           0.91    435148\n",
      "          macro avg       0.81      0.86      0.83    435148\n",
      "       weighted avg       0.92      0.91      0.91    435148\n",
      "\n"
     ]
    }
   ],
   "source": [
    "# Define your pipeline\n",
    "pipe_tree_no_ada = imbpipeline(steps=[\n",
    "    ('smote', SMOTE(sampling_strategy=smote_strategy)),\n",
    "    ('under', RandomUnderSampler(sampling_strategy=undersample_strategy)),\n",
    "    ('scaler', StandardScaler()),\n",
    "    ('decision_tree', DecisionTreeClassifier(max_depth=30, min_samples_leaf=4, min_samples_split=5)) # Hyperparameters from Sprint 2\n",
    "])\n",
    "\n",
    "# Fit the pipeline on the training data\n",
    "pipeline_tree_no_ada = pipe_tree_no_ada.fit(X_train.drop(['adaboost_binary_pred'], axis=1), y_train)\n",
    "\n",
    "# Predict the outcomes on the test set\n",
    "y_pred = pipeline_tree_no_ada.predict(X_test.drop(['adaboost_binary_pred'], axis=1))\n",
    "\n",
    "# Generate the classification report\n",
    "report_tree_no_ada = classification_report(y_test, y_pred)\n",
    "\n",
    "# Print the classification report\n",
    "print(report_tree_no_ada)"
   ]
  },
  {
   "cell_type": "markdown",
   "id": "42603f70",
   "metadata": {},
   "source": [
    "An improvement vs the logistic regression, but let's see if adaboost has an impact!"
   ]
  },
  {
   "cell_type": "code",
   "execution_count": 39,
   "id": "8e22d310",
   "metadata": {},
   "outputs": [
    {
     "name": "stdout",
     "output_type": "stream",
     "text": [
      "                     precision    recall  f1-score   support\n",
      "\n",
      "      BenignTraffic       0.99      0.97      0.98    329168\n",
      "Recon-HostDiscovery       0.89      0.92      0.90     40530\n",
      "       Recon-OSScan       0.71      0.78      0.74     29757\n",
      "     Recon-PortScan       0.70      0.76      0.73     24652\n",
      "  VulnerabilityScan       1.00      1.00      1.00     11041\n",
      "\n",
      "           accuracy                           0.94    435148\n",
      "          macro avg       0.86      0.89      0.87    435148\n",
      "       weighted avg       0.95      0.94      0.94    435148\n",
      "\n"
     ]
    }
   ],
   "source": [
    "\n",
    "# Define your pipeline\n",
    "pipe_tree = imbpipeline(steps=[\n",
    "    ('smote', SMOTE(sampling_strategy=smote_strategy)),\n",
    "    ('under', RandomUnderSampler(sampling_strategy=undersample_strategy)),\n",
    "    ('scaler', StandardScaler()),\n",
    "    ('decision_tree', DecisionTreeClassifier(max_depth=30, min_samples_leaf=4, min_samples_split=5)) # Hyperparameters from Sprint 2\n",
    "])\n",
    "\n",
    "# Fit the pipeline on the training data\n",
    "pipeline_tree = pipe_tree.fit(X_train, y_train)\n",
    "\n",
    "# Predict the outcomes on the test set\n",
    "y_pred = pipeline_tree.predict(X_test)\n",
    "\n",
    "# Generate the classification report\n",
    "report_tree = classification_report(y_test, y_pred)\n",
    "\n",
    "# Print the classification report\n",
    "print(report_tree)"
   ]
  },
  {
   "cell_type": "markdown",
   "id": "00b898cb",
   "metadata": {},
   "source": [
    "It really does have a sensible impact especially on OSScan and PortScan classes, the sneakiest ones."
   ]
  },
  {
   "cell_type": "code",
   "execution_count": 40,
   "id": "4b01dbaf",
   "metadata": {},
   "outputs": [],
   "source": [
    "y_pred_train = pipeline_tree.predict(X_train)\n",
    "report_tree_train = report_tree = classification_report(y_train, y_pred_train)"
   ]
  },
  {
   "cell_type": "code",
   "execution_count": 41,
   "id": "f5050b4c",
   "metadata": {},
   "outputs": [
    {
     "name": "stdout",
     "output_type": "stream",
     "text": [
      "                     precision    recall  f1-score   support\n",
      "\n",
      "      BenignTraffic       1.00      0.98      0.99    769027\n",
      "Recon-HostDiscovery       0.93      0.97      0.95     93847\n",
      "       Recon-OSScan       0.82      0.91      0.86     68502\n",
      "     Recon-PortScan       0.85      0.90      0.87     57628\n",
      "  VulnerabilityScan       1.00      1.00      1.00     26341\n",
      "\n",
      "           accuracy                           0.97   1015345\n",
      "          macro avg       0.92      0.95      0.93   1015345\n",
      "       weighted avg       0.97      0.97      0.97   1015345\n",
      "\n"
     ]
    }
   ],
   "source": [
    "print(report_tree_train)\n"
   ]
  },
  {
   "cell_type": "markdown",
   "id": "e0a651ec",
   "metadata": {},
   "source": [
    "Although overfitting a little bit, again the Tree Classifier really shines! Let's further inspect with the confusion matrix"
   ]
  },
  {
   "cell_type": "code",
   "execution_count": 42,
   "id": "c3bd0947",
   "metadata": {},
   "outputs": [
    {
     "data": {
      "image/png": "[encoded data removed]",
      "text/plain": [
       "<Figure size 640x480 with 2 Axes>"
      ]
     },
     "metadata": {},
     "output_type": "display_data"
    }
   ],
   "source": [
    "\n",
    "cm = confusion_matrix(y_test, y_pred)\n",
    "sns.heatmap(cm, annot=True, fmt='g')\n",
    "plt.xlabel('Predicted')\n",
    "plt.ylabel('True')\n",
    "plt.show()"
   ]
  },
  {
   "cell_type": "markdown",
   "id": "cfe5fe63",
   "metadata": {},
   "source": [
    "We are also seeing 100% accuracy in vulnerability scan. While this fact definetly rises some eyebrows, it's actually readily explainable.\n",
    "\n",
    "Vulnerability scans are typically more aggressive and generate a higher volume of traffic because they probe multiple points to find vulnerabilities. In other words they are definetly the loudest among all of the recon attacks in the dataaset. Our tree might have just recognized that."
   ]
  },
  {
   "cell_type": "code",
   "execution_count": 69,
   "id": "11b2a1d7",
   "metadata": {},
   "outputs": [
    {
     "name": "stdout",
     "output_type": "stream",
     "text": [
      "       flow_duration  header_length       duration          rate  \\\n",
      "count -279796.000000  -2.797960e+05 -279796.000000 -2.797960e+05   \n",
      "mean      -68.781158   1.869284e+05      -5.596550  7.900409e+00   \n",
      "std     -1577.971283   4.577915e+05     -26.472725 -1.376040e+04   \n",
      "min         0.000179   8.000000e+00       3.200000  0.000000e+00   \n",
      "25%        35.514279   7.609750e+03      16.709999  5.000000e+00   \n",
      "50%       111.529582   1.332050e+04       1.879997  2.000000e+00   \n",
      "75%       140.757219   2.768475e+04     -19.532499 -6.000000e+00   \n",
      "max    -54374.576172   5.869407e+06      -6.929993 -1.336718e+06   \n",
      "\n",
      "              srate     drate  fin_flag_number  syn_flag_number  \\\n",
      "count -2.797960e+05 -279796.0   -279796.000000   -279796.000000   \n",
      "mean   7.900409e+00       0.0        -0.000996        -0.163875   \n",
      "std   -1.376040e+04       0.0        -0.031548        -0.280138   \n",
      "min    0.000000e+00       0.0         0.000000         0.000000   \n",
      "25%    5.000000e+00       0.0         0.000000         0.000000   \n",
      "50%    2.000000e+00       0.0         0.000000         0.000000   \n",
      "75%   -6.000000e+00       0.0         0.000000         0.000000   \n",
      "max   -1.336718e+06       0.0        -1.000000         0.000000   \n",
      "\n",
      "       rst_flag_number  psh_flag_number  ...  protocol_type_ICMP  \\\n",
      "count   -279796.000000   -279796.000000  ...      -279796.000000   \n",
      "mean         -0.113896        -0.012187  ...           -0.000765   \n",
      "std          -0.281773        -0.052073  ...           -0.022948   \n",
      "min           0.000000         0.000000  ...            0.000000   \n",
      "25%           0.000000         0.000000  ...            0.000000   \n",
      "50%           0.000000         0.000000  ...            0.000000   \n",
      "75%           0.000000         0.000000  ...            0.000000   \n",
      "max           0.000000         0.000000  ...            0.000000   \n",
      "\n",
      "       protocol_type_IGMP  protocol_type_IGP  protocol_type_IPv4  \\\n",
      "count      -279796.000000     -279796.000000      -279796.000000   \n",
      "mean            -0.000850           0.144606           -0.021329   \n",
      "std             -0.021525           0.159737           -0.126366   \n",
      "min              0.000000           0.000000            0.000000   \n",
      "25%              0.000000           0.000000            0.000000   \n",
      "50%              0.000000           0.000000            0.000000   \n",
      "75%              0.000000           0.000000            0.000000   \n",
      "max              0.000000           0.000000            0.000000   \n",
      "\n",
      "       protocol_type_NVP-II  protocol_type_PUP  protocol_type_ST  \\\n",
      "count        -279796.000000     -279796.000000    -279796.000000   \n",
      "mean               0.028958           0.012059         -0.047779   \n",
      "std                0.065534           0.032263         -0.125254   \n",
      "min                0.000000           0.000000          0.000000   \n",
      "25%                0.000000           0.000000          0.000000   \n",
      "50%                0.000000           0.000000          0.000000   \n",
      "75%                0.000000           0.000000          0.000000   \n",
      "max                0.000000           0.000000          0.000000   \n",
      "\n",
      "       protocol_type_TCP  protocol_type_UDP  protocol_type_XNET  \n",
      "count     -279796.000000     -279796.000000      -279796.000000  \n",
      "mean           -0.318603          -0.003861           -0.005760  \n",
      "std            -0.145779          -0.053696           -0.054068  \n",
      "min             0.000000           0.000000            0.000000  \n",
      "25%             0.000000           0.000000            0.000000  \n",
      "50%             0.000000           0.000000            0.000000  \n",
      "75%            -1.000000           0.000000            0.000000  \n",
      "max             0.000000           0.000000            0.000000  \n",
      "\n",
      "[8 rows x 64 columns]\n"
     ]
    }
   ],
   "source": [
    "#Display differences in values between vulnerability scans and all other cyberattacks\n",
    "\n",
    "print((X[y.values==['VulnerabilityScan']].describe()) - (X[(y.values!=['VulnerabilityScan']) & (y.values!=['BenignTraffic'])].describe()))"
   ]
  },
  {
   "cell_type": "markdown",
   "id": "7de784d2",
   "metadata": {},
   "source": [
    "This actually confirms our background knowledge, but since it is such an important part, lets summarze the highlights from this analysis.\n",
    "\n",
    "**Mean Differences**\n",
    "\n",
    "*flow_duration*: A negative mean suggests that VulnerabilityScan attacks, on average, have shorter flow durations than other cyberattacks. This could be due to the more targeted nature of vulnerability scans.\n",
    "*header_length*: A positive mean indicates that VulnerabilityScan attacks tend to have larger packet headers, which might be characteristic of the tools used for these scans.\n",
    "*duration*: Negative values in duration mean that VulnerabilityScan attacks have shorter active durations compared to other attacks, possibly indicating quicker, more efficient scanning processes.\n",
    "*rate and srate*: Positive values suggest a higher packet transmission rate for VulnerabilityScan attacks, which aligns with the aggressive nature of scanning the network for vulnerabilities.\n",
    "*syn_flag_number*: The negative mean for SYN flags could imply that VulnerabilityScan attacks use fewer SYN packets, which are typically used to initiate connections, compared to other attacks. This might be because vulnerability scans often involve sending specific types of packets to probe for weaknesses rather than establishing full connections.\n",
    "\n",
    "**Standard Deviation (std)**\n",
    "The significant negative std in features like flow_duration, duration, and rate suggests less variability in these features for VulnerabilityScan attacks compared to others, indicating more consistent behavior within VulnerabilityScan attacks.\n",
    "\n",
    "In short, since this is an automated attack performed on the whole of the network, its we have longer flow durations with packets much heavier. Compared to the other attacks, this one is really noisy.\n",
    "\n",
    "The differences are quite striking. No wonder our tree managed to detect them!"
   ]
  },
  {
   "cell_type": "markdown",
   "id": "b4f8722e",
   "metadata": {},
   "source": [
    "Going back to our tree's performance, out of roughly 30k test record for 'Recon-OSScan', about 5k are misclassified for 'Benign Traffic'. Other than that, it's clear that decision trees are again a promising family of model. \n",
    "However, as decision trees tend to do, it does overfit quite a bit.\n",
    "\n",
    "Let's continue our search by turning to a more sophisticated model of that family: Random Forest.\n",
    "\n",
    "From now on we will focus mainly on ensamble techniques."
   ]
  },
  {
   "cell_type": "markdown",
   "id": "30c84a32",
   "metadata": {},
   "source": [
    "On a separate notebook I tried several setups for a random forest classifiers, using a GridSearchCV on several hyperparameters. I will show here just the training for the best estimator. I'm keeping the cell outside this notebook as the training time was very long even for specialized cloud services!"
   ]
  },
  {
   "cell_type": "code",
   "execution_count": 43,
   "id": "4a0d8469",
   "metadata": {},
   "outputs": [
    {
     "name": "stderr",
     "output_type": "stream",
     "text": [
      "[Parallel(n_jobs=-1)]: Using backend ThreadingBackend with 8 concurrent workers.\n"
     ]
    },
    {
     "name": "stdout",
     "output_type": "stream",
     "text": [
      "building tree 1 of 300\n",
      "building tree 2 of 300\n",
      "building tree 3 of 300\n",
      "building tree 4 of 300\n",
      "building tree 5 of 300\n",
      "building tree 6 of 300\n",
      "building tree 7 of 300\n",
      "building tree 8 of 300\n",
      "building tree 9 of 300\n",
      "building tree 10 of 300\n",
      "building tree 11 of 300\n",
      "building tree 12 of 300\n",
      "building tree 13 of 300\n",
      "building tree 14 of 300\n",
      "building tree 15 of 300\n",
      "building tree 16 of 300\n",
      "building tree 17 of 300\n",
      "building tree 18 of 300\n",
      "building tree 19 of 300\n",
      "building tree 20 of 300\n",
      "building tree 21 of 300\n",
      "building tree 22 of 300\n",
      "building tree 23 of 300\n",
      "building tree 24 of 300\n",
      "building tree 25 of 300\n",
      "building tree 26 of 300\n",
      "building tree 27 of 300\n",
      "building tree 28 of 300\n",
      "building tree 29 of 300\n",
      "building tree 30 of 300\n",
      "building tree 31 of 300\n",
      "building tree 32 of 300\n",
      "building tree 33 of 300\n"
     ]
    },
    {
     "name": "stderr",
     "output_type": "stream",
     "text": [
      "[Parallel(n_jobs=-1)]: Done  25 tasks      | elapsed:   26.5s\n"
     ]
    },
    {
     "name": "stdout",
     "output_type": "stream",
     "text": [
      "building tree 34 of 300\n",
      "building tree 35 of 300\n",
      "building tree 36 of 300\n",
      "building tree 37 of 300\n",
      "building tree 38 of 300\n",
      "building tree 39 of 300\n",
      "building tree 40 of 300\n",
      "building tree 41 of 300\n",
      "building tree 42 of 300\n",
      "building tree 43 of 300\n",
      "building tree 44 of 300\n",
      "building tree 45 of 300\n",
      "building tree 46 of 300\n",
      "building tree 47 of 300\n",
      "building tree 48 of 300\n",
      "building tree 49 of 300\n",
      "building tree 50 of 300\n",
      "building tree 51 of 300\n",
      "building tree 52 of 300\n",
      "building tree 53 of 300\n",
      "building tree 54 of 300\n",
      "building tree 55 of 300\n",
      "building tree 56 of 300\n",
      "building tree 57 of 300\n",
      "building tree 58 of 300\n",
      "building tree 59 of 300\n",
      "building tree 60 of 300\n",
      "building tree 61 of 300\n",
      "building tree 62 of 300\n",
      "building tree 63 of 300\n",
      "building tree 64 of 300\n",
      "building tree 65 of 300\n",
      "building tree 66 of 300\n",
      "building tree 67 of 300\n",
      "building tree 68 of 300\n",
      "building tree 69 of 300\n",
      "building tree 70 of 300\n",
      "building tree 71 of 300\n",
      "building tree 72 of 300\n",
      "building tree 73 of 300\n",
      "building tree 74 of 300\n",
      "building tree 75 of 300\n",
      "building tree 76 of 300\n",
      "building tree 77 of 300\n",
      "building tree 78 of 300\n",
      "building tree 79 of 300\n",
      "building tree 80 of 300\n",
      "building tree 81 of 300\n",
      "building tree 82 of 300\n",
      "building tree 83 of 300\n",
      "building tree 84 of 300\n",
      "building tree 85 of 300\n",
      "building tree 86 of 300\n",
      "building tree 87 of 300\n",
      "building tree 88 of 300\n",
      "building tree 89 of 300\n",
      "building tree 90 of 300\n",
      "building tree 91 of 300\n",
      "building tree 92 of 300\n",
      "building tree 93 of 300\n",
      "building tree 94 of 300\n",
      "building tree 95 of 300\n",
      "building tree 96 of 300\n",
      "building tree 97 of 300\n",
      "building tree 98 of 300\n",
      "building tree 99 of 300\n",
      "building tree 100 of 300\n",
      "building tree 101 of 300\n",
      "building tree 102 of 300\n",
      "building tree 103 of 300\n",
      "building tree 104 of 300\n",
      "building tree 105 of 300\n",
      "building tree 106 of 300\n",
      "building tree 107 of 300\n",
      "building tree 108 of 300\n",
      "building tree 109 of 300\n",
      "building tree 110 of 300\n",
      "building tree 111 of 300\n",
      "building tree 112 of 300\n",
      "building tree 113 of 300\n",
      "building tree 114 of 300\n",
      "building tree 115 of 300\n",
      "building tree 116 of 300\n",
      "building tree 117 of 300\n",
      "building tree 118 of 300\n",
      "building tree 119 of 300\n",
      "building tree 120 of 300\n",
      "building tree 121 of 300\n",
      "building tree 122 of 300\n",
      "building tree 123 of 300\n",
      "building tree 124 of 300\n",
      "building tree 125 of 300\n",
      "building tree 126 of 300\n",
      "building tree 127 of 300\n",
      "building tree 128 of 300\n",
      "building tree 129 of 300\n",
      "building tree 130 of 300\n",
      "building tree 131 of 300\n",
      "building tree 132 of 300\n",
      "building tree 133 of 300\n",
      "building tree 134 of 300\n",
      "building tree 135 of 300\n",
      "building tree 136 of 300\n",
      "building tree 137 of 300\n",
      "building tree 138 of 300\n",
      "building tree 139 of 300\n",
      "building tree 140 of 300\n",
      "building tree 141 of 300\n",
      "building tree 142 of 300\n",
      "building tree 143 of 300\n",
      "building tree 144 of 300\n",
      "building tree 145 of 300\n",
      "building tree 146 of 300\n",
      "building tree 147 of 300\n",
      "building tree 148 of 300\n",
      "building tree 149 of 300\n",
      "building tree 150 of 300\n",
      "building tree 151 of 300\n",
      "building tree 152 of 300\n",
      "building tree 153 of 300\n",
      "building tree 154 of 300\n"
     ]
    },
    {
     "name": "stderr",
     "output_type": "stream",
     "text": [
      "[Parallel(n_jobs=-1)]: Done 146 tasks      | elapsed:  2.3min\n"
     ]
    },
    {
     "name": "stdout",
     "output_type": "stream",
     "text": [
      "building tree 155 of 300\n",
      "building tree 156 of 300\n",
      "building tree 157 of 300\n",
      "building tree 158 of 300\n",
      "building tree 159 of 300\n",
      "building tree 160 of 300\n",
      "building tree 161 of 300\n",
      "building tree 162 of 300\n",
      "building tree 163 of 300\n",
      "building tree 164 of 300\n",
      "building tree 165 of 300\n",
      "building tree 166 of 300\n",
      "building tree 167 of 300\n",
      "building tree 168 of 300\n",
      "building tree 169 of 300\n",
      "building tree 170 of 300\n",
      "building tree 171 of 300\n",
      "building tree 172 of 300\n",
      "building tree 173 of 300\n",
      "building tree 174 of 300\n",
      "building tree 175 of 300\n",
      "building tree 176 of 300\n",
      "building tree 177 of 300\n",
      "building tree 178 of 300\n",
      "building tree 179 of 300\n",
      "building tree 180 of 300\n",
      "building tree 181 of 300\n",
      "building tree 182 of 300\n",
      "building tree 183 of 300\n",
      "building tree 184 of 300\n",
      "building tree 185 of 300\n",
      "building tree 186 of 300\n",
      "building tree 187 of 300\n",
      "building tree 188 of 300\n",
      "building tree 189 of 300\n",
      "building tree 190 of 300\n",
      "building tree 191 of 300\n",
      "building tree 192 of 300\n",
      "building tree 193 of 300\n",
      "building tree 194 of 300\n",
      "building tree 195 of 300\n",
      "building tree 196 of 300\n",
      "building tree 197 of 300\n",
      "building tree 198 of 300\n",
      "building tree 199 of 300\n",
      "building tree 200 of 300\n",
      "building tree 201 of 300\n",
      "building tree 202 of 300\n",
      "building tree 203 of 300\n",
      "building tree 204 of 300\n",
      "building tree 205 of 300\n",
      "building tree 206 of 300\n",
      "building tree 207 of 300\n",
      "building tree 208 of 300\n",
      "building tree 209 of 300\n",
      "building tree 210 of 300\n",
      "building tree 211 of 300\n",
      "building tree 212 of 300\n",
      "building tree 213 of 300\n",
      "building tree 214 of 300\n",
      "building tree 215 of 300\n",
      "building tree 216 of 300\n",
      "building tree 217 of 300\n",
      "building tree 218 of 300\n",
      "building tree 219 of 300\n",
      "building tree 220 of 300\n",
      "building tree 221 of 300\n",
      "building tree 222 of 300\n",
      "building tree 223 of 300\n",
      "building tree 224 of 300\n",
      "building tree 225 of 300\n",
      "building tree 226 of 300\n",
      "building tree 227 of 300\n",
      "building tree 228 of 300\n",
      "building tree 229 of 300\n",
      "building tree 230 of 300\n",
      "building tree 231 of 300\n",
      "building tree 232 of 300\n",
      "building tree 233 of 300\n",
      "building tree 234 of 300\n",
      "building tree 235 of 300\n",
      "building tree 236 of 300\n",
      "building tree 237 of 300\n",
      "building tree 238 of 300\n",
      "building tree 239 of 300\n",
      "building tree 240 of 300\n",
      "building tree 241 of 300\n",
      "building tree 242 of 300\n",
      "building tree 243 of 300\n",
      "building tree 244 of 300\n",
      "building tree 245 of 300\n",
      "building tree 246 of 300\n",
      "building tree 247 of 300\n",
      "building tree 248 of 300\n",
      "building tree 249 of 300\n",
      "building tree 250 of 300\n",
      "building tree 251 of 300\n",
      "building tree 252 of 300\n",
      "building tree 253 of 300\n",
      "building tree 254 of 300\n",
      "building tree 255 of 300\n",
      "building tree 256 of 300\n",
      "building tree 257 of 300\n",
      "building tree 258 of 300\n",
      "building tree 259 of 300\n",
      "building tree 260 of 300\n",
      "building tree 261 of 300\n",
      "building tree 262 of 300\n",
      "building tree 263 of 300\n",
      "building tree 264 of 300\n",
      "building tree 265 of 300\n",
      "building tree 266 of 300\n",
      "building tree 267 of 300\n",
      "building tree 268 of 300\n",
      "building tree 269 of 300\n",
      "building tree 270 of 300\n",
      "building tree 271 of 300\n",
      "building tree 272 of 300\n",
      "building tree 273 of 300\n",
      "building tree 274 of 300\n",
      "building tree 275 of 300\n",
      "building tree 276 of 300\n",
      "building tree 277 of 300\n",
      "building tree 278 of 300\n",
      "building tree 279 of 300\n",
      "building tree 280 of 300\n",
      "building tree 281 of 300\n",
      "building tree 282 of 300\n",
      "building tree 283 of 300\n",
      "building tree 284 of 300\n",
      "building tree 285 of 300\n",
      "building tree 286 of 300\n",
      "building tree 287 of 300\n",
      "building tree 288 of 300\n",
      "building tree 289 of 300\n",
      "building tree 290 of 300\n",
      "building tree 291 of 300\n",
      "building tree 292 of 300\n",
      "building tree 293 of 300\n",
      "building tree 294 of 300\n",
      "building tree 295 of 300\n",
      "building tree 296 of 300\n",
      "building tree 297 of 300\n",
      "building tree 298 of 300\n",
      "building tree 299 of 300\n",
      "building tree 300 of 300\n"
     ]
    },
    {
     "name": "stderr",
     "output_type": "stream",
     "text": [
      "[Parallel(n_jobs=-1)]: Done 300 out of 300 | elapsed:  5.2min finished\n"
     ]
    },
    {
     "data": {
      "text/html": [
       "<style>#sk-container-id-2 {color: black;}#sk-container-id-2 pre{padding: 0;}#sk-container-id-2 div.sk-toggleable {background-color: white;}#sk-container-id-2 label.sk-toggleable__label {cursor: pointer;display: block;width: 100%;margin-bottom: 0;padding: 0.3em;box-sizing: border-box;text-align: center;}#sk-container-id-2 label.sk-toggleable__label-arrow:before {content: \"▸\";float: left;margin-right: 0.25em;color: #696969;}#sk-container-id-2 label.sk-toggleable__label-arrow:hover:before {color: black;}#sk-container-id-2 div.sk-estimator:hover label.sk-toggleable__label-arrow:before {color: black;}#sk-container-id-2 div.sk-toggleable__content {max-height: 0;max-width: 0;overflow: hidden;text-align: left;background-color: #f0f8ff;}#sk-container-id-2 div.sk-toggleable__content pre {margin: 0.2em;color: black;border-radius: 0.25em;background-color: #f0f8ff;}#sk-container-id-2 input.sk-toggleable__control:checked~div.sk-toggleable__content {max-height: 200px;max-width: 100%;overflow: auto;}#sk-container-id-2 input.sk-toggleable__control:checked~label.sk-toggleable__label-arrow:before {content: \"▾\";}#sk-container-id-2 div.sk-estimator input.sk-toggleable__control:checked~label.sk-toggleable__label {background-color: #d4ebff;}#sk-container-id-2 div.sk-label input.sk-toggleable__control:checked~label.sk-toggleable__label {background-color: #d4ebff;}#sk-container-id-2 input.sk-hidden--visually {border: 0;clip: rect(1px 1px 1px 1px);clip: rect(1px, 1px, 1px, 1px);height: 1px;margin: -1px;overflow: hidden;padding: 0;position: absolute;width: 1px;}#sk-container-id-2 div.sk-estimator {font-family: monospace;background-color: #f0f8ff;border: 1px dotted black;border-radius: 0.25em;box-sizing: border-box;margin-bottom: 0.5em;}#sk-container-id-2 div.sk-estimator:hover {background-color: #d4ebff;}#sk-container-id-2 div.sk-parallel-item::after {content: \"\";width: 100%;border-bottom: 1px solid gray;flex-grow: 1;}#sk-container-id-2 div.sk-label:hover label.sk-toggleable__label {background-color: #d4ebff;}#sk-container-id-2 div.sk-serial::before {content: \"\";position: absolute;border-left: 1px solid gray;box-sizing: border-box;top: 0;bottom: 0;left: 50%;z-index: 0;}#sk-container-id-2 div.sk-serial {display: flex;flex-direction: column;align-items: center;background-color: white;padding-right: 0.2em;padding-left: 0.2em;position: relative;}#sk-container-id-2 div.sk-item {position: relative;z-index: 1;}#sk-container-id-2 div.sk-parallel {display: flex;align-items: stretch;justify-content: center;background-color: white;position: relative;}#sk-container-id-2 div.sk-item::before, #sk-container-id-2 div.sk-parallel-item::before {content: \"\";position: absolute;border-left: 1px solid gray;box-sizing: border-box;top: 0;bottom: 0;left: 50%;z-index: -1;}#sk-container-id-2 div.sk-parallel-item {display: flex;flex-direction: column;z-index: 1;position: relative;background-color: white;}#sk-container-id-2 div.sk-parallel-item:first-child::after {align-self: flex-end;width: 50%;}#sk-container-id-2 div.sk-parallel-item:last-child::after {align-self: flex-start;width: 50%;}#sk-container-id-2 div.sk-parallel-item:only-child::after {width: 0;}#sk-container-id-2 div.sk-dashed-wrapped {border: 1px dashed gray;margin: 0 0.4em 0.5em 0.4em;box-sizing: border-box;padding-bottom: 0.4em;background-color: white;}#sk-container-id-2 div.sk-label label {font-family: monospace;font-weight: bold;display: inline-block;line-height: 1.2em;}#sk-container-id-2 div.sk-label-container {text-align: center;}#sk-container-id-2 div.sk-container {/* jupyter's `normalize.less` sets `[hidden] { display: none; }` but bootstrap.min.css set `[hidden] { display: none !important; }` so we also need the `!important` here to be able to override the default hidden behavior on the sphinx rendered scikit-learn.org. See: https://github.com/scikit-learn/scikit-learn/issues/21755 */display: inline-block !important;position: relative;}#sk-container-id-2 div.sk-text-repr-fallback {display: none;}</style><div id=\"sk-container-id-2\" class=\"sk-top-container\"><div class=\"sk-text-repr-fallback\"><pre>Pipeline(steps=[(&#x27;smote&#x27;,\n",
       "                 SMOTE(sampling_strategy={&#x27;Recon-HostDiscovery&#x27;: 150000,\n",
       "                                          &#x27;Recon-OSScan&#x27;: 150000,\n",
       "                                          &#x27;Recon-PortScan&#x27;: 150000,\n",
       "                                          &#x27;VulnerabilityScan&#x27;: 80000})),\n",
       "                (&#x27;under&#x27;,\n",
       "                 RandomUnderSampler(sampling_strategy={&#x27;BenignTraffic&#x27;: 250000})),\n",
       "                (&#x27;scaler&#x27;, StandardScaler()),\n",
       "                (&#x27;random_forest&#x27;,\n",
       "                 RandomForestClassifier(class_weight=&#x27;balanced&#x27;, max_depth=30,\n",
       "                                        min_samples_leaf=10,\n",
       "                                        min_samples_split=10, n_estimators=300,\n",
       "                                        n_jobs=-1, verbose=2))])</pre><b>In a Jupyter environment, please rerun this cell to show the HTML representation or trust the notebook. <br />On GitHub, the HTML representation is unable to render, please try loading this page with nbviewer.org.</b></div><div class=\"sk-container\" hidden><div class=\"sk-item sk-dashed-wrapped\"><div class=\"sk-label-container\"><div class=\"sk-label sk-toggleable\"><input class=\"sk-toggleable__control sk-hidden--visually\" id=\"sk-estimator-id-12\" type=\"checkbox\" ><label for=\"sk-estimator-id-12\" class=\"sk-toggleable__label sk-toggleable__label-arrow\">Pipeline</label><div class=\"sk-toggleable__content\"><pre>Pipeline(steps=[(&#x27;smote&#x27;,\n",
       "                 SMOTE(sampling_strategy={&#x27;Recon-HostDiscovery&#x27;: 150000,\n",
       "                                          &#x27;Recon-OSScan&#x27;: 150000,\n",
       "                                          &#x27;Recon-PortScan&#x27;: 150000,\n",
       "                                          &#x27;VulnerabilityScan&#x27;: 80000})),\n",
       "                (&#x27;under&#x27;,\n",
       "                 RandomUnderSampler(sampling_strategy={&#x27;BenignTraffic&#x27;: 250000})),\n",
       "                (&#x27;scaler&#x27;, StandardScaler()),\n",
       "                (&#x27;random_forest&#x27;,\n",
       "                 RandomForestClassifier(class_weight=&#x27;balanced&#x27;, max_depth=30,\n",
       "                                        min_samples_leaf=10,\n",
       "                                        min_samples_split=10, n_estimators=300,\n",
       "                                        n_jobs=-1, verbose=2))])</pre></div></div></div><div class=\"sk-serial\"><div class=\"sk-item\"><div class=\"sk-estimator sk-toggleable\"><input class=\"sk-toggleable__control sk-hidden--visually\" id=\"sk-estimator-id-13\" type=\"checkbox\" ><label for=\"sk-estimator-id-13\" class=\"sk-toggleable__label sk-toggleable__label-arrow\">SMOTE</label><div class=\"sk-toggleable__content\"><pre>SMOTE(sampling_strategy={&#x27;Recon-HostDiscovery&#x27;: 150000, &#x27;Recon-OSScan&#x27;: 150000,\n",
       "                         &#x27;Recon-PortScan&#x27;: 150000, &#x27;VulnerabilityScan&#x27;: 80000})</pre></div></div></div><div class=\"sk-item\"><div class=\"sk-estimator sk-toggleable\"><input class=\"sk-toggleable__control sk-hidden--visually\" id=\"sk-estimator-id-14\" type=\"checkbox\" ><label for=\"sk-estimator-id-14\" class=\"sk-toggleable__label sk-toggleable__label-arrow\">RandomUnderSampler</label><div class=\"sk-toggleable__content\"><pre>RandomUnderSampler(sampling_strategy={&#x27;BenignTraffic&#x27;: 250000})</pre></div></div></div><div class=\"sk-item\"><div class=\"sk-estimator sk-toggleable\"><input class=\"sk-toggleable__control sk-hidden--visually\" id=\"sk-estimator-id-15\" type=\"checkbox\" ><label for=\"sk-estimator-id-15\" class=\"sk-toggleable__label sk-toggleable__label-arrow\">StandardScaler</label><div class=\"sk-toggleable__content\"><pre>StandardScaler()</pre></div></div></div><div class=\"sk-item\"><div class=\"sk-estimator sk-toggleable\"><input class=\"sk-toggleable__control sk-hidden--visually\" id=\"sk-estimator-id-16\" type=\"checkbox\" ><label for=\"sk-estimator-id-16\" class=\"sk-toggleable__label sk-toggleable__label-arrow\">RandomForestClassifier</label><div class=\"sk-toggleable__content\"><pre>RandomForestClassifier(class_weight=&#x27;balanced&#x27;, max_depth=30,\n",
       "                       min_samples_leaf=10, min_samples_split=10,\n",
       "                       n_estimators=300, n_jobs=-1, verbose=2)</pre></div></div></div></div></div></div></div>"
      ],
      "text/plain": [
       "Pipeline(steps=[('smote',\n",
       "                 SMOTE(sampling_strategy={'Recon-HostDiscovery': 150000,\n",
       "                                          'Recon-OSScan': 150000,\n",
       "                                          'Recon-PortScan': 150000,\n",
       "                                          'VulnerabilityScan': 80000})),\n",
       "                ('under',\n",
       "                 RandomUnderSampler(sampling_strategy={'BenignTraffic': 250000})),\n",
       "                ('scaler', StandardScaler()),\n",
       "                ('random_forest',\n",
       "                 RandomForestClassifier(class_weight='balanced', max_depth=30,\n",
       "                                        min_samples_leaf=10,\n",
       "                                        min_samples_split=10, n_estimators=300,\n",
       "                                        n_jobs=-1, verbose=2))])"
      ]
     },
     "execution_count": 43,
     "metadata": {},
     "output_type": "execute_result"
    }
   ],
   "source": [
    "# Create a pipeline that resamples the data, then applies scaling, dimensionality reduction, and fits a random forest model\n",
    "pipeline_test = imbpipeline(steps=[\n",
    "    ('smote', SMOTE(sampling_strategy=smote_strategy)),\n",
    "    ('under', RandomUnderSampler(sampling_strategy=undersample_strategy)),\n",
    "    ('scaler', StandardScaler()),\n",
    "    \n",
    "    ('random_forest',RandomForestClassifier(\n",
    "    n_estimators=300, \n",
    "    max_depth=30,  \n",
    "    min_samples_split=10,  \n",
    "    min_samples_leaf=10,\n",
    "    bootstrap=True,\n",
    "    class_weight='balanced',\n",
    "    max_features='sqrt',  \n",
    "    n_jobs=-1, \n",
    "    verbose=2\n",
    "    ))\n",
    "])\n",
    "\n",
    "# Fit the pipeline on the training data\n",
    "pipeline_test.fit(X_train, y_train)"
   ]
  },
  {
   "cell_type": "code",
   "execution_count": 44,
   "id": "b79adffc",
   "metadata": {},
   "outputs": [
    {
     "name": "stderr",
     "output_type": "stream",
     "text": [
      "[Parallel(n_jobs=8)]: Using backend ThreadingBackend with 8 concurrent workers.\n",
      "[Parallel(n_jobs=8)]: Done  25 tasks      | elapsed:    0.7s\n",
      "[Parallel(n_jobs=8)]: Done 146 tasks      | elapsed:    4.4s\n",
      "[Parallel(n_jobs=8)]: Done 300 out of 300 | elapsed:    9.1s finished\n"
     ]
    },
    {
     "name": "stdout",
     "output_type": "stream",
     "text": [
      "                     precision    recall  f1-score   support\n",
      "\n",
      "      BenignTraffic       0.99      0.98      0.99    329168\n",
      "Recon-HostDiscovery       0.89      0.95      0.92     40530\n",
      "       Recon-OSScan       0.82      0.79      0.81     29757\n",
      "     Recon-PortScan       0.74      0.80      0.77     24652\n",
      "  VulnerabilityScan       1.00      1.00      1.00     11041\n",
      "\n",
      "           accuracy                           0.96    435148\n",
      "          macro avg       0.89      0.90      0.90    435148\n",
      "       weighted avg       0.96      0.96      0.96    435148\n",
      "\n"
     ]
    }
   ],
   "source": [
    "y_pred = pipeline_test.predict(X_test)\n",
    "\n",
    "report = classification_report(y_test, y_pred)\n",
    "print(report)"
   ]
  },
  {
   "cell_type": "code",
   "execution_count": 45,
   "id": "bb6072ec",
   "metadata": {},
   "outputs": [
    {
     "name": "stderr",
     "output_type": "stream",
     "text": [
      "[Parallel(n_jobs=8)]: Using backend ThreadingBackend with 8 concurrent workers.\n",
      "[Parallel(n_jobs=8)]: Done  25 tasks      | elapsed:    1.7s\n",
      "[Parallel(n_jobs=8)]: Done 146 tasks      | elapsed:   10.1s\n",
      "[Parallel(n_jobs=8)]: Done 300 out of 300 | elapsed:   21.0s finished\n"
     ]
    },
    {
     "name": "stdout",
     "output_type": "stream",
     "text": [
      "                     precision    recall  f1-score   support\n",
      "\n",
      "      BenignTraffic       0.99      0.98      0.99    769027\n",
      "Recon-HostDiscovery       0.91      0.96      0.94     93847\n",
      "       Recon-OSScan       0.87      0.85      0.86     68502\n",
      "     Recon-PortScan       0.82      0.87      0.84     57628\n",
      "  VulnerabilityScan       1.00      1.00      1.00     26341\n",
      "\n",
      "           accuracy                           0.97   1015345\n",
      "          macro avg       0.92      0.93      0.93   1015345\n",
      "       weighted avg       0.97      0.97      0.97   1015345\n",
      "\n"
     ]
    }
   ],
   "source": [
    "y_pred_train = pipeline_test.predict(X_train)\n",
    "\n",
    "report = classification_report(y_train, y_pred_train)\n",
    "print(report)"
   ]
  },
  {
   "cell_type": "markdown",
   "id": "0cadc141",
   "metadata": {},
   "source": [
    "Now we have improved almost all kpis vs our previous tree. But most importantly, our random forest doesn't overfit nearly as much as our tree! Let's again take a good look at the results."
   ]
  },
  {
   "cell_type": "code",
   "execution_count": 46,
   "id": "dd0a3d36",
   "metadata": {},
   "outputs": [
    {
     "data": {
      "image/png": "[encoded data removed]",
      "text/plain": [
       "<Figure size 640x480 with 2 Axes>"
      ]
     },
     "metadata": {},
     "output_type": "display_data"
    }
   ],
   "source": [
    "from sklearn.metrics import confusion_matrix\n",
    "import seaborn as sns\n",
    "import matplotlib.pyplot as plt\n",
    "\n",
    "cm = confusion_matrix(y_test, y_pred)\n",
    "sns.heatmap(cm, annot=True, fmt='g')\n",
    "plt.xlabel('Predicted')\n",
    "plt.ylabel('True')\n",
    "plt.show()"
   ]
  },
  {
   "cell_type": "markdown",
   "id": "eac74de9",
   "metadata": {},
   "source": [
    "Again the weakest part of this model is really in the precision of class Port Scan and both precision and recall of Os Scan.\n",
    "\n",
    "Maybe they will benefit from a diffrent approach. Maybe if we use our adaboost prediction differently, we might be able to specialize the model to the multiclass problem better. \n",
    "\n",
    "In the last cases we employed the adaboost prediction feature as a feature. Now I will try another approach and train a the Random Forest only on cyberattacks data and see if it improves!\n"
   ]
  },
  {
   "cell_type": "code",
   "execution_count": 47,
   "id": "869a0118",
   "metadata": {},
   "outputs": [
    {
     "data": {
      "text/plain": [
       "Index(['flow_duration', 'header_length', 'duration', 'rate', 'srate', 'drate',\n",
       "       'fin_flag_number', 'syn_flag_number', 'rst_flag_number',\n",
       "       'psh_flag_number', 'ack_flag_number', 'ece_flag_number',\n",
       "       'cwr_flag_number', 'ack_count', 'syn_count', 'fin_count', 'urg_count',\n",
       "       'rst_count', 'http', 'https', 'dns', 'telnet', 'smtp', 'ssh', 'irc',\n",
       "       'tcp', 'udp', 'dhcp', 'arp', 'icmp', 'ipv', 'llc', 'tot_sum', 'min',\n",
       "       'max', 'avg', 'std', 'tot_size', 'iat', 'number', 'magnitue', 'radius',\n",
       "       'covariance', 'variance', 'weight', 'magnitude',\n",
       "       'protocol_type_ARGUS (deprecated)', 'protocol_type_BBN-RCC-MON',\n",
       "       'protocol_type_CBT', 'protocol_type_CHAOS', 'protocol_type_EGP',\n",
       "       'protocol_type_EMCON', 'protocol_type_GGP', 'protocol_type_HOPOPT',\n",
       "       'protocol_type_ICMP', 'protocol_type_IGMP', 'protocol_type_IGP',\n",
       "       'protocol_type_IPv4', 'protocol_type_NVP-II', 'protocol_type_PUP',\n",
       "       'protocol_type_ST', 'protocol_type_TCP', 'protocol_type_UDP',\n",
       "       'protocol_type_XNET', 'adaboost_binary_pred'],\n",
       "      dtype='object')"
      ]
     },
     "execution_count": 47,
     "metadata": {},
     "output_type": "execute_result"
    }
   ],
   "source": [
    "X_drop.columns"
   ]
  },
  {
   "cell_type": "code",
   "execution_count": 48,
   "id": "10da2a14",
   "metadata": {},
   "outputs": [
    {
     "data": {
      "text/plain": [
       "1211134          BenignTraffic\n",
       "445360       VulnerabilityScan\n",
       "647281     Recon-HostDiscovery\n",
       "162792           BenignTraffic\n",
       "947166     Recon-HostDiscovery\n",
       "Name: label, dtype: object"
      ]
     },
     "execution_count": 48,
     "metadata": {},
     "output_type": "execute_result"
    }
   ],
   "source": [
    "y_train.head()"
   ]
  },
  {
   "cell_type": "markdown",
   "id": "792910ab",
   "metadata": {},
   "source": [
    "Now let's create a subset of the dataset only on attacks. Let's do this for all of our training-test components."
   ]
  },
  {
   "cell_type": "code",
   "execution_count": 49,
   "id": "e0c4d3d2",
   "metadata": {},
   "outputs": [
    {
     "data": {
      "text/plain": [
       "True"
      ]
     },
     "execution_count": 49,
     "metadata": {},
     "output_type": "execute_result"
    }
   ],
   "source": [
    "y_train_subset = y_train[y_train.values != 'BenignTraffic']\n",
    "y_test_subset = y_test[y_test.values != 'BenignTraffic']\n",
    "\n",
    "X_train_subset = X_train[y_train.values != 'BenignTraffic'].drop(['adaboost_binary_pred'], axis=1)\n",
    "X_test_subset = X_test[y_test.values != 'BenignTraffic'].drop(['adaboost_binary_pred'], axis=1)\n",
    "\n",
    "X_train_subset.shape[0] == y_train_subset.shape[0]\n",
    "\n",
    "X_test_subset.shape[0] == y_test_subset.shape[0]"
   ]
  },
  {
   "cell_type": "code",
   "execution_count": 50,
   "id": "0c580066",
   "metadata": {},
   "outputs": [
    {
     "data": {
      "text/plain": [
       "label\n",
       "Recon-HostDiscovery    93847\n",
       "Recon-OSScan           68502\n",
       "Recon-PortScan         57628\n",
       "VulnerabilityScan      26341\n",
       "Name: count, dtype: int64"
      ]
     },
     "execution_count": 50,
     "metadata": {},
     "output_type": "execute_result"
    }
   ],
   "source": [
    "y_train_subset.value_counts()"
   ]
  },
  {
   "cell_type": "markdown",
   "id": "c89cb277",
   "metadata": {},
   "source": [
    "Now I need to modify our resampling strategy. I'll just augment VulnerabilityScan and leave the others as they are."
   ]
  },
  {
   "cell_type": "code",
   "execution_count": 51,
   "id": "e9f377fa",
   "metadata": {},
   "outputs": [],
   "source": [
    "smote_strategy_new = {'VulnerabilityScan': 50000}"
   ]
  },
  {
   "cell_type": "code",
   "execution_count": 52,
   "id": "2191668f",
   "metadata": {},
   "outputs": [
    {
     "name": "stderr",
     "output_type": "stream",
     "text": [
      "[Parallel(n_jobs=-1)]: Using backend ThreadingBackend with 8 concurrent workers.\n"
     ]
    },
    {
     "name": "stdout",
     "output_type": "stream",
     "text": [
      "building tree 1 of 300\n",
      "building tree 3 of 300\n",
      "building tree 2 of 300\n",
      "building tree 4 of 300\n",
      "building tree 5 of 300\n",
      "building tree 6 of 300\n",
      "building tree 7 of 300\n",
      "building tree 8 of 300\n",
      "building tree 9 of 300\n",
      "building tree 10 of 300\n",
      "building tree 11 of 300\n",
      "building tree 12 of 300\n",
      "building tree 13 of 300\n",
      "building tree 14 of 300\n",
      "building tree 15 of 300\n",
      "building tree 16 of 300\n",
      "building tree 17 of 300\n",
      "building tree 18 of 300\n",
      "building tree 19 of 300\n",
      "building tree 20 of 300\n",
      "building tree 21 of 300\n",
      "building tree 22 of 300\n",
      "building tree 23 of 300\n",
      "building tree 24 of 300\n",
      "building tree 25 of 300\n",
      "building tree 26 of 300\n",
      "building tree 27 of 300\n",
      "building tree 28 of 300\n",
      "building tree 29 of 300\n",
      "building tree 30 of 300\n",
      "building tree 31 of 300\n",
      "building tree 32 of 300\n",
      "building tree 33 of 300\n"
     ]
    },
    {
     "name": "stderr",
     "output_type": "stream",
     "text": [
      "[Parallel(n_jobs=-1)]: Done  25 tasks      | elapsed:    7.5s\n"
     ]
    },
    {
     "name": "stdout",
     "output_type": "stream",
     "text": [
      "building tree 34 of 300\n",
      "building tree 35 of 300\n",
      "building tree 36 of 300\n",
      "building tree 37 of 300\n",
      "building tree 38 of 300\n",
      "building tree 39 of 300\n",
      "building tree 40 of 300\n",
      "building tree 41 of 300\n",
      "building tree 42 of 300\n",
      "building tree 43 of 300\n",
      "building tree 44 of 300\n",
      "building tree 45 of 300\n",
      "building tree 46 of 300\n",
      "building tree 47 of 300\n",
      "building tree 48 of 300\n",
      "building tree 49 of 300\n",
      "building tree 50 of 300\n",
      "building tree 51 of 300\n",
      "building tree 52 of 300\n",
      "building tree 53 of 300\n",
      "building tree 54 of 300\n",
      "building tree 55 of 300\n",
      "building tree 56 of 300\n",
      "building tree 57 of 300\n",
      "building tree 58 of 300\n",
      "building tree 59 of 300\n",
      "building tree 60 of 300\n",
      "building tree 61 of 300\n",
      "building tree 62 of 300\n",
      "building tree 63 of 300\n",
      "building tree 64 of 300\n",
      "building tree 65 of 300\n",
      "building tree 66 of 300\n",
      "building tree 67 of 300\n",
      "building tree 68 of 300\n",
      "building tree 69 of 300\n",
      "building tree 70 of 300\n",
      "building tree 71 of 300\n",
      "building tree 72 of 300\n",
      "building tree 73 of 300\n",
      "building tree 74 of 300\n",
      "building tree 75 of 300\n",
      "building tree 76 of 300\n",
      "building tree 77 of 300\n",
      "building tree 78 of 300\n",
      "building tree 79 of 300\n",
      "building tree 80 of 300\n",
      "building tree 81 of 300\n",
      "building tree 82 of 300\n",
      "building tree 83 of 300\n",
      "building tree 84 of 300\n",
      "building tree 85 of 300building tree 86 of 300\n",
      "\n",
      "building tree 87 of 300\n",
      "building tree 88 of 300\n",
      "building tree 89 of 300\n",
      "building tree 90 of 300\n",
      "building tree 91 of 300\n",
      "building tree 92 of 300\n",
      "building tree 93 of 300\n",
      "building tree 94 of 300\n",
      "building tree 95 of 300\n",
      "building tree 96 of 300\n",
      "building tree 97 of 300\n",
      "building tree 98 of 300\n",
      "building tree 99 of 300\n",
      "building tree 100 of 300\n",
      "building tree 101 of 300\n",
      "building tree 102 of 300\n",
      "building tree 103 of 300\n",
      "building tree 104 of 300\n",
      "building tree 105 of 300\n",
      "building tree 106 of 300\n",
      "building tree 107 of 300\n",
      "building tree 108 of 300\n",
      "building tree 109 of 300\n",
      "building tree 110 of 300\n",
      "building tree 111 of 300\n",
      "building tree 112 of 300\n",
      "building tree 113 of 300\n",
      "building tree 114 of 300\n",
      "building tree 115 of 300\n",
      "building tree 116 of 300\n",
      "building tree 117 of 300\n",
      "building tree 118 of 300\n",
      "building tree 119 of 300\n",
      "building tree 120 of 300\n",
      "building tree 121 of 300\n",
      "building tree 122 of 300\n",
      "building tree 123 of 300\n",
      "building tree 124 of 300\n",
      "building tree 125 of 300\n",
      "building tree 126 of 300\n",
      "building tree 127 of 300\n",
      "building tree 128 of 300\n",
      "building tree 129 of 300\n",
      "building tree 130 of 300\n",
      "building tree 131 of 300\n",
      "building tree 132 of 300\n",
      "building tree 133 of 300\n",
      "building tree 134 of 300\n",
      "building tree 135 of 300\n",
      "building tree 136 of 300\n",
      "building tree 137 of 300\n",
      "building tree 138 of 300\n",
      "building tree 139 of 300\n",
      "building tree 140 of 300\n",
      "building tree 141 of 300\n",
      "building tree 142 of 300\n",
      "building tree 143 of 300\n",
      "building tree 144 of 300\n",
      "building tree 145 of 300\n",
      "building tree 146 of 300\n",
      "building tree 147 of 300\n",
      "building tree 148 of 300\n",
      "building tree 149 of 300\n",
      "building tree 150 of 300\n",
      "building tree 151 of 300\n",
      "building tree 152 of 300\n",
      "building tree 153 of 300\n",
      "building tree 154 of 300\n"
     ]
    },
    {
     "name": "stderr",
     "output_type": "stream",
     "text": [
      "[Parallel(n_jobs=-1)]: Done 146 tasks      | elapsed:   45.4s\n"
     ]
    },
    {
     "name": "stdout",
     "output_type": "stream",
     "text": [
      "building tree 155 of 300\n",
      "building tree 156 of 300\n",
      "building tree 157 of 300\n",
      "building tree 158 of 300\n",
      "building tree 159 of 300\n",
      "building tree 160 of 300\n",
      "building tree 161 of 300\n",
      "building tree 162 of 300\n",
      "building tree 163 of 300\n",
      "building tree 164 of 300\n",
      "building tree 165 of 300\n",
      "building tree 166 of 300\n",
      "building tree 167 of 300\n",
      "building tree 168 of 300\n",
      "building tree 169 of 300\n",
      "building tree 170 of 300\n",
      "building tree 171 of 300\n",
      "building tree 172 of 300\n",
      "building tree 173 of 300\n",
      "building tree 174 of 300\n",
      "building tree 175 of 300\n",
      "building tree 176 of 300\n",
      "building tree 177 of 300\n",
      "building tree 178 of 300\n",
      "building tree 179 of 300\n",
      "building tree 180 of 300\n",
      "building tree 181 of 300\n",
      "building tree 182 of 300\n",
      "building tree 183 of 300\n",
      "building tree 184 of 300\n",
      "building tree 185 of 300\n",
      "building tree 186 of 300\n",
      "building tree 187 of 300\n",
      "building tree 188 of 300\n",
      "building tree 189 of 300\n",
      "building tree 190 of 300\n",
      "building tree 191 of 300\n",
      "building tree 192 of 300\n",
      "building tree 193 of 300\n",
      "building tree 194 of 300\n",
      "building tree 195 of 300\n",
      "building tree 196 of 300\n",
      "building tree 197 of 300\n",
      "building tree 198 of 300\n",
      "building tree 199 of 300\n",
      "building tree 200 of 300\n",
      "building tree 201 of 300\n",
      "building tree 202 of 300\n",
      "building tree 203 of 300\n",
      "building tree 204 of 300\n",
      "building tree 205 of 300\n",
      "building tree 206 of 300\n",
      "building tree 207 of 300\n",
      "building tree 208 of 300\n",
      "building tree 209 of 300\n",
      "building tree 210 of 300\n",
      "building tree 211 of 300\n",
      "building tree 212 of 300\n",
      "building tree 213 of 300\n",
      "building tree 214 of 300\n",
      "building tree 215 of 300\n",
      "building tree 216 of 300\n",
      "building tree 217 of 300\n",
      "building tree 218 of 300\n",
      "building tree 219 of 300\n",
      "building tree 220 of 300\n",
      "building tree 221 of 300\n",
      "building tree 222 of 300\n",
      "building tree 223 of 300\n",
      "building tree 224 of 300\n",
      "building tree 225 of 300\n",
      "building tree 226 of 300\n",
      "building tree 227 of 300\n",
      "building tree 228 of 300\n",
      "building tree 229 of 300\n",
      "building tree 230 of 300\n",
      "building tree 231 of 300\n",
      "building tree 232 of 300\n",
      "building tree 233 of 300\n",
      "building tree 234 of 300\n",
      "building tree 235 of 300\n",
      "building tree 236 of 300\n",
      "building tree 237 of 300\n",
      "building tree 238 of 300\n",
      "building tree 239 of 300\n",
      "building tree 240 of 300\n",
      "building tree 241 of 300\n",
      "building tree 242 of 300\n",
      "building tree 243 of 300\n",
      "building tree 244 of 300\n",
      "building tree 245 of 300\n",
      "building tree 246 of 300\n",
      "building tree 247 of 300\n",
      "building tree 248 of 300\n",
      "building tree 249 of 300\n",
      "building tree 250 of 300\n",
      "building tree 251 of 300\n",
      "building tree 252 of 300\n",
      "building tree 253 of 300\n",
      "building tree 254 of 300\n",
      "building tree 255 of 300\n",
      "building tree 256 of 300\n",
      "building tree 257 of 300\n",
      "building tree 258 of 300\n",
      "building tree 259 of 300\n",
      "building tree 260 of 300\n",
      "building tree 261 of 300\n",
      "building tree 262 of 300\n",
      "building tree 263 of 300\n",
      "building tree 264 of 300\n",
      "building tree 265 of 300\n",
      "building tree 266 of 300\n",
      "building tree 267 of 300\n",
      "building tree 268 of 300\n",
      "building tree 269 of 300\n",
      "building tree 270 of 300\n",
      "building tree 271 of 300\n",
      "building tree 272 of 300\n",
      "building tree 273 of 300\n",
      "building tree 274 of 300\n",
      "building tree 275 of 300\n",
      "building tree 276 of 300\n",
      "building tree 277 of 300\n",
      "building tree 278 of 300\n",
      "building tree 279 of 300\n",
      "building tree 280 of 300\n",
      "building tree 281 of 300\n",
      "building tree 282 of 300\n",
      "building tree 283 of 300\n",
      "building tree 284 of 300\n",
      "building tree 285 of 300\n",
      "building tree 286 of 300\n",
      "building tree 287 of 300\n",
      "building tree 288 of 300\n",
      "building tree 289 of 300\n",
      "building tree 290 of 300\n",
      "building tree 291 of 300\n",
      "building tree 292 of 300\n",
      "building tree 293 of 300\n",
      "building tree 294 of 300\n",
      "building tree 295 of 300\n",
      "building tree 296 of 300\n",
      "building tree 297 of 300\n",
      "building tree 298 of 300\n",
      "building tree 299 of 300\n",
      "building tree 300 of 300\n"
     ]
    },
    {
     "name": "stderr",
     "output_type": "stream",
     "text": [
      "[Parallel(n_jobs=-1)]: Done 300 out of 300 | elapsed:  1.6min finished\n"
     ]
    },
    {
     "data": {
      "text/html": [
       "<style>#sk-container-id-3 {color: black;}#sk-container-id-3 pre{padding: 0;}#sk-container-id-3 div.sk-toggleable {background-color: white;}#sk-container-id-3 label.sk-toggleable__label {cursor: pointer;display: block;width: 100%;margin-bottom: 0;padding: 0.3em;box-sizing: border-box;text-align: center;}#sk-container-id-3 label.sk-toggleable__label-arrow:before {content: \"▸\";float: left;margin-right: 0.25em;color: #696969;}#sk-container-id-3 label.sk-toggleable__label-arrow:hover:before {color: black;}#sk-container-id-3 div.sk-estimator:hover label.sk-toggleable__label-arrow:before {color: black;}#sk-container-id-3 div.sk-toggleable__content {max-height: 0;max-width: 0;overflow: hidden;text-align: left;background-color: #f0f8ff;}#sk-container-id-3 div.sk-toggleable__content pre {margin: 0.2em;color: black;border-radius: 0.25em;background-color: #f0f8ff;}#sk-container-id-3 input.sk-toggleable__control:checked~div.sk-toggleable__content {max-height: 200px;max-width: 100%;overflow: auto;}#sk-container-id-3 input.sk-toggleable__control:checked~label.sk-toggleable__label-arrow:before {content: \"▾\";}#sk-container-id-3 div.sk-estimator input.sk-toggleable__control:checked~label.sk-toggleable__label {background-color: #d4ebff;}#sk-container-id-3 div.sk-label input.sk-toggleable__control:checked~label.sk-toggleable__label {background-color: #d4ebff;}#sk-container-id-3 input.sk-hidden--visually {border: 0;clip: rect(1px 1px 1px 1px);clip: rect(1px, 1px, 1px, 1px);height: 1px;margin: -1px;overflow: hidden;padding: 0;position: absolute;width: 1px;}#sk-container-id-3 div.sk-estimator {font-family: monospace;background-color: #f0f8ff;border: 1px dotted black;border-radius: 0.25em;box-sizing: border-box;margin-bottom: 0.5em;}#sk-container-id-3 div.sk-estimator:hover {background-color: #d4ebff;}#sk-container-id-3 div.sk-parallel-item::after {content: \"\";width: 100%;border-bottom: 1px solid gray;flex-grow: 1;}#sk-container-id-3 div.sk-label:hover label.sk-toggleable__label {background-color: #d4ebff;}#sk-container-id-3 div.sk-serial::before {content: \"\";position: absolute;border-left: 1px solid gray;box-sizing: border-box;top: 0;bottom: 0;left: 50%;z-index: 0;}#sk-container-id-3 div.sk-serial {display: flex;flex-direction: column;align-items: center;background-color: white;padding-right: 0.2em;padding-left: 0.2em;position: relative;}#sk-container-id-3 div.sk-item {position: relative;z-index: 1;}#sk-container-id-3 div.sk-parallel {display: flex;align-items: stretch;justify-content: center;background-color: white;position: relative;}#sk-container-id-3 div.sk-item::before, #sk-container-id-3 div.sk-parallel-item::before {content: \"\";position: absolute;border-left: 1px solid gray;box-sizing: border-box;top: 0;bottom: 0;left: 50%;z-index: -1;}#sk-container-id-3 div.sk-parallel-item {display: flex;flex-direction: column;z-index: 1;position: relative;background-color: white;}#sk-container-id-3 div.sk-parallel-item:first-child::after {align-self: flex-end;width: 50%;}#sk-container-id-3 div.sk-parallel-item:last-child::after {align-self: flex-start;width: 50%;}#sk-container-id-3 div.sk-parallel-item:only-child::after {width: 0;}#sk-container-id-3 div.sk-dashed-wrapped {border: 1px dashed gray;margin: 0 0.4em 0.5em 0.4em;box-sizing: border-box;padding-bottom: 0.4em;background-color: white;}#sk-container-id-3 div.sk-label label {font-family: monospace;font-weight: bold;display: inline-block;line-height: 1.2em;}#sk-container-id-3 div.sk-label-container {text-align: center;}#sk-container-id-3 div.sk-container {/* jupyter's `normalize.less` sets `[hidden] { display: none; }` but bootstrap.min.css set `[hidden] { display: none !important; }` so we also need the `!important` here to be able to override the default hidden behavior on the sphinx rendered scikit-learn.org. See: https://github.com/scikit-learn/scikit-learn/issues/21755 */display: inline-block !important;position: relative;}#sk-container-id-3 div.sk-text-repr-fallback {display: none;}</style><div id=\"sk-container-id-3\" class=\"sk-top-container\"><div class=\"sk-text-repr-fallback\"><pre>Pipeline(steps=[(&#x27;smote&#x27;,\n",
       "                 SMOTE(sampling_strategy={&#x27;VulnerabilityScan&#x27;: 50000})),\n",
       "                (&#x27;scaler&#x27;, StandardScaler()),\n",
       "                (&#x27;random_forest&#x27;,\n",
       "                 RandomForestClassifier(class_weight=&#x27;balanced&#x27;, max_depth=30,\n",
       "                                        min_samples_leaf=10,\n",
       "                                        min_samples_split=10, n_estimators=300,\n",
       "                                        n_jobs=-1, verbose=2))])</pre><b>In a Jupyter environment, please rerun this cell to show the HTML representation or trust the notebook. <br />On GitHub, the HTML representation is unable to render, please try loading this page with nbviewer.org.</b></div><div class=\"sk-container\" hidden><div class=\"sk-item sk-dashed-wrapped\"><div class=\"sk-label-container\"><div class=\"sk-label sk-toggleable\"><input class=\"sk-toggleable__control sk-hidden--visually\" id=\"sk-estimator-id-17\" type=\"checkbox\" ><label for=\"sk-estimator-id-17\" class=\"sk-toggleable__label sk-toggleable__label-arrow\">Pipeline</label><div class=\"sk-toggleable__content\"><pre>Pipeline(steps=[(&#x27;smote&#x27;,\n",
       "                 SMOTE(sampling_strategy={&#x27;VulnerabilityScan&#x27;: 50000})),\n",
       "                (&#x27;scaler&#x27;, StandardScaler()),\n",
       "                (&#x27;random_forest&#x27;,\n",
       "                 RandomForestClassifier(class_weight=&#x27;balanced&#x27;, max_depth=30,\n",
       "                                        min_samples_leaf=10,\n",
       "                                        min_samples_split=10, n_estimators=300,\n",
       "                                        n_jobs=-1, verbose=2))])</pre></div></div></div><div class=\"sk-serial\"><div class=\"sk-item\"><div class=\"sk-estimator sk-toggleable\"><input class=\"sk-toggleable__control sk-hidden--visually\" id=\"sk-estimator-id-18\" type=\"checkbox\" ><label for=\"sk-estimator-id-18\" class=\"sk-toggleable__label sk-toggleable__label-arrow\">SMOTE</label><div class=\"sk-toggleable__content\"><pre>SMOTE(sampling_strategy={&#x27;VulnerabilityScan&#x27;: 50000})</pre></div></div></div><div class=\"sk-item\"><div class=\"sk-estimator sk-toggleable\"><input class=\"sk-toggleable__control sk-hidden--visually\" id=\"sk-estimator-id-19\" type=\"checkbox\" ><label for=\"sk-estimator-id-19\" class=\"sk-toggleable__label sk-toggleable__label-arrow\">StandardScaler</label><div class=\"sk-toggleable__content\"><pre>StandardScaler()</pre></div></div></div><div class=\"sk-item\"><div class=\"sk-estimator sk-toggleable\"><input class=\"sk-toggleable__control sk-hidden--visually\" id=\"sk-estimator-id-20\" type=\"checkbox\" ><label for=\"sk-estimator-id-20\" class=\"sk-toggleable__label sk-toggleable__label-arrow\">RandomForestClassifier</label><div class=\"sk-toggleable__content\"><pre>RandomForestClassifier(class_weight=&#x27;balanced&#x27;, max_depth=30,\n",
       "                       min_samples_leaf=10, min_samples_split=10,\n",
       "                       n_estimators=300, n_jobs=-1, verbose=2)</pre></div></div></div></div></div></div></div>"
      ],
      "text/plain": [
       "Pipeline(steps=[('smote',\n",
       "                 SMOTE(sampling_strategy={'VulnerabilityScan': 50000})),\n",
       "                ('scaler', StandardScaler()),\n",
       "                ('random_forest',\n",
       "                 RandomForestClassifier(class_weight='balanced', max_depth=30,\n",
       "                                        min_samples_leaf=10,\n",
       "                                        min_samples_split=10, n_estimators=300,\n",
       "                                        n_jobs=-1, verbose=2))])"
      ]
     },
     "execution_count": 52,
     "metadata": {},
     "output_type": "execute_result"
    }
   ],
   "source": [
    "# Create a pipeline that resamples the data, then applies scaling, dimensionality reduction, and fits a random forest model\n",
    "pipeline_test = imbpipeline(steps=[\n",
    "    ('smote', SMOTE(sampling_strategy=smote_strategy_new)),\n",
    "\n",
    "    ('scaler', StandardScaler()),\n",
    "    \n",
    "    ('random_forest',RandomForestClassifier(\n",
    "    n_estimators=300, \n",
    "    max_depth=30,  \n",
    "    min_samples_split=10,\n",
    "    min_samples_leaf=10,\n",
    "    bootstrap=True,\n",
    "    class_weight='balanced',\n",
    "    max_features='sqrt',  \n",
    "    n_jobs=-1, \n",
    "    verbose=2\n",
    "    ))\n",
    "])\n",
    "\n",
    "# Fit the pipeline on the subset of training data\n",
    "pipeline_test.fit(X_train_subset, y_train_subset)"
   ]
  },
  {
   "cell_type": "code",
   "execution_count": 53,
   "id": "d1b63ac7",
   "metadata": {},
   "outputs": [
    {
     "name": "stderr",
     "output_type": "stream",
     "text": [
      "[Parallel(n_jobs=8)]: Using backend ThreadingBackend with 8 concurrent workers.\n",
      "[Parallel(n_jobs=8)]: Done  25 tasks      | elapsed:    0.1s\n",
      "[Parallel(n_jobs=8)]: Done 146 tasks      | elapsed:    0.9s\n",
      "[Parallel(n_jobs=8)]: Done 300 out of 300 | elapsed:    2.0s finished\n"
     ]
    },
    {
     "name": "stdout",
     "output_type": "stream",
     "text": [
      "                     precision    recall  f1-score   support\n",
      "\n",
      "Recon-HostDiscovery       0.94      0.94      0.94     40530\n",
      "       Recon-OSScan       0.86      0.84      0.85     29757\n",
      "     Recon-PortScan       0.79      0.81      0.80     24652\n",
      "  VulnerabilityScan       1.00      1.00      1.00     11041\n",
      "\n",
      "           accuracy                           0.89    105980\n",
      "          macro avg       0.90      0.90      0.90    105980\n",
      "       weighted avg       0.89      0.89      0.89    105980\n",
      "\n"
     ]
    }
   ],
   "source": [
    "y_pred_subset = pipeline_test.predict(X_test_subset)\n",
    "\n",
    "report = classification_report(y_test_subset, y_pred_subset)\n",
    "print(report)"
   ]
  },
  {
   "cell_type": "code",
   "execution_count": 54,
   "id": "3581cdfd",
   "metadata": {},
   "outputs": [
    {
     "name": "stderr",
     "output_type": "stream",
     "text": [
      "[Parallel(n_jobs=8)]: Using backend ThreadingBackend with 8 concurrent workers.\n",
      "[Parallel(n_jobs=8)]: Done  25 tasks      | elapsed:    0.3s\n",
      "[Parallel(n_jobs=8)]: Done 146 tasks      | elapsed:    2.2s\n",
      "[Parallel(n_jobs=8)]: Done 300 out of 300 | elapsed:    4.8s finished\n"
     ]
    },
    {
     "name": "stdout",
     "output_type": "stream",
     "text": [
      "                     precision    recall  f1-score   support\n",
      "\n",
      "Recon-HostDiscovery       0.96      0.96      0.96     93847\n",
      "       Recon-OSScan       0.90      0.88      0.89     68502\n",
      "     Recon-PortScan       0.86      0.88      0.87     57628\n",
      "  VulnerabilityScan       1.00      1.00      1.00     26341\n",
      "\n",
      "           accuracy                           0.92    246318\n",
      "          macro avg       0.93      0.93      0.93    246318\n",
      "       weighted avg       0.93      0.92      0.92    246318\n",
      "\n"
     ]
    }
   ],
   "source": [
    "y_pred_subset_train = pipeline_test.predict(X_train_subset)\n",
    "\n",
    "report = classification_report(y_train_subset, y_pred_subset_train)\n",
    "print(report)"
   ]
  },
  {
   "cell_type": "markdown",
   "id": "8cef01ca",
   "metadata": {},
   "source": [
    "It seems that in our reduced dataset the Random Forest got better in almost every class vs the previous version, trained on all the classes. Now I will simply combine the prediction from this adaboost and the Random Forest.\n",
    "\n",
    "In order to do this I will create a function that returns the prediction of adaboost if it returns benign traffic and otherwise it will return the prediction of Random Forest"
   ]
  },
  {
   "cell_type": "code",
   "execution_count": 55,
   "id": "18281146",
   "metadata": {},
   "outputs": [],
   "source": [
    "def predictor(binary_model, multiclass_model, X):\n",
    "    binary_pred = binary_model.predict(X)\n",
    "    multiclass_pred = multiclass_model.predict(X)\n",
    "\n",
    "    # Use numpy to create a conditional array\n",
    "    final_pred = np.where(binary_pred == 0, 'BenignTraffic', multiclass_pred)\n",
    "\n",
    "    return final_pred"
   ]
  },
  {
   "cell_type": "code",
   "execution_count": 56,
   "id": "8bcead9f",
   "metadata": {},
   "outputs": [
    {
     "name": "stderr",
     "output_type": "stream",
     "text": [
      "[Parallel(n_jobs=8)]: Using backend ThreadingBackend with 8 concurrent workers.\n",
      "[Parallel(n_jobs=8)]: Done  25 tasks      | elapsed:    0.7s\n",
      "[Parallel(n_jobs=8)]: Done 146 tasks      | elapsed:    4.7s\n",
      "[Parallel(n_jobs=8)]: Done 300 out of 300 | elapsed:   10.2s finished\n"
     ]
    },
    {
     "data": {
      "text/plain": [
       "array(['Recon-OSScan', 'Recon-OSScan', 'Recon-OSScan', ...,\n",
       "       'Recon-OSScan', 'Recon-OSScan', 'Recon-OSScan'], dtype=object)"
      ]
     },
     "execution_count": 56,
     "metadata": {},
     "output_type": "execute_result"
    }
   ],
   "source": [
    "pipeline_test.predict(X_test.drop(['adaboost_binary_pred'], axis=1))"
   ]
  },
  {
   "cell_type": "code",
   "execution_count": 57,
   "id": "858d2b3f",
   "metadata": {},
   "outputs": [
    {
     "data": {
      "text/plain": [
       "array([0, 1, 0, ..., 1, 0, 0], dtype=int64)"
      ]
     },
     "execution_count": 57,
     "metadata": {},
     "output_type": "execute_result"
    }
   ],
   "source": [
    "adaboost_loaded.predict(X_test.drop(['adaboost_binary_pred'], axis=1))"
   ]
  },
  {
   "cell_type": "code",
   "execution_count": 58,
   "id": "d97b82b4",
   "metadata": {},
   "outputs": [
    {
     "name": "stderr",
     "output_type": "stream",
     "text": [
      "[Parallel(n_jobs=8)]: Using backend ThreadingBackend with 8 concurrent workers.\n",
      "[Parallel(n_jobs=8)]: Done  25 tasks      | elapsed:    0.6s\n",
      "[Parallel(n_jobs=8)]: Done 146 tasks      | elapsed:    4.5s\n",
      "[Parallel(n_jobs=8)]: Done 300 out of 300 | elapsed:    9.1s finished\n"
     ]
    }
   ],
   "source": [
    "final_predictions = predictor(adaboost_loaded, pipeline_test, X_test.drop(['adaboost_binary_pred'], axis=1))"
   ]
  },
  {
   "cell_type": "code",
   "execution_count": 59,
   "id": "ceedb253",
   "metadata": {},
   "outputs": [
    {
     "name": "stdout",
     "output_type": "stream",
     "text": [
      "                     precision    recall  f1-score   support\n",
      "\n",
      "      BenignTraffic       0.99      0.98      0.99    329168\n",
      "Recon-HostDiscovery       0.90      0.94      0.92     40530\n",
      "       Recon-OSScan       0.81      0.80      0.80     29757\n",
      "     Recon-PortScan       0.74      0.80      0.77     24652\n",
      "  VulnerabilityScan       1.00      1.00      1.00     11041\n",
      "\n",
      "           accuracy                           0.96    435148\n",
      "          macro avg       0.89      0.90      0.90    435148\n",
      "       weighted avg       0.96      0.96      0.96    435148\n",
      "\n"
     ]
    }
   ],
   "source": [
    "print(classification_report(y_test, final_predictions))"
   ]
  },
  {
   "cell_type": "markdown",
   "id": "90f4ae18",
   "metadata": {},
   "source": [
    "To be fair, our gain was really neglible. This combination of models actually performed worse! While we could try to optimize better our random forest for the subset, I will try to use another ensamble method, XGBoost."
   ]
  },
  {
   "cell_type": "code",
   "execution_count": 60,
   "id": "d28bf573",
   "metadata": {},
   "outputs": [],
   "source": [
    "#!pip install xgboost"
   ]
  },
  {
   "cell_type": "markdown",
   "id": "d1b21610",
   "metadata": {},
   "source": [
    "In order to use it I will have to encode my labels and add as a step of the pipeline."
   ]
  },
  {
   "cell_type": "code",
   "execution_count": 61,
   "id": "dc2ce6a9",
   "metadata": {},
   "outputs": [],
   "source": [
    "# Encode the target variable\n",
    "label_encoder = LabelEncoder()\n",
    "y_train_encoded = label_encoder.fit_transform(y_train)\n",
    "y_test_encoded = label_encoder.transform(y_test)"
   ]
  },
  {
   "cell_type": "markdown",
   "id": "e09cadee",
   "metadata": {},
   "source": [
    "Now I will need to create a dictionary with the mapping of encoded classes."
   ]
  },
  {
   "cell_type": "code",
   "execution_count": 62,
   "id": "098e9cd6",
   "metadata": {},
   "outputs": [
    {
     "name": "stdout",
     "output_type": "stream",
     "text": [
      "{'BenignTraffic': 0, 'Recon-HostDiscovery': 1, 'Recon-OSScan': 2, 'Recon-PortScan': 3, 'VulnerabilityScan': 4}\n"
     ]
    }
   ],
   "source": [
    "# Get the class mapping\n",
    "label_mapping = dict(zip(label_encoder.classes_, label_encoder.transform(label_encoder.classes_)))\n",
    "\n",
    "print(label_mapping)"
   ]
  },
  {
   "cell_type": "markdown",
   "id": "c7c635fa",
   "metadata": {},
   "source": [
    "I will use the output to adjust SMOTE and RandomUndersampler."
   ]
  },
  {
   "cell_type": "code",
   "execution_count": 63,
   "id": "4db99060",
   "metadata": {},
   "outputs": [],
   "source": [
    "\n",
    "# Adjust Smote and RandomUnderSampler\n",
    "\n",
    "smote_strategy_enc = {1: 150000, 2: 150000, 3: 150000, 4:80000}\n",
    "undersample_strategy_enc = {0: 250000}"
   ]
  },
  {
   "cell_type": "markdown",
   "id": "ee1a1b6a",
   "metadata": {},
   "source": [
    "Now we are ready to launch our usual pipeline with XGBoost and evaluate the perfromance of the model."
   ]
  },
  {
   "cell_type": "code",
   "execution_count": 64,
   "id": "36cce249",
   "metadata": {},
   "outputs": [
    {
     "name": "stdout",
     "output_type": "stream",
     "text": [
      "[09:34:12] ======== Monitor (0): HostSketchContainer ========\n",
      "[09:34:12] AllReduce: 0.018702s, 1 calls @ 18702us\n",
      "\n",
      "[09:34:12] MakeCuts: 0.019437s, 1 calls @ 19437us\n",
      "\n",
      "[09:34:12] DEBUG: C:\\buildkite-agent\\builds\\buildkite-windows-cpu-autoscaling-group-i-0b3782d1791676daf-1\\xgboost\\xgboost-ci-windows\\src\\gbm\\gbtree.cc:130: Using tree method: 0\n",
      "[09:34:41] ======== Monitor (0): Learner ========\n",
      "[09:34:41] Configure: 0.003556s, 1 calls @ 3556us\n",
      "\n",
      "[09:34:41] EvalOneIter: 0.002313s, 100 calls @ 2313us\n",
      "\n",
      "[09:34:41] GetGradient: 3.12566s, 100 calls @ 3125660us\n",
      "\n",
      "[09:34:41] PredictRaw: 0.004101s, 100 calls @ 4101us\n",
      "\n",
      "[09:34:41] UpdateOneIter: 29.1045s, 100 calls @ 29104517us\n",
      "\n",
      "[09:34:41] ======== Monitor (0): GBTree ========\n",
      "[09:34:41] BoostNewTrees: 25.9694s, 100 calls @ 25969400us\n",
      "\n",
      "[09:34:41] CommitModel: 0.000215s, 100 calls @ 215us\n",
      "\n",
      "[09:34:41] ======== Monitor (0): HistUpdater ========\n",
      "[09:34:41] BuildHistogram: 8.96495s, 2500 calls @ 8964947us\n",
      "\n",
      "[09:34:41] EvaluateSplits: 1.02173s, 3000 calls @ 1021733us\n",
      "\n",
      "[09:34:41] InitData: 1.40528s, 500 calls @ 1405275us\n",
      "\n",
      "[09:34:41] InitRoot: 9.39679s, 500 calls @ 9396790us\n",
      "\n",
      "[09:34:41] LeafPartition: 0.000172s, 500 calls @ 172us\n",
      "\n",
      "[09:34:41] UpdatePosition: 3.24507s, 3000 calls @ 3245066us\n",
      "\n",
      "[09:34:41] UpdatePredictionCache: 0.826895s, 500 calls @ 826895us\n",
      "\n",
      "[09:34:41] UpdateTree: 24.0305s, 500 calls @ 24030530us\n",
      "\n"
     ]
    },
    {
     "data": {
      "text/html": [
       "<style>#sk-container-id-4 {color: black;}#sk-container-id-4 pre{padding: 0;}#sk-container-id-4 div.sk-toggleable {background-color: white;}#sk-container-id-4 label.sk-toggleable__label {cursor: pointer;display: block;width: 100%;margin-bottom: 0;padding: 0.3em;box-sizing: border-box;text-align: center;}#sk-container-id-4 label.sk-toggleable__label-arrow:before {content: \"▸\";float: left;margin-right: 0.25em;color: #696969;}#sk-container-id-4 label.sk-toggleable__label-arrow:hover:before {color: black;}#sk-container-id-4 div.sk-estimator:hover label.sk-toggleable__label-arrow:before {color: black;}#sk-container-id-4 div.sk-toggleable__content {max-height: 0;max-width: 0;overflow: hidden;text-align: left;background-color: #f0f8ff;}#sk-container-id-4 div.sk-toggleable__content pre {margin: 0.2em;color: black;border-radius: 0.25em;background-color: #f0f8ff;}#sk-container-id-4 input.sk-toggleable__control:checked~div.sk-toggleable__content {max-height: 200px;max-width: 100%;overflow: auto;}#sk-container-id-4 input.sk-toggleable__control:checked~label.sk-toggleable__label-arrow:before {content: \"▾\";}#sk-container-id-4 div.sk-estimator input.sk-toggleable__control:checked~label.sk-toggleable__label {background-color: #d4ebff;}#sk-container-id-4 div.sk-label input.sk-toggleable__control:checked~label.sk-toggleable__label {background-color: #d4ebff;}#sk-container-id-4 input.sk-hidden--visually {border: 0;clip: rect(1px 1px 1px 1px);clip: rect(1px, 1px, 1px, 1px);height: 1px;margin: -1px;overflow: hidden;padding: 0;position: absolute;width: 1px;}#sk-container-id-4 div.sk-estimator {font-family: monospace;background-color: #f0f8ff;border: 1px dotted black;border-radius: 0.25em;box-sizing: border-box;margin-bottom: 0.5em;}#sk-container-id-4 div.sk-estimator:hover {background-color: #d4ebff;}#sk-container-id-4 div.sk-parallel-item::after {content: \"\";width: 100%;border-bottom: 1px solid gray;flex-grow: 1;}#sk-container-id-4 div.sk-label:hover label.sk-toggleable__label {background-color: #d4ebff;}#sk-container-id-4 div.sk-serial::before {content: \"\";position: absolute;border-left: 1px solid gray;box-sizing: border-box;top: 0;bottom: 0;left: 50%;z-index: 0;}#sk-container-id-4 div.sk-serial {display: flex;flex-direction: column;align-items: center;background-color: white;padding-right: 0.2em;padding-left: 0.2em;position: relative;}#sk-container-id-4 div.sk-item {position: relative;z-index: 1;}#sk-container-id-4 div.sk-parallel {display: flex;align-items: stretch;justify-content: center;background-color: white;position: relative;}#sk-container-id-4 div.sk-item::before, #sk-container-id-4 div.sk-parallel-item::before {content: \"\";position: absolute;border-left: 1px solid gray;box-sizing: border-box;top: 0;bottom: 0;left: 50%;z-index: -1;}#sk-container-id-4 div.sk-parallel-item {display: flex;flex-direction: column;z-index: 1;position: relative;background-color: white;}#sk-container-id-4 div.sk-parallel-item:first-child::after {align-self: flex-end;width: 50%;}#sk-container-id-4 div.sk-parallel-item:last-child::after {align-self: flex-start;width: 50%;}#sk-container-id-4 div.sk-parallel-item:only-child::after {width: 0;}#sk-container-id-4 div.sk-dashed-wrapped {border: 1px dashed gray;margin: 0 0.4em 0.5em 0.4em;box-sizing: border-box;padding-bottom: 0.4em;background-color: white;}#sk-container-id-4 div.sk-label label {font-family: monospace;font-weight: bold;display: inline-block;line-height: 1.2em;}#sk-container-id-4 div.sk-label-container {text-align: center;}#sk-container-id-4 div.sk-container {/* jupyter's `normalize.less` sets `[hidden] { display: none; }` but bootstrap.min.css set `[hidden] { display: none !important; }` so we also need the `!important` here to be able to override the default hidden behavior on the sphinx rendered scikit-learn.org. See: https://github.com/scikit-learn/scikit-learn/issues/21755 */display: inline-block !important;position: relative;}#sk-container-id-4 div.sk-text-repr-fallback {display: none;}</style><div id=\"sk-container-id-4\" class=\"sk-top-container\"><div class=\"sk-text-repr-fallback\"><pre>Pipeline(steps=[(&#x27;smote&#x27;,\n",
       "                 SMOTE(sampling_strategy={1: 150000, 2: 150000, 3: 150000,\n",
       "                                          4: 80000})),\n",
       "                (&#x27;under&#x27;, RandomUnderSampler(sampling_strategy={0: 250000})),\n",
       "                (&#x27;scaler&#x27;, StandardScaler()),\n",
       "                (&#x27;xgboost&#x27;,\n",
       "                 XGBClassifier(base_score=None, booster=None, callbacks=None,\n",
       "                               colsample_bylevel=None, colsample_bynode=None,\n",
       "                               colsample_bytree=None, device=None,\n",
       "                               early_stopping_rounds=None,...\n",
       "                               feature_types=None, gamma=None, grow_policy=None,\n",
       "                               importance_type=None,\n",
       "                               interaction_constraints=None, learning_rate=None,\n",
       "                               max_bin=None, max_cat_threshold=None,\n",
       "                               max_cat_to_onehot=None, max_delta_step=None,\n",
       "                               max_depth=None, max_leaves=None,\n",
       "                               min_child_weight=None, missing=nan,\n",
       "                               monotone_constraints=None, multi_strategy=None,\n",
       "                               n_estimators=None, n_jobs=None,\n",
       "                               num_parallel_tree=None,\n",
       "                               objective=&#x27;multi:softprob&#x27;, ...))])</pre><b>In a Jupyter environment, please rerun this cell to show the HTML representation or trust the notebook. <br />On GitHub, the HTML representation is unable to render, please try loading this page with nbviewer.org.</b></div><div class=\"sk-container\" hidden><div class=\"sk-item sk-dashed-wrapped\"><div class=\"sk-label-container\"><div class=\"sk-label sk-toggleable\"><input class=\"sk-toggleable__control sk-hidden--visually\" id=\"sk-estimator-id-21\" type=\"checkbox\" ><label for=\"sk-estimator-id-21\" class=\"sk-toggleable__label sk-toggleable__label-arrow\">Pipeline</label><div class=\"sk-toggleable__content\"><pre>Pipeline(steps=[(&#x27;smote&#x27;,\n",
       "                 SMOTE(sampling_strategy={1: 150000, 2: 150000, 3: 150000,\n",
       "                                          4: 80000})),\n",
       "                (&#x27;under&#x27;, RandomUnderSampler(sampling_strategy={0: 250000})),\n",
       "                (&#x27;scaler&#x27;, StandardScaler()),\n",
       "                (&#x27;xgboost&#x27;,\n",
       "                 XGBClassifier(base_score=None, booster=None, callbacks=None,\n",
       "                               colsample_bylevel=None, colsample_bynode=None,\n",
       "                               colsample_bytree=None, device=None,\n",
       "                               early_stopping_rounds=None,...\n",
       "                               feature_types=None, gamma=None, grow_policy=None,\n",
       "                               importance_type=None,\n",
       "                               interaction_constraints=None, learning_rate=None,\n",
       "                               max_bin=None, max_cat_threshold=None,\n",
       "                               max_cat_to_onehot=None, max_delta_step=None,\n",
       "                               max_depth=None, max_leaves=None,\n",
       "                               min_child_weight=None, missing=nan,\n",
       "                               monotone_constraints=None, multi_strategy=None,\n",
       "                               n_estimators=None, n_jobs=None,\n",
       "                               num_parallel_tree=None,\n",
       "                               objective=&#x27;multi:softprob&#x27;, ...))])</pre></div></div></div><div class=\"sk-serial\"><div class=\"sk-item\"><div class=\"sk-estimator sk-toggleable\"><input class=\"sk-toggleable__control sk-hidden--visually\" id=\"sk-estimator-id-22\" type=\"checkbox\" ><label for=\"sk-estimator-id-22\" class=\"sk-toggleable__label sk-toggleable__label-arrow\">SMOTE</label><div class=\"sk-toggleable__content\"><pre>SMOTE(sampling_strategy={1: 150000, 2: 150000, 3: 150000, 4: 80000})</pre></div></div></div><div class=\"sk-item\"><div class=\"sk-estimator sk-toggleable\"><input class=\"sk-toggleable__control sk-hidden--visually\" id=\"sk-estimator-id-23\" type=\"checkbox\" ><label for=\"sk-estimator-id-23\" class=\"sk-toggleable__label sk-toggleable__label-arrow\">RandomUnderSampler</label><div class=\"sk-toggleable__content\"><pre>RandomUnderSampler(sampling_strategy={0: 250000})</pre></div></div></div><div class=\"sk-item\"><div class=\"sk-estimator sk-toggleable\"><input class=\"sk-toggleable__control sk-hidden--visually\" id=\"sk-estimator-id-24\" type=\"checkbox\" ><label for=\"sk-estimator-id-24\" class=\"sk-toggleable__label sk-toggleable__label-arrow\">StandardScaler</label><div class=\"sk-toggleable__content\"><pre>StandardScaler()</pre></div></div></div><div class=\"sk-item\"><div class=\"sk-estimator sk-toggleable\"><input class=\"sk-toggleable__control sk-hidden--visually\" id=\"sk-estimator-id-25\" type=\"checkbox\" ><label for=\"sk-estimator-id-25\" class=\"sk-toggleable__label sk-toggleable__label-arrow\">XGBClassifier</label><div class=\"sk-toggleable__content\"><pre>XGBClassifier(base_score=None, booster=None, callbacks=None,\n",
       "              colsample_bylevel=None, colsample_bynode=None,\n",
       "              colsample_bytree=None, device=None, early_stopping_rounds=None,\n",
       "              enable_categorical=False, eval_metric=None, feature_types=None,\n",
       "              gamma=None, grow_policy=None, importance_type=None,\n",
       "              interaction_constraints=None, learning_rate=None, max_bin=None,\n",
       "              max_cat_threshold=None, max_cat_to_onehot=None,\n",
       "              max_delta_step=None, max_depth=None, max_leaves=None,\n",
       "              min_child_weight=None, missing=nan, monotone_constraints=None,\n",
       "              multi_strategy=None, n_estimators=None, n_jobs=None,\n",
       "              num_parallel_tree=None, objective=&#x27;multi:softprob&#x27;, ...)</pre></div></div></div></div></div></div></div>"
      ],
      "text/plain": [
       "Pipeline(steps=[('smote',\n",
       "                 SMOTE(sampling_strategy={1: 150000, 2: 150000, 3: 150000,\n",
       "                                          4: 80000})),\n",
       "                ('under', RandomUnderSampler(sampling_strategy={0: 250000})),\n",
       "                ('scaler', StandardScaler()),\n",
       "                ('xgboost',\n",
       "                 XGBClassifier(base_score=None, booster=None, callbacks=None,\n",
       "                               colsample_bylevel=None, colsample_bynode=None,\n",
       "                               colsample_bytree=None, device=None,\n",
       "                               early_stopping_rounds=None,...\n",
       "                               feature_types=None, gamma=None, grow_policy=None,\n",
       "                               importance_type=None,\n",
       "                               interaction_constraints=None, learning_rate=None,\n",
       "                               max_bin=None, max_cat_threshold=None,\n",
       "                               max_cat_to_onehot=None, max_delta_step=None,\n",
       "                               max_depth=None, max_leaves=None,\n",
       "                               min_child_weight=None, missing=nan,\n",
       "                               monotone_constraints=None, multi_strategy=None,\n",
       "                               n_estimators=None, n_jobs=None,\n",
       "                               num_parallel_tree=None,\n",
       "                               objective='multi:softprob', ...))])"
      ]
     },
     "execution_count": 64,
     "metadata": {},
     "output_type": "execute_result"
    }
   ],
   "source": [
    "pipeline_xgboost = imbpipeline(steps=[\n",
    "    ('smote', SMOTE(sampling_strategy=smote_strategy_enc)),\n",
    "    ('under', RandomUnderSampler(sampling_strategy=undersample_strategy_enc)),\n",
    "    ('scaler', StandardScaler()),\n",
    "    ('xgboost', XGBClassifier(verbosity=3))\n",
    "])\n",
    "\n",
    "# Fit the pipeline on the training data\n",
    "pipeline_xgboost.fit(X_train, y_train_encoded)"
   ]
  },
  {
   "cell_type": "code",
   "execution_count": 65,
   "id": "dca347cf",
   "metadata": {},
   "outputs": [
    {
     "name": "stdout",
     "output_type": "stream",
     "text": [
      "[09:34:41] DEBUG: C:\\buildkite-agent\\builds\\buildkite-windows-cpu-autoscaling-group-i-0b3782d1791676daf-1\\xgboost\\xgboost-ci-windows\\src\\gbm\\gbtree.cc:130: Using tree method: 0\n",
      "                     precision    recall  f1-score   support\n",
      "\n",
      "      BenignTraffic       0.99      0.98      0.99    329168\n",
      "Recon-HostDiscovery       0.89      0.95      0.92     40530\n",
      "       Recon-OSScan       0.82      0.80      0.81     29757\n",
      "     Recon-PortScan       0.75      0.80      0.78     24652\n",
      "  VulnerabilityScan       1.00      1.00      1.00     11041\n",
      "\n",
      "           accuracy                           0.96    435148\n",
      "          macro avg       0.89      0.91      0.90    435148\n",
      "       weighted avg       0.96      0.96      0.96    435148\n",
      "\n"
     ]
    }
   ],
   "source": [
    "# Example of making predictions\n",
    "y_pred_encoded = pipeline_xgboost.predict(X_test)\n",
    "y_pred_xgboost = label_encoder.inverse_transform(y_pred_encoded)\n",
    "\n",
    "# Example of evaluation\n",
    "from sklearn.metrics import classification_report\n",
    "print(classification_report(y_test, y_pred_xgboost))"
   ]
  },
  {
   "cell_type": "markdown",
   "id": "d91c3e24",
   "metadata": {},
   "source": [
    "Without tuning hyperparameters we have the best results so far! As this is promising I will check if we can get some other marginal gains by fine tunining it with gridsearchcv.\n",
    "\n",
    "As our weakest point is precision I will optimize for it."
   ]
  },
  {
   "cell_type": "code",
   "execution_count": 66,
   "id": "b0dbce7a",
   "metadata": {},
   "outputs": [
    {
     "name": "stdout",
     "output_type": "stream",
     "text": [
      "Fitting 3 folds for each of 18 candidates, totalling 54 fits\n"
     ]
    },
    {
     "data": {
      "text/html": [
       "<style>#sk-container-id-5 {color: black;}#sk-container-id-5 pre{padding: 0;}#sk-container-id-5 div.sk-toggleable {background-color: white;}#sk-container-id-5 label.sk-toggleable__label {cursor: pointer;display: block;width: 100%;margin-bottom: 0;padding: 0.3em;box-sizing: border-box;text-align: center;}#sk-container-id-5 label.sk-toggleable__label-arrow:before {content: \"▸\";float: left;margin-right: 0.25em;color: #696969;}#sk-container-id-5 label.sk-toggleable__label-arrow:hover:before {color: black;}#sk-container-id-5 div.sk-estimator:hover label.sk-toggleable__label-arrow:before {color: black;}#sk-container-id-5 div.sk-toggleable__content {max-height: 0;max-width: 0;overflow: hidden;text-align: left;background-color: #f0f8ff;}#sk-container-id-5 div.sk-toggleable__content pre {margin: 0.2em;color: black;border-radius: 0.25em;background-color: #f0f8ff;}#sk-container-id-5 input.sk-toggleable__control:checked~div.sk-toggleable__content {max-height: 200px;max-width: 100%;overflow: auto;}#sk-container-id-5 input.sk-toggleable__control:checked~label.sk-toggleable__label-arrow:before {content: \"▾\";}#sk-container-id-5 div.sk-estimator input.sk-toggleable__control:checked~label.sk-toggleable__label {background-color: #d4ebff;}#sk-container-id-5 div.sk-label input.sk-toggleable__control:checked~label.sk-toggleable__label {background-color: #d4ebff;}#sk-container-id-5 input.sk-hidden--visually {border: 0;clip: rect(1px 1px 1px 1px);clip: rect(1px, 1px, 1px, 1px);height: 1px;margin: -1px;overflow: hidden;padding: 0;position: absolute;width: 1px;}#sk-container-id-5 div.sk-estimator {font-family: monospace;background-color: #f0f8ff;border: 1px dotted black;border-radius: 0.25em;box-sizing: border-box;margin-bottom: 0.5em;}#sk-container-id-5 div.sk-estimator:hover {background-color: #d4ebff;}#sk-container-id-5 div.sk-parallel-item::after {content: \"\";width: 100%;border-bottom: 1px solid gray;flex-grow: 1;}#sk-container-id-5 div.sk-label:hover label.sk-toggleable__label {background-color: #d4ebff;}#sk-container-id-5 div.sk-serial::before {content: \"\";position: absolute;border-left: 1px solid gray;box-sizing: border-box;top: 0;bottom: 0;left: 50%;z-index: 0;}#sk-container-id-5 div.sk-serial {display: flex;flex-direction: column;align-items: center;background-color: white;padding-right: 0.2em;padding-left: 0.2em;position: relative;}#sk-container-id-5 div.sk-item {position: relative;z-index: 1;}#sk-container-id-5 div.sk-parallel {display: flex;align-items: stretch;justify-content: center;background-color: white;position: relative;}#sk-container-id-5 div.sk-item::before, #sk-container-id-5 div.sk-parallel-item::before {content: \"\";position: absolute;border-left: 1px solid gray;box-sizing: border-box;top: 0;bottom: 0;left: 50%;z-index: -1;}#sk-container-id-5 div.sk-parallel-item {display: flex;flex-direction: column;z-index: 1;position: relative;background-color: white;}#sk-container-id-5 div.sk-parallel-item:first-child::after {align-self: flex-end;width: 50%;}#sk-container-id-5 div.sk-parallel-item:last-child::after {align-self: flex-start;width: 50%;}#sk-container-id-5 div.sk-parallel-item:only-child::after {width: 0;}#sk-container-id-5 div.sk-dashed-wrapped {border: 1px dashed gray;margin: 0 0.4em 0.5em 0.4em;box-sizing: border-box;padding-bottom: 0.4em;background-color: white;}#sk-container-id-5 div.sk-label label {font-family: monospace;font-weight: bold;display: inline-block;line-height: 1.2em;}#sk-container-id-5 div.sk-label-container {text-align: center;}#sk-container-id-5 div.sk-container {/* jupyter's `normalize.less` sets `[hidden] { display: none; }` but bootstrap.min.css set `[hidden] { display: none !important; }` so we also need the `!important` here to be able to override the default hidden behavior on the sphinx rendered scikit-learn.org. See: https://github.com/scikit-learn/scikit-learn/issues/21755 */display: inline-block !important;position: relative;}#sk-container-id-5 div.sk-text-repr-fallback {display: none;}</style><div id=\"sk-container-id-5\" class=\"sk-top-container\"><div class=\"sk-text-repr-fallback\"><pre>GridSearchCV(cv=3,\n",
       "             estimator=Pipeline(steps=[(&#x27;smote&#x27;,\n",
       "                                        SMOTE(sampling_strategy={1: 150000,\n",
       "                                                                 2: 150000,\n",
       "                                                                 3: 150000,\n",
       "                                                                 4: 80000})),\n",
       "                                       (&#x27;under&#x27;,\n",
       "                                        RandomUnderSampler(sampling_strategy={0: 250000})),\n",
       "                                       (&#x27;scaler&#x27;, StandardScaler()),\n",
       "                                       (&#x27;xgboost&#x27;,\n",
       "                                        XGBClassifier(base_score=None,\n",
       "                                                      booster=None,\n",
       "                                                      callbacks=None,\n",
       "                                                      colsample_bylevel=None,\n",
       "                                                      colsample_bynode=None,\n",
       "                                                      colsample_bytree=None,\n",
       "                                                      device=None...\n",
       "                                                      max_leaves=None,\n",
       "                                                      min_child_weight=None,\n",
       "                                                      missing=nan,\n",
       "                                                      monotone_constraints=None,\n",
       "                                                      multi_strategy=None,\n",
       "                                                      n_estimators=None,\n",
       "                                                      n_jobs=None,\n",
       "                                                      num_parallel_tree=None,\n",
       "                                                      random_state=None, ...))]),\n",
       "             n_jobs=-1,\n",
       "             param_grid={&#x27;xgboost__learning_rate&#x27;: [0.01, 0.1, 0.2],\n",
       "                         &#x27;xgboost__max_depth&#x27;: [3, 5, 7],\n",
       "                         &#x27;xgboost__n_estimators&#x27;: [100, 200]},\n",
       "             scoring=make_scorer(precision_score, average=macro), verbose=3)</pre><b>In a Jupyter environment, please rerun this cell to show the HTML representation or trust the notebook. <br />On GitHub, the HTML representation is unable to render, please try loading this page with nbviewer.org.</b></div><div class=\"sk-container\" hidden><div class=\"sk-item sk-dashed-wrapped\"><div class=\"sk-label-container\"><div class=\"sk-label sk-toggleable\"><input class=\"sk-toggleable__control sk-hidden--visually\" id=\"sk-estimator-id-26\" type=\"checkbox\" ><label for=\"sk-estimator-id-26\" class=\"sk-toggleable__label sk-toggleable__label-arrow\">GridSearchCV</label><div class=\"sk-toggleable__content\"><pre>GridSearchCV(cv=3,\n",
       "             estimator=Pipeline(steps=[(&#x27;smote&#x27;,\n",
       "                                        SMOTE(sampling_strategy={1: 150000,\n",
       "                                                                 2: 150000,\n",
       "                                                                 3: 150000,\n",
       "                                                                 4: 80000})),\n",
       "                                       (&#x27;under&#x27;,\n",
       "                                        RandomUnderSampler(sampling_strategy={0: 250000})),\n",
       "                                       (&#x27;scaler&#x27;, StandardScaler()),\n",
       "                                       (&#x27;xgboost&#x27;,\n",
       "                                        XGBClassifier(base_score=None,\n",
       "                                                      booster=None,\n",
       "                                                      callbacks=None,\n",
       "                                                      colsample_bylevel=None,\n",
       "                                                      colsample_bynode=None,\n",
       "                                                      colsample_bytree=None,\n",
       "                                                      device=None...\n",
       "                                                      max_leaves=None,\n",
       "                                                      min_child_weight=None,\n",
       "                                                      missing=nan,\n",
       "                                                      monotone_constraints=None,\n",
       "                                                      multi_strategy=None,\n",
       "                                                      n_estimators=None,\n",
       "                                                      n_jobs=None,\n",
       "                                                      num_parallel_tree=None,\n",
       "                                                      random_state=None, ...))]),\n",
       "             n_jobs=-1,\n",
       "             param_grid={&#x27;xgboost__learning_rate&#x27;: [0.01, 0.1, 0.2],\n",
       "                         &#x27;xgboost__max_depth&#x27;: [3, 5, 7],\n",
       "                         &#x27;xgboost__n_estimators&#x27;: [100, 200]},\n",
       "             scoring=make_scorer(precision_score, average=macro), verbose=3)</pre></div></div></div><div class=\"sk-parallel\"><div class=\"sk-parallel-item\"><div class=\"sk-item\"><div class=\"sk-label-container\"><div class=\"sk-label sk-toggleable\"><input class=\"sk-toggleable__control sk-hidden--visually\" id=\"sk-estimator-id-27\" type=\"checkbox\" ><label for=\"sk-estimator-id-27\" class=\"sk-toggleable__label sk-toggleable__label-arrow\">estimator: Pipeline</label><div class=\"sk-toggleable__content\"><pre>Pipeline(steps=[(&#x27;smote&#x27;,\n",
       "                 SMOTE(sampling_strategy={1: 150000, 2: 150000, 3: 150000,\n",
       "                                          4: 80000})),\n",
       "                (&#x27;under&#x27;, RandomUnderSampler(sampling_strategy={0: 250000})),\n",
       "                (&#x27;scaler&#x27;, StandardScaler()),\n",
       "                (&#x27;xgboost&#x27;,\n",
       "                 XGBClassifier(base_score=None, booster=None, callbacks=None,\n",
       "                               colsample_bylevel=None, colsample_bynode=None,\n",
       "                               colsample_bytree=None, device=None,\n",
       "                               early_stopping_rounds=None,...\n",
       "                               feature_types=None, gamma=None, grow_policy=None,\n",
       "                               importance_type=None,\n",
       "                               interaction_constraints=None, learning_rate=None,\n",
       "                               max_bin=None, max_cat_threshold=None,\n",
       "                               max_cat_to_onehot=None, max_delta_step=None,\n",
       "                               max_depth=None, max_leaves=None,\n",
       "                               min_child_weight=None, missing=nan,\n",
       "                               monotone_constraints=None, multi_strategy=None,\n",
       "                               n_estimators=None, n_jobs=None,\n",
       "                               num_parallel_tree=None, random_state=None, ...))])</pre></div></div></div><div class=\"sk-serial\"><div class=\"sk-item\"><div class=\"sk-serial\"><div class=\"sk-item\"><div class=\"sk-estimator sk-toggleable\"><input class=\"sk-toggleable__control sk-hidden--visually\" id=\"sk-estimator-id-28\" type=\"checkbox\" ><label for=\"sk-estimator-id-28\" class=\"sk-toggleable__label sk-toggleable__label-arrow\">SMOTE</label><div class=\"sk-toggleable__content\"><pre>SMOTE(sampling_strategy={1: 150000, 2: 150000, 3: 150000, 4: 80000})</pre></div></div></div><div class=\"sk-item\"><div class=\"sk-estimator sk-toggleable\"><input class=\"sk-toggleable__control sk-hidden--visually\" id=\"sk-estimator-id-29\" type=\"checkbox\" ><label for=\"sk-estimator-id-29\" class=\"sk-toggleable__label sk-toggleable__label-arrow\">RandomUnderSampler</label><div class=\"sk-toggleable__content\"><pre>RandomUnderSampler(sampling_strategy={0: 250000})</pre></div></div></div><div class=\"sk-item\"><div class=\"sk-estimator sk-toggleable\"><input class=\"sk-toggleable__control sk-hidden--visually\" id=\"sk-estimator-id-30\" type=\"checkbox\" ><label for=\"sk-estimator-id-30\" class=\"sk-toggleable__label sk-toggleable__label-arrow\">StandardScaler</label><div class=\"sk-toggleable__content\"><pre>StandardScaler()</pre></div></div></div><div class=\"sk-item\"><div class=\"sk-estimator sk-toggleable\"><input class=\"sk-toggleable__control sk-hidden--visually\" id=\"sk-estimator-id-31\" type=\"checkbox\" ><label for=\"sk-estimator-id-31\" class=\"sk-toggleable__label sk-toggleable__label-arrow\">XGBClassifier</label><div class=\"sk-toggleable__content\"><pre>XGBClassifier(base_score=None, booster=None, callbacks=None,\n",
       "              colsample_bylevel=None, colsample_bynode=None,\n",
       "              colsample_bytree=None, device=None, early_stopping_rounds=None,\n",
       "              enable_categorical=False, eval_metric=None, feature_types=None,\n",
       "              gamma=None, grow_policy=None, importance_type=None,\n",
       "              interaction_constraints=None, learning_rate=None, max_bin=None,\n",
       "              max_cat_threshold=None, max_cat_to_onehot=None,\n",
       "              max_delta_step=None, max_depth=None, max_leaves=None,\n",
       "              min_child_weight=None, missing=nan, monotone_constraints=None,\n",
       "              multi_strategy=None, n_estimators=None, n_jobs=None,\n",
       "              num_parallel_tree=None, random_state=None, ...)</pre></div></div></div></div></div></div></div></div></div></div></div></div>"
      ],
      "text/plain": [
       "GridSearchCV(cv=3,\n",
       "             estimator=Pipeline(steps=[('smote',\n",
       "                                        SMOTE(sampling_strategy={1: 150000,\n",
       "                                                                 2: 150000,\n",
       "                                                                 3: 150000,\n",
       "                                                                 4: 80000})),\n",
       "                                       ('under',\n",
       "                                        RandomUnderSampler(sampling_strategy={0: 250000})),\n",
       "                                       ('scaler', StandardScaler()),\n",
       "                                       ('xgboost',\n",
       "                                        XGBClassifier(base_score=None,\n",
       "                                                      booster=None,\n",
       "                                                      callbacks=None,\n",
       "                                                      colsample_bylevel=None,\n",
       "                                                      colsample_bynode=None,\n",
       "                                                      colsample_bytree=None,\n",
       "                                                      device=None...\n",
       "                                                      max_leaves=None,\n",
       "                                                      min_child_weight=None,\n",
       "                                                      missing=nan,\n",
       "                                                      monotone_constraints=None,\n",
       "                                                      multi_strategy=None,\n",
       "                                                      n_estimators=None,\n",
       "                                                      n_jobs=None,\n",
       "                                                      num_parallel_tree=None,\n",
       "                                                      random_state=None, ...))]),\n",
       "             n_jobs=-1,\n",
       "             param_grid={'xgboost__learning_rate': [0.01, 0.1, 0.2],\n",
       "                         'xgboost__max_depth': [3, 5, 7],\n",
       "                         'xgboost__n_estimators': [100, 200]},\n",
       "             scoring=make_scorer(precision_score, average=macro), verbose=3)"
      ]
     },
     "execution_count": 66,
     "metadata": {},
     "output_type": "execute_result"
    }
   ],
   "source": [
    "# Define the pipeline\n",
    "pipeline_xgboost = imbpipeline(steps=[\n",
    "    ('smote', SMOTE(sampling_strategy=smote_strategy_enc)),\n",
    "    ('under', RandomUnderSampler(sampling_strategy=undersample_strategy_enc)),\n",
    "    ('scaler', StandardScaler()),\n",
    "    ('xgboost', XGBClassifier(verbosity=2))\n",
    "])\n",
    "\n",
    "# Define the parameter grid for XGBoost\n",
    "param_grid = {\n",
    "    'xgboost__n_estimators': [100, 200],\n",
    "    'xgboost__max_depth': [3, 5, 7],\n",
    "    'xgboost__learning_rate': [0.01, 0.1, 0.2],\n",
    "    \n",
    "}\n",
    "\n",
    "\n",
    "# Define custom scorer for precision\n",
    "precision_scorer = make_scorer(precision_score, average='macro')\n",
    "\n",
    "# Create GridSearchCV object\n",
    "grid_search_xgboost = GridSearchCV(pipeline_xgboost, param_grid, scoring=precision_scorer, cv=3, verbose=3, n_jobs=-1)\n",
    "\n",
    "# Fit GridSearchCV\n",
    "grid_search_xgboost.fit(X_train, y_train_encoded)"
   ]
  },
  {
   "cell_type": "code",
   "execution_count": 67,
   "id": "08e949e2",
   "metadata": {},
   "outputs": [
    {
     "name": "stdout",
     "output_type": "stream",
     "text": [
      "Best parameters found:  {'xgboost__learning_rate': 0.2, 'xgboost__max_depth': 7, 'xgboost__n_estimators': 200}\n"
     ]
    }
   ],
   "source": [
    "# Print the best hyperparameters found\n",
    "print(\"Best parameters found: \", grid_search_xgboost.best_params_)\n"
   ]
  },
  {
   "cell_type": "markdown",
   "id": "248930c5",
   "metadata": {},
   "source": [
    "Best parameters found:  {'xgboost__learning_rate': 0.2, 'xgboost__max_depth': 7, 'xgboost__n_estimators': 200}"
   ]
  },
  {
   "cell_type": "code",
   "execution_count": 68,
   "id": "4236ba04",
   "metadata": {},
   "outputs": [
    {
     "name": "stdout",
     "output_type": "stream",
     "text": [
      "Best estimator:  Pipeline(steps=[('smote',\n",
      "                 SMOTE(sampling_strategy={1: 150000, 2: 150000, 3: 150000,\n",
      "                                          4: 80000})),\n",
      "                ('under', RandomUnderSampler(sampling_strategy={0: 250000})),\n",
      "                ('scaler', StandardScaler()),\n",
      "                ('xgboost',\n",
      "                 XGBClassifier(base_score=None, booster=None, callbacks=None,\n",
      "                               colsample_bylevel=None, colsample_bynode=None,\n",
      "                               colsample_bytree=None, device=None,\n",
      "                               early_stopping_rounds=None,...\n",
      "                               feature_types=None, gamma=None, grow_policy=None,\n",
      "                               importance_type=None,\n",
      "                               interaction_constraints=None, learning_rate=0.2,\n",
      "                               max_bin=None, max_cat_threshold=None,\n",
      "                               max_cat_to_onehot=None, max_delta_step=None,\n",
      "                               max_depth=7, max_leaves=None,\n",
      "                               min_child_weight=None, missing=nan,\n",
      "                               monotone_constraints=None, multi_strategy=None,\n",
      "                               n_estimators=200, n_jobs=None,\n",
      "                               num_parallel_tree=None,\n",
      "                               objective='multi:softprob', ...))])\n"
     ]
    }
   ],
   "source": [
    "# Get the best estimator\n",
    "best_model = grid_search_xgboost.best_estimator_\n",
    "\n",
    "# Print the best estimator\n",
    "print(\"Best estimator: \", best_model)\n"
   ]
  },
  {
   "cell_type": "markdown",
   "id": "f825c37c",
   "metadata": {},
   "source": [
    "Let's check the classification properties."
   ]
  },
  {
   "cell_type": "code",
   "execution_count": 69,
   "id": "a89f620e",
   "metadata": {},
   "outputs": [
    {
     "name": "stdout",
     "output_type": "stream",
     "text": [
      "                     precision    recall  f1-score   support\n",
      "\n",
      "      BenignTraffic       0.99      0.98      0.99    329168\n",
      "Recon-HostDiscovery       0.90      0.96      0.93     40530\n",
      "       Recon-OSScan       0.83      0.80      0.81     29757\n",
      "     Recon-PortScan       0.76      0.81      0.79     24652\n",
      "  VulnerabilityScan       1.00      1.00      1.00     11041\n",
      "\n",
      "           accuracy                           0.96    435148\n",
      "          macro avg       0.90      0.91      0.90    435148\n",
      "       weighted avg       0.96      0.96      0.96    435148\n",
      "\n"
     ]
    }
   ],
   "source": [
    "y_pred_encoded = grid_search_xgboost.predict(X_test)\n",
    "y_pred_xgboost = label_encoder.inverse_transform(y_pred_encoded)\n",
    "\n",
    "\n",
    "\n",
    "print(classification_report(y_test, y_pred_xgboost))"
   ]
  },
  {
   "cell_type": "markdown",
   "id": "c1636bfd",
   "metadata": {},
   "source": [
    "Pretty impressive. Let's see how much it overfits."
   ]
  },
  {
   "cell_type": "code",
   "execution_count": 71,
   "id": "8571105b",
   "metadata": {},
   "outputs": [
    {
     "name": "stdout",
     "output_type": "stream",
     "text": [
      "                     precision    recall  f1-score   support\n",
      "\n",
      "      BenignTraffic       0.99      0.98      0.99    769027\n",
      "Recon-HostDiscovery       0.91      0.97      0.94     93847\n",
      "       Recon-OSScan       0.85      0.83      0.84     68502\n",
      "     Recon-PortScan       0.80      0.85      0.82     57628\n",
      "  VulnerabilityScan       1.00      1.00      1.00     26341\n",
      "\n",
      "           accuracy                           0.96   1015345\n",
      "          macro avg       0.91      0.93      0.92   1015345\n",
      "       weighted avg       0.97      0.96      0.97   1015345\n",
      "\n"
     ]
    }
   ],
   "source": [
    "y_pred_encoded_train = grid_search_xgboost.predict(X_train)\n",
    "y_pred_xgboost_train = label_encoder.inverse_transform(y_pred_encoded_train)\n",
    "\n",
    "\n",
    "print(classification_report(y_train, y_pred_xgboost_train))"
   ]
  },
  {
   "cell_type": "markdown",
   "id": "929fc792",
   "metadata": {},
   "source": [
    "Very, very minimal overfitting: our model generalizes well. Before other checks let's save the model."
   ]
  },
  {
   "cell_type": "code",
   "execution_count": 72,
   "id": "9e3d990a",
   "metadata": {},
   "outputs": [],
   "source": [
    "with open('gridsearch_xgboost.pkl', 'wb') as file:\n",
    "    pickle.dump(grid_search_xgboost, file)"
   ]
  },
  {
   "cell_type": "markdown",
   "id": "779bc864",
   "metadata": {},
   "source": [
    "Now let's inspect it. I want to see which features played a crucial role and how is the feature importance distributed."
   ]
  },
  {
   "cell_type": "code",
   "execution_count": 72,
   "id": "725e5840",
   "metadata": {},
   "outputs": [
    {
     "data": {
      "image/png": "[encoded data removed]",
      "text/plain": [
       "<Figure size 1000x600 with 1 Axes>"
      ]
     },
     "metadata": {},
     "output_type": "display_data"
    }
   ],
   "source": [
    "\n",
    "\n",
    "# Load the model from the file\n",
    "with open('gridsearch_xgboost.pkl', 'rb') as file:\n",
    "    grid_search_xgboost = pickle.load(file)\n",
    "\n",
    "\n",
    "# Extract the XGBoost model from the pipeline\n",
    "xgboost_model = grid_search_xgboost.best_estimator_.named_steps['xgboost']\n",
    "\n",
    "# Extract feature importances\n",
    "feature_importances = xgboost_model.feature_importances_\n",
    "\n",
    "# Sort the feature importances in descending order and calculate the cumulative importance\n",
    "sorted_idx = np.argsort(feature_importances)[::-1]\n",
    "sorted_importances = feature_importances[sorted_idx]\n",
    "cumulative_importances = np.cumsum(sorted_importances)\n",
    "\n",
    "# Plot the cumulative importance\n",
    "plt.figure(figsize=(10, 6))\n",
    "plt.plot(range(len(cumulative_importances)), cumulative_importances, marker='o', linestyle='-', color='b')\n",
    "plt.title('Cumulative Feature Importance')\n",
    "plt.xlabel('Number of Features')\n",
    "plt.ylabel('Cumulative Importance')\n",
    "plt.grid(True)\n",
    "plt.show()\n"
   ]
  },
  {
   "cell_type": "markdown",
   "id": "efaa7fec",
   "metadata": {},
   "source": [
    "Our familiar distribution but with an even sharper rise! Let's see: which of the features did all the heavy lifting?"
   ]
  },
  {
   "cell_type": "code",
   "execution_count": 73,
   "id": "aa114843",
   "metadata": {},
   "outputs": [
    {
     "name": "stdout",
     "output_type": "stream",
     "text": [
      "Top 10 Features:\n",
      "1. Feature: weight, Importance: 0.3394705653190613\n",
      "2. Feature: iat, Importance: 0.22275781631469727\n",
      "3. Feature: number, Importance: 0.18389537930488586\n",
      "4. Feature: adaboost_binary_pred, Importance: 0.1301238089799881\n",
      "5. Feature: ack_count, Importance: 0.01783524453639984\n",
      "6. Feature: http, Importance: 0.013045590370893478\n",
      "7. Feature: syn_flag_number, Importance: 0.010661381296813488\n",
      "8. Feature: tot_sum, Importance: 0.009321779012680054\n",
      "9. Feature: protocol_type_BBN-RCC-MON, Importance: 0.0048717535100877285\n",
      "10. Feature: protocol_type_IGP, Importance: 0.004586947150528431\n"
     ]
    }
   ],
   "source": [
    "\n",
    "feature_names = X_test.columns \n",
    "\n",
    "# Extract the feature importances and sort them\n",
    "sorted_indices = np.argsort(xgboost_model.feature_importances_)[::-1]\n",
    "sorted_features = np.array(feature_names)[sorted_indices]\n",
    "sorted_importances = xgboost_model.feature_importances_[sorted_indices]\n",
    "\n",
    "# Display the top 10 most important features\n",
    "print(\"Top 10 Features:\")\n",
    "for i in range(10):\n",
    "    print(f\"{i+1}. Feature: {sorted_features[i]}, Importance: {sorted_importances[i]}\")\n"
   ]
  },
  {
   "cell_type": "markdown",
   "id": "52fbb1d5",
   "metadata": {},
   "source": [
    "We can see that the traffic weight (Number of incoming packets × Number of outgoing packets) is the most important metric. Not surprising: attacks tend to have higher number of packets (we have number feature at number 4 providing essentially the same information).\n",
    "Then we have iat, the time difference between the packets. The more an attacker indulges in recon activities the higher the chances to trigger automated system responses. For this reasons recon activities need to be fast and efficient. Our XG Boost recognized just that.\n",
    "Our adaboost feature is at number 4, meaning our modelling strategy was indeed succesful.\n"
   ]
  },
  {
   "cell_type": "markdown",
   "id": "8f558232",
   "metadata": {},
   "source": [
    "We see that our XG Boost generalizes very well (I'm genuinely impressed!) and had better scores across the board vs our Random Forest. \n",
    "Perhaps most importantly its results are explainable.\n",
    "At a current stage it's our best model for the multiclassification task."
   ]
  },
  {
   "cell_type": "markdown",
   "id": "c6f47235",
   "metadata": {},
   "source": [
    "## Modeling Conclusion:\n",
    "\n",
    "After a good number of different classifiers that I experimented with, after the rework in preprocessing and feature engineering we have reached a satisfactory level of confidence in predicting the occurence of an attack and the attack surface.\n",
    "\n",
    "The occurence of recon attack was predicted with Adaboost based on optimezed tree classifier with Recall Macro Average at 95%+. \n",
    "\n",
    "We also found success in identifying the surface area (or the kind of cyberattack) with a 91%+  Macro Recall Score. We achieved this through an optimized version of adaboost and through the usage of the Adaboost predictions. This ensable model really did a great job although Port and OS scan had sensibly lower scores.\n",
    "\n",
    "Both of the models seems to generalize quite well as overfitting is minimal.\n",
    "\n",
    "## Next steps\n",
    "\n",
    "The natural next step would be to employ deep learning to the multiclass problem in isolation and as a component in techniques like stacking.\n",
    "The overall system would greatly benefit from the introduction of different models other than tree based methods as they could introduce a little bit of diversity in the prediction that could potentially benefit a meta-learner.\n",
    "\n",
    "In general threshold based models have been really pushed to their limits in this work and any further refinement like changing the number of estimators would likely lead to overfitting. There is a need for a different \n",
    "\n",
    "But that will be for the next sprint!\n"
   ]
  },
  {
   "cell_type": "markdown",
   "id": "0c6fc087",
   "metadata": {},
   "source": [
    "## Inference setup\n",
    "\n",
    "I will now proceed to setup the data and the models for our two-stage inference process. To do so I will only need to remove the adaboost preiction from our X_test data.\n",
    "We have already saved our models, now we can save our data.\n",
    "\n",
    "As a reminder I will outline here the inference process:\n",
    "\n",
    "- Load samples from X_test\n",
    "- Predict with our adaboost model\n",
    "- Store the results as a column\n",
    "- Predict with our XG Boost\n",
    "\n",
    "A note, I deliberately didn't apply feature selection steps that could make inference process less intuitive. The plan is in fact to apply another modelling layer to better predict device-based attacks.\n"
   ]
  },
  {
   "cell_type": "code",
   "execution_count": 35,
   "id": "d1d71bb0",
   "metadata": {},
   "outputs": [
    {
     "data": {
      "text/plain": [
       "Index(['flow_duration', 'header_length', 'duration', 'rate', 'srate', 'drate',\n",
       "       'fin_flag_number', 'syn_flag_number', 'rst_flag_number',\n",
       "       'psh_flag_number', 'ack_flag_number', 'ece_flag_number',\n",
       "       'cwr_flag_number', 'ack_count', 'syn_count', 'fin_count', 'urg_count',\n",
       "       'rst_count', 'http', 'https', 'dns', 'telnet', 'smtp', 'ssh', 'irc',\n",
       "       'tcp', 'udp', 'dhcp', 'arp', 'icmp', 'ipv', 'llc', 'tot_sum', 'min',\n",
       "       'max', 'avg', 'std', 'tot_size', 'iat', 'number', 'magnitue', 'radius',\n",
       "       'covariance', 'variance', 'weight', 'magnitude',\n",
       "       'protocol_type_ARGUS (deprecated)', 'protocol_type_BBN-RCC-MON',\n",
       "       'protocol_type_CBT', 'protocol_type_CHAOS', 'protocol_type_EGP',\n",
       "       'protocol_type_EMCON', 'protocol_type_GGP', 'protocol_type_HOPOPT',\n",
       "       'protocol_type_ICMP', 'protocol_type_IGMP', 'protocol_type_IGP',\n",
       "       'protocol_type_IPv4', 'protocol_type_NVP-II', 'protocol_type_PUP',\n",
       "       'protocol_type_ST', 'protocol_type_TCP', 'protocol_type_UDP',\n",
       "       'protocol_type_XNET', 'adaboost_binary_pred'],\n",
       "      dtype='object')"
      ]
     },
     "execution_count": 35,
     "metadata": {},
     "output_type": "execute_result"
    }
   ],
   "source": [
    "X_test.columns"
   ]
  },
  {
   "cell_type": "code",
   "execution_count": 38,
   "id": "a863704e",
   "metadata": {},
   "outputs": [],
   "source": [
    "X_test.drop(['adaboost_binary_pred'], axis=1).to_csv('X_test.csv',index=False)"
   ]
  }
 ],
 "metadata": {
  "kernelspec": {
   "display_name": "cybersec",
   "language": "python",
   "name": "python3"
  },
  "language_info": {
   "codemirror_mode": {
    "name": "ipython",
    "version": 3
   },
   "file_extension": ".py",
   "mimetype": "text/x-python",
   "name": "python",
   "nbconvert_exporter": "python",
   "pygments_lexer": "ipython3",
   "version": "3.8.18"
  }
 },
 "nbformat": 4,
 "nbformat_minor": 5
}
